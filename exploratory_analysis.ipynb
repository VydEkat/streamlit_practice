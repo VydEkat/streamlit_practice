{
  "nbformat": 4,
  "nbformat_minor": 0,
  "metadata": {
    "colab": {
      "provenance": []
    },
    "kernelspec": {
      "name": "python3",
      "display_name": "Python 3"
    },
    "language_info": {
      "name": "python"
    }
  },
  "cells": [
    {
      "cell_type": "markdown",
      "source": [
        "# Разведочный анализ данных и начало машинного обучения\n",
        "\n"
      ],
      "metadata": {
        "id": "X5AvPWunfLYp"
      }
    },
    {
      "cell_type": "code",
      "source": [
        "import numpy as np\n",
        "import pandas as pd\n",
        "import seaborn as sns\n",
        "import matplotlib.pyplot as plt"
      ],
      "metadata": {
        "id": "1jGuAS6bi0i6"
      },
      "execution_count": 273,
      "outputs": []
    },
    {
      "cell_type": "code",
      "execution_count": 274,
      "metadata": {
        "id": "751hoUeCdqyD"
      },
      "outputs": [],
      "source": [
        "df = pd.read_csv(\"https://raw.githubusercontent.com/evgpat/edu_stepik_from_idea_to_mvp/main/datasets/clients.csv\")"
      ]
    },
    {
      "cell_type": "markdown",
      "source": [
        "## Описание данных\n",
        "\n",
        "Клиенты авиакомпании\n",
        "Датасет содержит информацию о клиентах некоторой авиакомпании.\n",
        "\n",
        "Целевая переменная (таргет) – satisfaction (удовлетворенность клиента полетом), бинарная (satisfied или neutral or dissatisfied)\n",
        "## Признаки\n",
        "\n",
        "* Gender (categorical: Male или Female): пол клиента\n",
        "* Age (numeric, int): количество полных лет\n",
        "* Customer Type (categorical: Loyal Customer или disloyal Customer): лоялен ли клиент авиакомпании?\n",
        "* Type of Travel (categorical: Business travel или Personal Travel): тип поездки\n",
        "* Class (categorical: Business или Eco, или Eco Plus): класс обслуживания в самолете\n",
        "* Flight Distance (numeric, int): дальность перелета (в милях)\n",
        "* Departure Delay in Minutes (numeric, int): задержка отправления (неотрицательная)\n",
        "* Arrival Delay in Minutes (numeric, int): задержка прибытия (неотрицательная)\n",
        "\n",
        "## Признаки, перечисленные ниже, являются числовыми. По смыслу они категориальные: клиент ставил оценку от 1-го до 5-ти включительно. Есть выбросы!\n",
        "\n",
        "* Inflight wifi service (categorical, int): оценка клиентом интернета на борту\n",
        "* Departure/Arrival time convenient (categorical, int): оценка клиентом удобство времени прилета и вылета\n",
        "* Ease of Online booking (categorical, int): оценка клиентом удобства онлайн-бронирования\n",
        "* Gate location (categorical, int): оценка клиентом расположения выхода на посадку в аэропорту\n",
        "* Food and drink (categorical, int): оценка клиентом еды и напитков на борту\n",
        "* Online boarding (categorical, int): оценка клиентом выбора места в самолете\n",
        "* Seat comfort (categorical, int): оценка клиентом удобства сиденья\n",
        "* Inflight entertainment (categorical, int): оценка клиентом развлечений на борту\n",
        "* On-board service (categorical, int): оценка клиентом обслуживания на борту\n",
        "* Leg room service (categorical, int): оценка клиентом места в ногах на борту\n",
        "* Baggage handling (categorical, int): оценка клиентом обращения с багажом\n",
        "* Checkin service (categorical, int): оценка клиентом регистрации на рейс\n",
        "* Inflight service (categorical, int): оценка клиентом обслуживания на борту\n",
        "* Cleanliness (categorical, int): оценка клиентом чистоты на борту\n"
      ],
      "metadata": {
        "id": "hOpCl-cxeV6l"
      }
    },
    {
      "cell_type": "code",
      "source": [
        "df.head(10)"
      ],
      "metadata": {
        "colab": {
          "base_uri": "https://localhost:8080/",
          "height": 662
        },
        "id": "f-umDGeWdxqB",
        "outputId": "ddf9f99a-2dc7-4bd9-bb33-050d45486afe"
      },
      "execution_count": 275,
      "outputs": [
        {
          "output_type": "execute_result",
          "data": {
            "text/plain": [
              "   id  Gender   Age      Customer Type   Type of Travel     Class  \\\n",
              "0   1    Male  48.0  disloyal Customer  Business travel  Business   \n",
              "1   2  Female  35.0     Loyal Customer  Business travel  Business   \n",
              "2   3    Male  41.0     Loyal Customer  Business travel  Business   \n",
              "3   4    Male  50.0     Loyal Customer  Business travel  Business   \n",
              "4   5  Female  49.0     Loyal Customer  Business travel  Business   \n",
              "5   6    Male  43.0     Loyal Customer  Business travel  Business   \n",
              "6   7    Male  43.0     Loyal Customer  Business travel  Business   \n",
              "7   8  Female  60.0     Loyal Customer  Business travel  Business   \n",
              "8   9    Male  50.0     Loyal Customer  Business travel  Business   \n",
              "9  10  Female  38.0     Loyal Customer  Business travel  Business   \n",
              "\n",
              "   Flight Distance  Departure Delay in Minutes  Arrival Delay in Minutes  \\\n",
              "0            821.0                         2.0                       5.0   \n",
              "1            821.0                        26.0                      39.0   \n",
              "2            853.0                         0.0                       0.0   \n",
              "3           1905.0                         0.0                       0.0   \n",
              "4           3470.0                         0.0                       1.0   \n",
              "5           3788.0                         0.0                       0.0   \n",
              "6           1963.0                         0.0                       0.0   \n",
              "7            853.0                         0.0                       3.0   \n",
              "8           2607.0                         0.0                       0.0   \n",
              "9           2822.0                        13.0                       0.0   \n",
              "\n",
              "   Inflight wifi service  ...  Online boarding  Seat comfort  \\\n",
              "0                    3.0  ...              3.0           5.0   \n",
              "1                    2.0  ...              5.0           4.0   \n",
              "2                    4.0  ...              5.0           5.0   \n",
              "3                    2.0  ...              4.0           5.0   \n",
              "4                    3.0  ...              5.0           4.0   \n",
              "5                    4.0  ...              5.0           4.0   \n",
              "6                    3.0  ...              4.0           5.0   \n",
              "7                    4.0  ...              4.0           4.0   \n",
              "8                    4.0  ...              2.0           3.0   \n",
              "9                    2.0  ...              5.0           4.0   \n",
              "\n",
              "   Inflight entertainment  On-board service  Leg room service  \\\n",
              "0                     5.0               3.0               2.0   \n",
              "1                     5.0               5.0               5.0   \n",
              "2                     3.0               3.0               3.0   \n",
              "3                     5.0               5.0               5.0   \n",
              "4                     3.0               3.0               4.0   \n",
              "5                     4.0               4.0               4.0   \n",
              "6                     5.0               5.0               5.0   \n",
              "7                     3.0               3.0               4.0   \n",
              "8                     4.0               4.0               4.0   \n",
              "9                     5.0               5.0               5.0   \n",
              "\n",
              "   Baggage handling  Checkin service  Inflight service  Cleanliness  \\\n",
              "0               5.0              4.0               5.0          5.0   \n",
              "1               5.0              3.0               5.0          5.0   \n",
              "2               3.0              4.0               3.0          5.0   \n",
              "3               5.0              3.0               5.0          4.0   \n",
              "4               3.0              3.0               3.0          5.0   \n",
              "5               4.0              3.0               4.0          3.0   \n",
              "6               5.0              4.0               5.0          4.0   \n",
              "7               3.0              3.0               3.0          4.0   \n",
              "8               4.0              3.0               4.0          3.0   \n",
              "9               5.0              3.0               5.0          4.0   \n",
              "\n",
              "              satisfaction  \n",
              "0  neutral or dissatisfied  \n",
              "1                satisfied  \n",
              "2                satisfied  \n",
              "3                satisfied  \n",
              "4                satisfied  \n",
              "5                satisfied  \n",
              "6                satisfied  \n",
              "7                satisfied  \n",
              "8  neutral or dissatisfied  \n",
              "9                satisfied  \n",
              "\n",
              "[10 rows x 24 columns]"
            ],
            "text/html": [
              "\n",
              "  <div id=\"df-e83f0a3a-abdc-4a22-bd87-4387d8f74fa4\">\n",
              "    <div class=\"colab-df-container\">\n",
              "      <div>\n",
              "<style scoped>\n",
              "    .dataframe tbody tr th:only-of-type {\n",
              "        vertical-align: middle;\n",
              "    }\n",
              "\n",
              "    .dataframe tbody tr th {\n",
              "        vertical-align: top;\n",
              "    }\n",
              "\n",
              "    .dataframe thead th {\n",
              "        text-align: right;\n",
              "    }\n",
              "</style>\n",
              "<table border=\"1\" class=\"dataframe\">\n",
              "  <thead>\n",
              "    <tr style=\"text-align: right;\">\n",
              "      <th></th>\n",
              "      <th>id</th>\n",
              "      <th>Gender</th>\n",
              "      <th>Age</th>\n",
              "      <th>Customer Type</th>\n",
              "      <th>Type of Travel</th>\n",
              "      <th>Class</th>\n",
              "      <th>Flight Distance</th>\n",
              "      <th>Departure Delay in Minutes</th>\n",
              "      <th>Arrival Delay in Minutes</th>\n",
              "      <th>Inflight wifi service</th>\n",
              "      <th>...</th>\n",
              "      <th>Online boarding</th>\n",
              "      <th>Seat comfort</th>\n",
              "      <th>Inflight entertainment</th>\n",
              "      <th>On-board service</th>\n",
              "      <th>Leg room service</th>\n",
              "      <th>Baggage handling</th>\n",
              "      <th>Checkin service</th>\n",
              "      <th>Inflight service</th>\n",
              "      <th>Cleanliness</th>\n",
              "      <th>satisfaction</th>\n",
              "    </tr>\n",
              "  </thead>\n",
              "  <tbody>\n",
              "    <tr>\n",
              "      <th>0</th>\n",
              "      <td>1</td>\n",
              "      <td>Male</td>\n",
              "      <td>48.0</td>\n",
              "      <td>disloyal Customer</td>\n",
              "      <td>Business travel</td>\n",
              "      <td>Business</td>\n",
              "      <td>821.0</td>\n",
              "      <td>2.0</td>\n",
              "      <td>5.0</td>\n",
              "      <td>3.0</td>\n",
              "      <td>...</td>\n",
              "      <td>3.0</td>\n",
              "      <td>5.0</td>\n",
              "      <td>5.0</td>\n",
              "      <td>3.0</td>\n",
              "      <td>2.0</td>\n",
              "      <td>5.0</td>\n",
              "      <td>4.0</td>\n",
              "      <td>5.0</td>\n",
              "      <td>5.0</td>\n",
              "      <td>neutral or dissatisfied</td>\n",
              "    </tr>\n",
              "    <tr>\n",
              "      <th>1</th>\n",
              "      <td>2</td>\n",
              "      <td>Female</td>\n",
              "      <td>35.0</td>\n",
              "      <td>Loyal Customer</td>\n",
              "      <td>Business travel</td>\n",
              "      <td>Business</td>\n",
              "      <td>821.0</td>\n",
              "      <td>26.0</td>\n",
              "      <td>39.0</td>\n",
              "      <td>2.0</td>\n",
              "      <td>...</td>\n",
              "      <td>5.0</td>\n",
              "      <td>4.0</td>\n",
              "      <td>5.0</td>\n",
              "      <td>5.0</td>\n",
              "      <td>5.0</td>\n",
              "      <td>5.0</td>\n",
              "      <td>3.0</td>\n",
              "      <td>5.0</td>\n",
              "      <td>5.0</td>\n",
              "      <td>satisfied</td>\n",
              "    </tr>\n",
              "    <tr>\n",
              "      <th>2</th>\n",
              "      <td>3</td>\n",
              "      <td>Male</td>\n",
              "      <td>41.0</td>\n",
              "      <td>Loyal Customer</td>\n",
              "      <td>Business travel</td>\n",
              "      <td>Business</td>\n",
              "      <td>853.0</td>\n",
              "      <td>0.0</td>\n",
              "      <td>0.0</td>\n",
              "      <td>4.0</td>\n",
              "      <td>...</td>\n",
              "      <td>5.0</td>\n",
              "      <td>5.0</td>\n",
              "      <td>3.0</td>\n",
              "      <td>3.0</td>\n",
              "      <td>3.0</td>\n",
              "      <td>3.0</td>\n",
              "      <td>4.0</td>\n",
              "      <td>3.0</td>\n",
              "      <td>5.0</td>\n",
              "      <td>satisfied</td>\n",
              "    </tr>\n",
              "    <tr>\n",
              "      <th>3</th>\n",
              "      <td>4</td>\n",
              "      <td>Male</td>\n",
              "      <td>50.0</td>\n",
              "      <td>Loyal Customer</td>\n",
              "      <td>Business travel</td>\n",
              "      <td>Business</td>\n",
              "      <td>1905.0</td>\n",
              "      <td>0.0</td>\n",
              "      <td>0.0</td>\n",
              "      <td>2.0</td>\n",
              "      <td>...</td>\n",
              "      <td>4.0</td>\n",
              "      <td>5.0</td>\n",
              "      <td>5.0</td>\n",
              "      <td>5.0</td>\n",
              "      <td>5.0</td>\n",
              "      <td>5.0</td>\n",
              "      <td>3.0</td>\n",
              "      <td>5.0</td>\n",
              "      <td>4.0</td>\n",
              "      <td>satisfied</td>\n",
              "    </tr>\n",
              "    <tr>\n",
              "      <th>4</th>\n",
              "      <td>5</td>\n",
              "      <td>Female</td>\n",
              "      <td>49.0</td>\n",
              "      <td>Loyal Customer</td>\n",
              "      <td>Business travel</td>\n",
              "      <td>Business</td>\n",
              "      <td>3470.0</td>\n",
              "      <td>0.0</td>\n",
              "      <td>1.0</td>\n",
              "      <td>3.0</td>\n",
              "      <td>...</td>\n",
              "      <td>5.0</td>\n",
              "      <td>4.0</td>\n",
              "      <td>3.0</td>\n",
              "      <td>3.0</td>\n",
              "      <td>4.0</td>\n",
              "      <td>3.0</td>\n",
              "      <td>3.0</td>\n",
              "      <td>3.0</td>\n",
              "      <td>5.0</td>\n",
              "      <td>satisfied</td>\n",
              "    </tr>\n",
              "    <tr>\n",
              "      <th>5</th>\n",
              "      <td>6</td>\n",
              "      <td>Male</td>\n",
              "      <td>43.0</td>\n",
              "      <td>Loyal Customer</td>\n",
              "      <td>Business travel</td>\n",
              "      <td>Business</td>\n",
              "      <td>3788.0</td>\n",
              "      <td>0.0</td>\n",
              "      <td>0.0</td>\n",
              "      <td>4.0</td>\n",
              "      <td>...</td>\n",
              "      <td>5.0</td>\n",
              "      <td>4.0</td>\n",
              "      <td>4.0</td>\n",
              "      <td>4.0</td>\n",
              "      <td>4.0</td>\n",
              "      <td>4.0</td>\n",
              "      <td>3.0</td>\n",
              "      <td>4.0</td>\n",
              "      <td>3.0</td>\n",
              "      <td>satisfied</td>\n",
              "    </tr>\n",
              "    <tr>\n",
              "      <th>6</th>\n",
              "      <td>7</td>\n",
              "      <td>Male</td>\n",
              "      <td>43.0</td>\n",
              "      <td>Loyal Customer</td>\n",
              "      <td>Business travel</td>\n",
              "      <td>Business</td>\n",
              "      <td>1963.0</td>\n",
              "      <td>0.0</td>\n",
              "      <td>0.0</td>\n",
              "      <td>3.0</td>\n",
              "      <td>...</td>\n",
              "      <td>4.0</td>\n",
              "      <td>5.0</td>\n",
              "      <td>5.0</td>\n",
              "      <td>5.0</td>\n",
              "      <td>5.0</td>\n",
              "      <td>5.0</td>\n",
              "      <td>4.0</td>\n",
              "      <td>5.0</td>\n",
              "      <td>4.0</td>\n",
              "      <td>satisfied</td>\n",
              "    </tr>\n",
              "    <tr>\n",
              "      <th>7</th>\n",
              "      <td>8</td>\n",
              "      <td>Female</td>\n",
              "      <td>60.0</td>\n",
              "      <td>Loyal Customer</td>\n",
              "      <td>Business travel</td>\n",
              "      <td>Business</td>\n",
              "      <td>853.0</td>\n",
              "      <td>0.0</td>\n",
              "      <td>3.0</td>\n",
              "      <td>4.0</td>\n",
              "      <td>...</td>\n",
              "      <td>4.0</td>\n",
              "      <td>4.0</td>\n",
              "      <td>3.0</td>\n",
              "      <td>3.0</td>\n",
              "      <td>4.0</td>\n",
              "      <td>3.0</td>\n",
              "      <td>3.0</td>\n",
              "      <td>3.0</td>\n",
              "      <td>4.0</td>\n",
              "      <td>satisfied</td>\n",
              "    </tr>\n",
              "    <tr>\n",
              "      <th>8</th>\n",
              "      <td>9</td>\n",
              "      <td>Male</td>\n",
              "      <td>50.0</td>\n",
              "      <td>Loyal Customer</td>\n",
              "      <td>Business travel</td>\n",
              "      <td>Business</td>\n",
              "      <td>2607.0</td>\n",
              "      <td>0.0</td>\n",
              "      <td>0.0</td>\n",
              "      <td>4.0</td>\n",
              "      <td>...</td>\n",
              "      <td>2.0</td>\n",
              "      <td>3.0</td>\n",
              "      <td>4.0</td>\n",
              "      <td>4.0</td>\n",
              "      <td>4.0</td>\n",
              "      <td>4.0</td>\n",
              "      <td>3.0</td>\n",
              "      <td>4.0</td>\n",
              "      <td>3.0</td>\n",
              "      <td>neutral or dissatisfied</td>\n",
              "    </tr>\n",
              "    <tr>\n",
              "      <th>9</th>\n",
              "      <td>10</td>\n",
              "      <td>Female</td>\n",
              "      <td>38.0</td>\n",
              "      <td>Loyal Customer</td>\n",
              "      <td>Business travel</td>\n",
              "      <td>Business</td>\n",
              "      <td>2822.0</td>\n",
              "      <td>13.0</td>\n",
              "      <td>0.0</td>\n",
              "      <td>2.0</td>\n",
              "      <td>...</td>\n",
              "      <td>5.0</td>\n",
              "      <td>4.0</td>\n",
              "      <td>5.0</td>\n",
              "      <td>5.0</td>\n",
              "      <td>5.0</td>\n",
              "      <td>5.0</td>\n",
              "      <td>3.0</td>\n",
              "      <td>5.0</td>\n",
              "      <td>4.0</td>\n",
              "      <td>satisfied</td>\n",
              "    </tr>\n",
              "  </tbody>\n",
              "</table>\n",
              "<p>10 rows × 24 columns</p>\n",
              "</div>\n",
              "      <button class=\"colab-df-convert\" onclick=\"convertToInteractive('df-e83f0a3a-abdc-4a22-bd87-4387d8f74fa4')\"\n",
              "              title=\"Convert this dataframe to an interactive table.\"\n",
              "              style=\"display:none;\">\n",
              "        \n",
              "  <svg xmlns=\"http://www.w3.org/2000/svg\" height=\"24px\"viewBox=\"0 0 24 24\"\n",
              "       width=\"24px\">\n",
              "    <path d=\"M0 0h24v24H0V0z\" fill=\"none\"/>\n",
              "    <path d=\"M18.56 5.44l.94 2.06.94-2.06 2.06-.94-2.06-.94-.94-2.06-.94 2.06-2.06.94zm-11 1L8.5 8.5l.94-2.06 2.06-.94-2.06-.94L8.5 2.5l-.94 2.06-2.06.94zm10 10l.94 2.06.94-2.06 2.06-.94-2.06-.94-.94-2.06-.94 2.06-2.06.94z\"/><path d=\"M17.41 7.96l-1.37-1.37c-.4-.4-.92-.59-1.43-.59-.52 0-1.04.2-1.43.59L10.3 9.45l-7.72 7.72c-.78.78-.78 2.05 0 2.83L4 21.41c.39.39.9.59 1.41.59.51 0 1.02-.2 1.41-.59l7.78-7.78 2.81-2.81c.8-.78.8-2.07 0-2.86zM5.41 20L4 18.59l7.72-7.72 1.47 1.35L5.41 20z\"/>\n",
              "  </svg>\n",
              "      </button>\n",
              "      \n",
              "  <style>\n",
              "    .colab-df-container {\n",
              "      display:flex;\n",
              "      flex-wrap:wrap;\n",
              "      gap: 12px;\n",
              "    }\n",
              "\n",
              "    .colab-df-convert {\n",
              "      background-color: #E8F0FE;\n",
              "      border: none;\n",
              "      border-radius: 50%;\n",
              "      cursor: pointer;\n",
              "      display: none;\n",
              "      fill: #1967D2;\n",
              "      height: 32px;\n",
              "      padding: 0 0 0 0;\n",
              "      width: 32px;\n",
              "    }\n",
              "\n",
              "    .colab-df-convert:hover {\n",
              "      background-color: #E2EBFA;\n",
              "      box-shadow: 0px 1px 2px rgba(60, 64, 67, 0.3), 0px 1px 3px 1px rgba(60, 64, 67, 0.15);\n",
              "      fill: #174EA6;\n",
              "    }\n",
              "\n",
              "    [theme=dark] .colab-df-convert {\n",
              "      background-color: #3B4455;\n",
              "      fill: #D2E3FC;\n",
              "    }\n",
              "\n",
              "    [theme=dark] .colab-df-convert:hover {\n",
              "      background-color: #434B5C;\n",
              "      box-shadow: 0px 1px 3px 1px rgba(0, 0, 0, 0.15);\n",
              "      filter: drop-shadow(0px 1px 2px rgba(0, 0, 0, 0.3));\n",
              "      fill: #FFFFFF;\n",
              "    }\n",
              "  </style>\n",
              "\n",
              "      <script>\n",
              "        const buttonEl =\n",
              "          document.querySelector('#df-e83f0a3a-abdc-4a22-bd87-4387d8f74fa4 button.colab-df-convert');\n",
              "        buttonEl.style.display =\n",
              "          google.colab.kernel.accessAllowed ? 'block' : 'none';\n",
              "\n",
              "        async function convertToInteractive(key) {\n",
              "          const element = document.querySelector('#df-e83f0a3a-abdc-4a22-bd87-4387d8f74fa4');\n",
              "          const dataTable =\n",
              "            await google.colab.kernel.invokeFunction('convertToInteractive',\n",
              "                                                     [key], {});\n",
              "          if (!dataTable) return;\n",
              "\n",
              "          const docLinkHtml = 'Like what you see? Visit the ' +\n",
              "            '<a target=\"_blank\" href=https://colab.research.google.com/notebooks/data_table.ipynb>data table notebook</a>'\n",
              "            + ' to learn more about interactive tables.';\n",
              "          element.innerHTML = '';\n",
              "          dataTable['output_type'] = 'display_data';\n",
              "          await google.colab.output.renderOutput(dataTable, element);\n",
              "          const docLink = document.createElement('div');\n",
              "          docLink.innerHTML = docLinkHtml;\n",
              "          element.appendChild(docLink);\n",
              "        }\n",
              "      </script>\n",
              "    </div>\n",
              "  </div>\n",
              "  "
            ]
          },
          "metadata": {},
          "execution_count": 275
        }
      ]
    },
    {
      "cell_type": "markdown",
      "source": [
        "## Исследование данных"
      ],
      "metadata": {
        "id": "eh7z7tAPfjkq"
      }
    },
    {
      "cell_type": "markdown",
      "source": [
        "Размер датасета"
      ],
      "metadata": {
        "id": "0XiwFFuNfpV-"
      }
    },
    {
      "cell_type": "code",
      "source": [
        "df.shape"
      ],
      "metadata": {
        "colab": {
          "base_uri": "https://localhost:8080/"
        },
        "id": "TQqPcNGUeLEH",
        "outputId": "d774d850-f812-4bf8-8b3e-64639d16b27f"
      },
      "execution_count": 276,
      "outputs": [
        {
          "output_type": "execute_result",
          "data": {
            "text/plain": [
              "(129880, 24)"
            ]
          },
          "metadata": {},
          "execution_count": 276
        }
      ]
    },
    {
      "cell_type": "markdown",
      "source": [
        "Информация о типах данных и пропусках"
      ],
      "metadata": {
        "id": "q-QqFNLjfrgh"
      }
    },
    {
      "cell_type": "code",
      "source": [
        "df.info()"
      ],
      "metadata": {
        "colab": {
          "base_uri": "https://localhost:8080/"
        },
        "id": "yD4ljObEfqyv",
        "outputId": "c1e50967-bc7c-4051-fac3-2d3837ec0b2e"
      },
      "execution_count": 277,
      "outputs": [
        {
          "output_type": "stream",
          "name": "stdout",
          "text": [
            "<class 'pandas.core.frame.DataFrame'>\n",
            "RangeIndex: 129880 entries, 0 to 129879\n",
            "Data columns (total 24 columns):\n",
            " #   Column                             Non-Null Count   Dtype  \n",
            "---  ------                             --------------   -----  \n",
            " 0   id                                 129880 non-null  int64  \n",
            " 1   Gender                             129549 non-null  object \n",
            " 2   Age                                129564 non-null  float64\n",
            " 3   Customer Type                      129803 non-null  object \n",
            " 4   Type of Travel                     129779 non-null  object \n",
            " 5   Class                              129764 non-null  object \n",
            " 6   Flight Distance                    129786 non-null  float64\n",
            " 7   Departure Delay in Minutes         129773 non-null  float64\n",
            " 8   Arrival Delay in Minutes           129371 non-null  float64\n",
            " 9   Inflight wifi service              129835 non-null  float64\n",
            " 10  Departure/Arrival time convenient  129831 non-null  float64\n",
            " 11  Ease of Online booking             129837 non-null  float64\n",
            " 12  Gate location                      129842 non-null  float64\n",
            " 13  Food and drink                     129830 non-null  float64\n",
            " 14  Online boarding                    129834 non-null  float64\n",
            " 15  Seat comfort                       129832 non-null  float64\n",
            " 16  Inflight entertainment             129833 non-null  float64\n",
            " 17  On-board service                   129836 non-null  float64\n",
            " 18  Leg room service                   129834 non-null  float64\n",
            " 19  Baggage handling                   129832 non-null  float64\n",
            " 20  Checkin service                    129838 non-null  float64\n",
            " 21  Inflight service                   129817 non-null  float64\n",
            " 22  Cleanliness                        129843 non-null  float64\n",
            " 23  satisfaction                       129880 non-null  object \n",
            "dtypes: float64(18), int64(1), object(5)\n",
            "memory usage: 23.8+ MB\n"
          ]
        }
      ]
    },
    {
      "cell_type": "markdown",
      "source": [
        "* Нужно будет поработать с Nan\n",
        "* 18 количественных характеристик и 5 качественных"
      ],
      "metadata": {
        "id": "hwb6YxUyfy56"
      }
    },
    {
      "cell_type": "code",
      "source": [
        "df.describe()"
      ],
      "metadata": {
        "colab": {
          "base_uri": "https://localhost:8080/",
          "height": 399
        },
        "id": "Ml-tsBC7fwv8",
        "outputId": "2d136742-0f4b-4746-dd1e-b0e2eaba20f9"
      },
      "execution_count": 278,
      "outputs": [
        {
          "output_type": "execute_result",
          "data": {
            "text/plain": [
              "                  id            Age  Flight Distance  \\\n",
              "count  129880.000000  129564.000000    129786.000000   \n",
              "mean    64940.500000      40.113951      1323.385804   \n",
              "std     37493.270818      20.365190      4516.191530   \n",
              "min         1.000000       0.000000         0.000000   \n",
              "25%     32470.750000      27.000000       414.000000   \n",
              "50%     64940.500000      40.000000       846.000000   \n",
              "75%     97410.250000      51.000000      1744.000000   \n",
              "max    129880.000000     621.000000    379620.000000   \n",
              "\n",
              "       Departure Delay in Minutes  Arrival Delay in Minutes  \\\n",
              "count               129773.000000             129371.000000   \n",
              "mean                    15.811301                 16.651406   \n",
              "std                     93.206139                109.167328   \n",
              "min                      0.000000                  0.000000   \n",
              "25%                      0.000000                  0.000000   \n",
              "50%                      0.000000                  0.000000   \n",
              "75%                     12.000000                 13.000000   \n",
              "max                  22227.000000              14006.000000   \n",
              "\n",
              "       Inflight wifi service  Departure/Arrival time convenient  \\\n",
              "count          129835.000000                      129831.000000   \n",
              "mean                2.732183                           3.061857   \n",
              "std                 1.359786                           1.559323   \n",
              "min                 0.000000                           0.000000   \n",
              "25%                 2.000000                           2.000000   \n",
              "50%                 3.000000                           3.000000   \n",
              "75%                 4.000000                           4.000000   \n",
              "max                45.000000                          45.000000   \n",
              "\n",
              "       Ease of Online booking  Gate location  Food and drink  Online boarding  \\\n",
              "count           129837.000000  129842.000000   129830.000000    129834.000000   \n",
              "mean                 2.760523       2.981424        3.208349         3.256674   \n",
              "std                  1.430800       1.312628        1.357649         1.381889   \n",
              "min                  0.000000       0.000000        0.000000         0.000000   \n",
              "25%                  2.000000       2.000000        2.000000         2.000000   \n",
              "50%                  3.000000       3.000000        3.000000         3.000000   \n",
              "75%                  4.000000       4.000000        4.000000         4.000000   \n",
              "max                 45.000000      36.000000       45.000000        40.000000   \n",
              "\n",
              "        Seat comfort  Inflight entertainment  On-board service  \\\n",
              "count  129832.000000           129833.000000     129836.000000   \n",
              "mean        3.445691                3.361395          3.387181   \n",
              "std         1.349732                1.366866          1.335540   \n",
              "min         0.000000                0.000000          0.000000   \n",
              "25%         2.000000                2.000000          2.000000   \n",
              "50%         4.000000                4.000000          4.000000   \n",
              "75%         5.000000                4.000000          4.000000   \n",
              "max        45.000000               45.000000         45.000000   \n",
              "\n",
              "       Leg room service  Baggage handling  Checkin service  Inflight service  \\\n",
              "count     129834.000000     129832.000000    129838.000000      129817.00000   \n",
              "mean           3.356101          3.636107         3.310056           3.64718   \n",
              "std            1.361633          1.221818         1.298626           1.21837   \n",
              "min            0.000000          0.000000         0.000000           0.00000   \n",
              "25%            2.000000          3.000000         3.000000           3.00000   \n",
              "50%            4.000000          4.000000         3.000000           4.00000   \n",
              "75%            4.000000          5.000000         4.000000           5.00000   \n",
              "max           40.000000         40.000000        45.000000          40.00000   \n",
              "\n",
              "         Cleanliness  \n",
              "count  129843.000000  \n",
              "mean        3.289865  \n",
              "std         1.347625  \n",
              "min         0.000000  \n",
              "25%         2.000000  \n",
              "50%         3.000000  \n",
              "75%         4.000000  \n",
              "max        45.000000  "
            ],
            "text/html": [
              "\n",
              "  <div id=\"df-b1cee1e1-de15-4142-ba5f-6ad656e8163b\">\n",
              "    <div class=\"colab-df-container\">\n",
              "      <div>\n",
              "<style scoped>\n",
              "    .dataframe tbody tr th:only-of-type {\n",
              "        vertical-align: middle;\n",
              "    }\n",
              "\n",
              "    .dataframe tbody tr th {\n",
              "        vertical-align: top;\n",
              "    }\n",
              "\n",
              "    .dataframe thead th {\n",
              "        text-align: right;\n",
              "    }\n",
              "</style>\n",
              "<table border=\"1\" class=\"dataframe\">\n",
              "  <thead>\n",
              "    <tr style=\"text-align: right;\">\n",
              "      <th></th>\n",
              "      <th>id</th>\n",
              "      <th>Age</th>\n",
              "      <th>Flight Distance</th>\n",
              "      <th>Departure Delay in Minutes</th>\n",
              "      <th>Arrival Delay in Minutes</th>\n",
              "      <th>Inflight wifi service</th>\n",
              "      <th>Departure/Arrival time convenient</th>\n",
              "      <th>Ease of Online booking</th>\n",
              "      <th>Gate location</th>\n",
              "      <th>Food and drink</th>\n",
              "      <th>Online boarding</th>\n",
              "      <th>Seat comfort</th>\n",
              "      <th>Inflight entertainment</th>\n",
              "      <th>On-board service</th>\n",
              "      <th>Leg room service</th>\n",
              "      <th>Baggage handling</th>\n",
              "      <th>Checkin service</th>\n",
              "      <th>Inflight service</th>\n",
              "      <th>Cleanliness</th>\n",
              "    </tr>\n",
              "  </thead>\n",
              "  <tbody>\n",
              "    <tr>\n",
              "      <th>count</th>\n",
              "      <td>129880.000000</td>\n",
              "      <td>129564.000000</td>\n",
              "      <td>129786.000000</td>\n",
              "      <td>129773.000000</td>\n",
              "      <td>129371.000000</td>\n",
              "      <td>129835.000000</td>\n",
              "      <td>129831.000000</td>\n",
              "      <td>129837.000000</td>\n",
              "      <td>129842.000000</td>\n",
              "      <td>129830.000000</td>\n",
              "      <td>129834.000000</td>\n",
              "      <td>129832.000000</td>\n",
              "      <td>129833.000000</td>\n",
              "      <td>129836.000000</td>\n",
              "      <td>129834.000000</td>\n",
              "      <td>129832.000000</td>\n",
              "      <td>129838.000000</td>\n",
              "      <td>129817.00000</td>\n",
              "      <td>129843.000000</td>\n",
              "    </tr>\n",
              "    <tr>\n",
              "      <th>mean</th>\n",
              "      <td>64940.500000</td>\n",
              "      <td>40.113951</td>\n",
              "      <td>1323.385804</td>\n",
              "      <td>15.811301</td>\n",
              "      <td>16.651406</td>\n",
              "      <td>2.732183</td>\n",
              "      <td>3.061857</td>\n",
              "      <td>2.760523</td>\n",
              "      <td>2.981424</td>\n",
              "      <td>3.208349</td>\n",
              "      <td>3.256674</td>\n",
              "      <td>3.445691</td>\n",
              "      <td>3.361395</td>\n",
              "      <td>3.387181</td>\n",
              "      <td>3.356101</td>\n",
              "      <td>3.636107</td>\n",
              "      <td>3.310056</td>\n",
              "      <td>3.64718</td>\n",
              "      <td>3.289865</td>\n",
              "    </tr>\n",
              "    <tr>\n",
              "      <th>std</th>\n",
              "      <td>37493.270818</td>\n",
              "      <td>20.365190</td>\n",
              "      <td>4516.191530</td>\n",
              "      <td>93.206139</td>\n",
              "      <td>109.167328</td>\n",
              "      <td>1.359786</td>\n",
              "      <td>1.559323</td>\n",
              "      <td>1.430800</td>\n",
              "      <td>1.312628</td>\n",
              "      <td>1.357649</td>\n",
              "      <td>1.381889</td>\n",
              "      <td>1.349732</td>\n",
              "      <td>1.366866</td>\n",
              "      <td>1.335540</td>\n",
              "      <td>1.361633</td>\n",
              "      <td>1.221818</td>\n",
              "      <td>1.298626</td>\n",
              "      <td>1.21837</td>\n",
              "      <td>1.347625</td>\n",
              "    </tr>\n",
              "    <tr>\n",
              "      <th>min</th>\n",
              "      <td>1.000000</td>\n",
              "      <td>0.000000</td>\n",
              "      <td>0.000000</td>\n",
              "      <td>0.000000</td>\n",
              "      <td>0.000000</td>\n",
              "      <td>0.000000</td>\n",
              "      <td>0.000000</td>\n",
              "      <td>0.000000</td>\n",
              "      <td>0.000000</td>\n",
              "      <td>0.000000</td>\n",
              "      <td>0.000000</td>\n",
              "      <td>0.000000</td>\n",
              "      <td>0.000000</td>\n",
              "      <td>0.000000</td>\n",
              "      <td>0.000000</td>\n",
              "      <td>0.000000</td>\n",
              "      <td>0.000000</td>\n",
              "      <td>0.00000</td>\n",
              "      <td>0.000000</td>\n",
              "    </tr>\n",
              "    <tr>\n",
              "      <th>25%</th>\n",
              "      <td>32470.750000</td>\n",
              "      <td>27.000000</td>\n",
              "      <td>414.000000</td>\n",
              "      <td>0.000000</td>\n",
              "      <td>0.000000</td>\n",
              "      <td>2.000000</td>\n",
              "      <td>2.000000</td>\n",
              "      <td>2.000000</td>\n",
              "      <td>2.000000</td>\n",
              "      <td>2.000000</td>\n",
              "      <td>2.000000</td>\n",
              "      <td>2.000000</td>\n",
              "      <td>2.000000</td>\n",
              "      <td>2.000000</td>\n",
              "      <td>2.000000</td>\n",
              "      <td>3.000000</td>\n",
              "      <td>3.000000</td>\n",
              "      <td>3.00000</td>\n",
              "      <td>2.000000</td>\n",
              "    </tr>\n",
              "    <tr>\n",
              "      <th>50%</th>\n",
              "      <td>64940.500000</td>\n",
              "      <td>40.000000</td>\n",
              "      <td>846.000000</td>\n",
              "      <td>0.000000</td>\n",
              "      <td>0.000000</td>\n",
              "      <td>3.000000</td>\n",
              "      <td>3.000000</td>\n",
              "      <td>3.000000</td>\n",
              "      <td>3.000000</td>\n",
              "      <td>3.000000</td>\n",
              "      <td>3.000000</td>\n",
              "      <td>4.000000</td>\n",
              "      <td>4.000000</td>\n",
              "      <td>4.000000</td>\n",
              "      <td>4.000000</td>\n",
              "      <td>4.000000</td>\n",
              "      <td>3.000000</td>\n",
              "      <td>4.00000</td>\n",
              "      <td>3.000000</td>\n",
              "    </tr>\n",
              "    <tr>\n",
              "      <th>75%</th>\n",
              "      <td>97410.250000</td>\n",
              "      <td>51.000000</td>\n",
              "      <td>1744.000000</td>\n",
              "      <td>12.000000</td>\n",
              "      <td>13.000000</td>\n",
              "      <td>4.000000</td>\n",
              "      <td>4.000000</td>\n",
              "      <td>4.000000</td>\n",
              "      <td>4.000000</td>\n",
              "      <td>4.000000</td>\n",
              "      <td>4.000000</td>\n",
              "      <td>5.000000</td>\n",
              "      <td>4.000000</td>\n",
              "      <td>4.000000</td>\n",
              "      <td>4.000000</td>\n",
              "      <td>5.000000</td>\n",
              "      <td>4.000000</td>\n",
              "      <td>5.00000</td>\n",
              "      <td>4.000000</td>\n",
              "    </tr>\n",
              "    <tr>\n",
              "      <th>max</th>\n",
              "      <td>129880.000000</td>\n",
              "      <td>621.000000</td>\n",
              "      <td>379620.000000</td>\n",
              "      <td>22227.000000</td>\n",
              "      <td>14006.000000</td>\n",
              "      <td>45.000000</td>\n",
              "      <td>45.000000</td>\n",
              "      <td>45.000000</td>\n",
              "      <td>36.000000</td>\n",
              "      <td>45.000000</td>\n",
              "      <td>40.000000</td>\n",
              "      <td>45.000000</td>\n",
              "      <td>45.000000</td>\n",
              "      <td>45.000000</td>\n",
              "      <td>40.000000</td>\n",
              "      <td>40.000000</td>\n",
              "      <td>45.000000</td>\n",
              "      <td>40.00000</td>\n",
              "      <td>45.000000</td>\n",
              "    </tr>\n",
              "  </tbody>\n",
              "</table>\n",
              "</div>\n",
              "      <button class=\"colab-df-convert\" onclick=\"convertToInteractive('df-b1cee1e1-de15-4142-ba5f-6ad656e8163b')\"\n",
              "              title=\"Convert this dataframe to an interactive table.\"\n",
              "              style=\"display:none;\">\n",
              "        \n",
              "  <svg xmlns=\"http://www.w3.org/2000/svg\" height=\"24px\"viewBox=\"0 0 24 24\"\n",
              "       width=\"24px\">\n",
              "    <path d=\"M0 0h24v24H0V0z\" fill=\"none\"/>\n",
              "    <path d=\"M18.56 5.44l.94 2.06.94-2.06 2.06-.94-2.06-.94-.94-2.06-.94 2.06-2.06.94zm-11 1L8.5 8.5l.94-2.06 2.06-.94-2.06-.94L8.5 2.5l-.94 2.06-2.06.94zm10 10l.94 2.06.94-2.06 2.06-.94-2.06-.94-.94-2.06-.94 2.06-2.06.94z\"/><path d=\"M17.41 7.96l-1.37-1.37c-.4-.4-.92-.59-1.43-.59-.52 0-1.04.2-1.43.59L10.3 9.45l-7.72 7.72c-.78.78-.78 2.05 0 2.83L4 21.41c.39.39.9.59 1.41.59.51 0 1.02-.2 1.41-.59l7.78-7.78 2.81-2.81c.8-.78.8-2.07 0-2.86zM5.41 20L4 18.59l7.72-7.72 1.47 1.35L5.41 20z\"/>\n",
              "  </svg>\n",
              "      </button>\n",
              "      \n",
              "  <style>\n",
              "    .colab-df-container {\n",
              "      display:flex;\n",
              "      flex-wrap:wrap;\n",
              "      gap: 12px;\n",
              "    }\n",
              "\n",
              "    .colab-df-convert {\n",
              "      background-color: #E8F0FE;\n",
              "      border: none;\n",
              "      border-radius: 50%;\n",
              "      cursor: pointer;\n",
              "      display: none;\n",
              "      fill: #1967D2;\n",
              "      height: 32px;\n",
              "      padding: 0 0 0 0;\n",
              "      width: 32px;\n",
              "    }\n",
              "\n",
              "    .colab-df-convert:hover {\n",
              "      background-color: #E2EBFA;\n",
              "      box-shadow: 0px 1px 2px rgba(60, 64, 67, 0.3), 0px 1px 3px 1px rgba(60, 64, 67, 0.15);\n",
              "      fill: #174EA6;\n",
              "    }\n",
              "\n",
              "    [theme=dark] .colab-df-convert {\n",
              "      background-color: #3B4455;\n",
              "      fill: #D2E3FC;\n",
              "    }\n",
              "\n",
              "    [theme=dark] .colab-df-convert:hover {\n",
              "      background-color: #434B5C;\n",
              "      box-shadow: 0px 1px 3px 1px rgba(0, 0, 0, 0.15);\n",
              "      filter: drop-shadow(0px 1px 2px rgba(0, 0, 0, 0.3));\n",
              "      fill: #FFFFFF;\n",
              "    }\n",
              "  </style>\n",
              "\n",
              "      <script>\n",
              "        const buttonEl =\n",
              "          document.querySelector('#df-b1cee1e1-de15-4142-ba5f-6ad656e8163b button.colab-df-convert');\n",
              "        buttonEl.style.display =\n",
              "          google.colab.kernel.accessAllowed ? 'block' : 'none';\n",
              "\n",
              "        async function convertToInteractive(key) {\n",
              "          const element = document.querySelector('#df-b1cee1e1-de15-4142-ba5f-6ad656e8163b');\n",
              "          const dataTable =\n",
              "            await google.colab.kernel.invokeFunction('convertToInteractive',\n",
              "                                                     [key], {});\n",
              "          if (!dataTable) return;\n",
              "\n",
              "          const docLinkHtml = 'Like what you see? Visit the ' +\n",
              "            '<a target=\"_blank\" href=https://colab.research.google.com/notebooks/data_table.ipynb>data table notebook</a>'\n",
              "            + ' to learn more about interactive tables.';\n",
              "          element.innerHTML = '';\n",
              "          dataTable['output_type'] = 'display_data';\n",
              "          await google.colab.output.renderOutput(dataTable, element);\n",
              "          const docLink = document.createElement('div');\n",
              "          docLink.innerHTML = docLinkHtml;\n",
              "          element.appendChild(docLink);\n",
              "        }\n",
              "      </script>\n",
              "    </div>\n",
              "  </div>\n",
              "  "
            ]
          },
          "metadata": {},
          "execution_count": 278
        }
      ]
    },
    {
      "cell_type": "markdown",
      "source": [
        "Можем заметить, что есть выбросы в:\n",
        "\n",
        "1. **Age** -- возраст 621 год\n",
        "2. **Flight Distance** -- 379620 миль полагаем выброс, так как самый дальний перелет в мире 9537 миль\n",
        "3. **Departure Delay in Minutes** -- 22227 это ~15 дней, в мире максимум были задержки на сутки или чуть больше => ~максимум 1440\n",
        "4. **Arrival Delay in Minutes** -- 14006 ~9 дней, пусть задержка прибытия будет равна максимуму задержки отправлениия => ~максимум 1440\n",
        "5. **Inflight wifi service** -- 45, а дипозон от 1 до 5\n",
        "6. Аналогично с **последующими категориями**, есть выбросы вне диапозона\n",
        "\n",
        "\n"
      ],
      "metadata": {
        "id": "2cLt66C5YMYc"
      }
    },
    {
      "cell_type": "code",
      "source": [
        "df.describe(include='object')"
      ],
      "metadata": {
        "colab": {
          "base_uri": "https://localhost:8080/",
          "height": 174
        },
        "id": "AyfS-zRpf2Pc",
        "outputId": "2dfd6699-8fa6-4e30-9bdb-49f3f02f2e14"
      },
      "execution_count": 279,
      "outputs": [
        {
          "output_type": "execute_result",
          "data": {
            "text/plain": [
              "        Gender   Customer Type   Type of Travel     Class  \\\n",
              "count   129549          129803           129779    129764   \n",
              "unique       2               2                2         3   \n",
              "top     Female  Loyal Customer  Business travel  Business   \n",
              "freq     65726          106040            89625     62103   \n",
              "\n",
              "                   satisfaction  \n",
              "count                    129880  \n",
              "unique                        3  \n",
              "top     neutral or dissatisfied  \n",
              "freq                      58879  "
            ],
            "text/html": [
              "\n",
              "  <div id=\"df-9a6532f8-9395-49a7-9991-dbb0511a11da\">\n",
              "    <div class=\"colab-df-container\">\n",
              "      <div>\n",
              "<style scoped>\n",
              "    .dataframe tbody tr th:only-of-type {\n",
              "        vertical-align: middle;\n",
              "    }\n",
              "\n",
              "    .dataframe tbody tr th {\n",
              "        vertical-align: top;\n",
              "    }\n",
              "\n",
              "    .dataframe thead th {\n",
              "        text-align: right;\n",
              "    }\n",
              "</style>\n",
              "<table border=\"1\" class=\"dataframe\">\n",
              "  <thead>\n",
              "    <tr style=\"text-align: right;\">\n",
              "      <th></th>\n",
              "      <th>Gender</th>\n",
              "      <th>Customer Type</th>\n",
              "      <th>Type of Travel</th>\n",
              "      <th>Class</th>\n",
              "      <th>satisfaction</th>\n",
              "    </tr>\n",
              "  </thead>\n",
              "  <tbody>\n",
              "    <tr>\n",
              "      <th>count</th>\n",
              "      <td>129549</td>\n",
              "      <td>129803</td>\n",
              "      <td>129779</td>\n",
              "      <td>129764</td>\n",
              "      <td>129880</td>\n",
              "    </tr>\n",
              "    <tr>\n",
              "      <th>unique</th>\n",
              "      <td>2</td>\n",
              "      <td>2</td>\n",
              "      <td>2</td>\n",
              "      <td>3</td>\n",
              "      <td>3</td>\n",
              "    </tr>\n",
              "    <tr>\n",
              "      <th>top</th>\n",
              "      <td>Female</td>\n",
              "      <td>Loyal Customer</td>\n",
              "      <td>Business travel</td>\n",
              "      <td>Business</td>\n",
              "      <td>neutral or dissatisfied</td>\n",
              "    </tr>\n",
              "    <tr>\n",
              "      <th>freq</th>\n",
              "      <td>65726</td>\n",
              "      <td>106040</td>\n",
              "      <td>89625</td>\n",
              "      <td>62103</td>\n",
              "      <td>58879</td>\n",
              "    </tr>\n",
              "  </tbody>\n",
              "</table>\n",
              "</div>\n",
              "      <button class=\"colab-df-convert\" onclick=\"convertToInteractive('df-9a6532f8-9395-49a7-9991-dbb0511a11da')\"\n",
              "              title=\"Convert this dataframe to an interactive table.\"\n",
              "              style=\"display:none;\">\n",
              "        \n",
              "  <svg xmlns=\"http://www.w3.org/2000/svg\" height=\"24px\"viewBox=\"0 0 24 24\"\n",
              "       width=\"24px\">\n",
              "    <path d=\"M0 0h24v24H0V0z\" fill=\"none\"/>\n",
              "    <path d=\"M18.56 5.44l.94 2.06.94-2.06 2.06-.94-2.06-.94-.94-2.06-.94 2.06-2.06.94zm-11 1L8.5 8.5l.94-2.06 2.06-.94-2.06-.94L8.5 2.5l-.94 2.06-2.06.94zm10 10l.94 2.06.94-2.06 2.06-.94-2.06-.94-.94-2.06-.94 2.06-2.06.94z\"/><path d=\"M17.41 7.96l-1.37-1.37c-.4-.4-.92-.59-1.43-.59-.52 0-1.04.2-1.43.59L10.3 9.45l-7.72 7.72c-.78.78-.78 2.05 0 2.83L4 21.41c.39.39.9.59 1.41.59.51 0 1.02-.2 1.41-.59l7.78-7.78 2.81-2.81c.8-.78.8-2.07 0-2.86zM5.41 20L4 18.59l7.72-7.72 1.47 1.35L5.41 20z\"/>\n",
              "  </svg>\n",
              "      </button>\n",
              "      \n",
              "  <style>\n",
              "    .colab-df-container {\n",
              "      display:flex;\n",
              "      flex-wrap:wrap;\n",
              "      gap: 12px;\n",
              "    }\n",
              "\n",
              "    .colab-df-convert {\n",
              "      background-color: #E8F0FE;\n",
              "      border: none;\n",
              "      border-radius: 50%;\n",
              "      cursor: pointer;\n",
              "      display: none;\n",
              "      fill: #1967D2;\n",
              "      height: 32px;\n",
              "      padding: 0 0 0 0;\n",
              "      width: 32px;\n",
              "    }\n",
              "\n",
              "    .colab-df-convert:hover {\n",
              "      background-color: #E2EBFA;\n",
              "      box-shadow: 0px 1px 2px rgba(60, 64, 67, 0.3), 0px 1px 3px 1px rgba(60, 64, 67, 0.15);\n",
              "      fill: #174EA6;\n",
              "    }\n",
              "\n",
              "    [theme=dark] .colab-df-convert {\n",
              "      background-color: #3B4455;\n",
              "      fill: #D2E3FC;\n",
              "    }\n",
              "\n",
              "    [theme=dark] .colab-df-convert:hover {\n",
              "      background-color: #434B5C;\n",
              "      box-shadow: 0px 1px 3px 1px rgba(0, 0, 0, 0.15);\n",
              "      filter: drop-shadow(0px 1px 2px rgba(0, 0, 0, 0.3));\n",
              "      fill: #FFFFFF;\n",
              "    }\n",
              "  </style>\n",
              "\n",
              "      <script>\n",
              "        const buttonEl =\n",
              "          document.querySelector('#df-9a6532f8-9395-49a7-9991-dbb0511a11da button.colab-df-convert');\n",
              "        buttonEl.style.display =\n",
              "          google.colab.kernel.accessAllowed ? 'block' : 'none';\n",
              "\n",
              "        async function convertToInteractive(key) {\n",
              "          const element = document.querySelector('#df-9a6532f8-9395-49a7-9991-dbb0511a11da');\n",
              "          const dataTable =\n",
              "            await google.colab.kernel.invokeFunction('convertToInteractive',\n",
              "                                                     [key], {});\n",
              "          if (!dataTable) return;\n",
              "\n",
              "          const docLinkHtml = 'Like what you see? Visit the ' +\n",
              "            '<a target=\"_blank\" href=https://colab.research.google.com/notebooks/data_table.ipynb>data table notebook</a>'\n",
              "            + ' to learn more about interactive tables.';\n",
              "          element.innerHTML = '';\n",
              "          dataTable['output_type'] = 'display_data';\n",
              "          await google.colab.output.renderOutput(dataTable, element);\n",
              "          const docLink = document.createElement('div');\n",
              "          docLink.innerHTML = docLinkHtml;\n",
              "          element.appendChild(docLink);\n",
              "        }\n",
              "      </script>\n",
              "    </div>\n",
              "  </div>\n",
              "  "
            ]
          },
          "metadata": {},
          "execution_count": 279
        }
      ]
    },
    {
      "cell_type": "markdown",
      "source": [
        "По данным:\n",
        "* Чаще летают женщины\n",
        "* Чаще всего клиенты лояльные и летают бизнес классом\n",
        "* Чаще всего клиенты нейтральны или неудовлетворены авикомпанией"
      ],
      "metadata": {
        "id": "Y8QVLCMrXp6t"
      }
    },
    {
      "cell_type": "markdown",
      "source": [
        "## Однофакторный анализ"
      ],
      "metadata": {
        "id": "RoHH3vGag5fM"
      }
    },
    {
      "cell_type": "markdown",
      "source": [
        "## Age, Flight Distance, Departure Delay in Minutes, Arrival Delay in Minutes"
      ],
      "metadata": {
        "id": "nV_076RT-tip"
      }
    },
    {
      "cell_type": "code",
      "source": [
        "df[['Age','Flight Distance', 'Departure Delay in Minutes', 'Arrival Delay in Minutes']].describe()"
      ],
      "metadata": {
        "colab": {
          "base_uri": "https://localhost:8080/",
          "height": 300
        },
        "outputId": "eb1c2778-0ba3-44cd-80b0-5a8a37572bb8",
        "id": "06NG0-dx-tit"
      },
      "execution_count": 280,
      "outputs": [
        {
          "output_type": "execute_result",
          "data": {
            "text/plain": [
              "                 Age  Flight Distance  Departure Delay in Minutes  \\\n",
              "count  129564.000000    129786.000000               129773.000000   \n",
              "mean       40.113951      1323.385804                   15.811301   \n",
              "std        20.365190      4516.191530                   93.206139   \n",
              "min         0.000000         0.000000                    0.000000   \n",
              "25%        27.000000       414.000000                    0.000000   \n",
              "50%        40.000000       846.000000                    0.000000   \n",
              "75%        51.000000      1744.000000                   12.000000   \n",
              "max       621.000000    379620.000000                22227.000000   \n",
              "\n",
              "       Arrival Delay in Minutes  \n",
              "count             129371.000000  \n",
              "mean                  16.651406  \n",
              "std                  109.167328  \n",
              "min                    0.000000  \n",
              "25%                    0.000000  \n",
              "50%                    0.000000  \n",
              "75%                   13.000000  \n",
              "max                14006.000000  "
            ],
            "text/html": [
              "\n",
              "  <div id=\"df-d695bdf3-b77b-495e-b870-808a877fd1b7\">\n",
              "    <div class=\"colab-df-container\">\n",
              "      <div>\n",
              "<style scoped>\n",
              "    .dataframe tbody tr th:only-of-type {\n",
              "        vertical-align: middle;\n",
              "    }\n",
              "\n",
              "    .dataframe tbody tr th {\n",
              "        vertical-align: top;\n",
              "    }\n",
              "\n",
              "    .dataframe thead th {\n",
              "        text-align: right;\n",
              "    }\n",
              "</style>\n",
              "<table border=\"1\" class=\"dataframe\">\n",
              "  <thead>\n",
              "    <tr style=\"text-align: right;\">\n",
              "      <th></th>\n",
              "      <th>Age</th>\n",
              "      <th>Flight Distance</th>\n",
              "      <th>Departure Delay in Minutes</th>\n",
              "      <th>Arrival Delay in Minutes</th>\n",
              "    </tr>\n",
              "  </thead>\n",
              "  <tbody>\n",
              "    <tr>\n",
              "      <th>count</th>\n",
              "      <td>129564.000000</td>\n",
              "      <td>129786.000000</td>\n",
              "      <td>129773.000000</td>\n",
              "      <td>129371.000000</td>\n",
              "    </tr>\n",
              "    <tr>\n",
              "      <th>mean</th>\n",
              "      <td>40.113951</td>\n",
              "      <td>1323.385804</td>\n",
              "      <td>15.811301</td>\n",
              "      <td>16.651406</td>\n",
              "    </tr>\n",
              "    <tr>\n",
              "      <th>std</th>\n",
              "      <td>20.365190</td>\n",
              "      <td>4516.191530</td>\n",
              "      <td>93.206139</td>\n",
              "      <td>109.167328</td>\n",
              "    </tr>\n",
              "    <tr>\n",
              "      <th>min</th>\n",
              "      <td>0.000000</td>\n",
              "      <td>0.000000</td>\n",
              "      <td>0.000000</td>\n",
              "      <td>0.000000</td>\n",
              "    </tr>\n",
              "    <tr>\n",
              "      <th>25%</th>\n",
              "      <td>27.000000</td>\n",
              "      <td>414.000000</td>\n",
              "      <td>0.000000</td>\n",
              "      <td>0.000000</td>\n",
              "    </tr>\n",
              "    <tr>\n",
              "      <th>50%</th>\n",
              "      <td>40.000000</td>\n",
              "      <td>846.000000</td>\n",
              "      <td>0.000000</td>\n",
              "      <td>0.000000</td>\n",
              "    </tr>\n",
              "    <tr>\n",
              "      <th>75%</th>\n",
              "      <td>51.000000</td>\n",
              "      <td>1744.000000</td>\n",
              "      <td>12.000000</td>\n",
              "      <td>13.000000</td>\n",
              "    </tr>\n",
              "    <tr>\n",
              "      <th>max</th>\n",
              "      <td>621.000000</td>\n",
              "      <td>379620.000000</td>\n",
              "      <td>22227.000000</td>\n",
              "      <td>14006.000000</td>\n",
              "    </tr>\n",
              "  </tbody>\n",
              "</table>\n",
              "</div>\n",
              "      <button class=\"colab-df-convert\" onclick=\"convertToInteractive('df-d695bdf3-b77b-495e-b870-808a877fd1b7')\"\n",
              "              title=\"Convert this dataframe to an interactive table.\"\n",
              "              style=\"display:none;\">\n",
              "        \n",
              "  <svg xmlns=\"http://www.w3.org/2000/svg\" height=\"24px\"viewBox=\"0 0 24 24\"\n",
              "       width=\"24px\">\n",
              "    <path d=\"M0 0h24v24H0V0z\" fill=\"none\"/>\n",
              "    <path d=\"M18.56 5.44l.94 2.06.94-2.06 2.06-.94-2.06-.94-.94-2.06-.94 2.06-2.06.94zm-11 1L8.5 8.5l.94-2.06 2.06-.94-2.06-.94L8.5 2.5l-.94 2.06-2.06.94zm10 10l.94 2.06.94-2.06 2.06-.94-2.06-.94-.94-2.06-.94 2.06-2.06.94z\"/><path d=\"M17.41 7.96l-1.37-1.37c-.4-.4-.92-.59-1.43-.59-.52 0-1.04.2-1.43.59L10.3 9.45l-7.72 7.72c-.78.78-.78 2.05 0 2.83L4 21.41c.39.39.9.59 1.41.59.51 0 1.02-.2 1.41-.59l7.78-7.78 2.81-2.81c.8-.78.8-2.07 0-2.86zM5.41 20L4 18.59l7.72-7.72 1.47 1.35L5.41 20z\"/>\n",
              "  </svg>\n",
              "      </button>\n",
              "      \n",
              "  <style>\n",
              "    .colab-df-container {\n",
              "      display:flex;\n",
              "      flex-wrap:wrap;\n",
              "      gap: 12px;\n",
              "    }\n",
              "\n",
              "    .colab-df-convert {\n",
              "      background-color: #E8F0FE;\n",
              "      border: none;\n",
              "      border-radius: 50%;\n",
              "      cursor: pointer;\n",
              "      display: none;\n",
              "      fill: #1967D2;\n",
              "      height: 32px;\n",
              "      padding: 0 0 0 0;\n",
              "      width: 32px;\n",
              "    }\n",
              "\n",
              "    .colab-df-convert:hover {\n",
              "      background-color: #E2EBFA;\n",
              "      box-shadow: 0px 1px 2px rgba(60, 64, 67, 0.3), 0px 1px 3px 1px rgba(60, 64, 67, 0.15);\n",
              "      fill: #174EA6;\n",
              "    }\n",
              "\n",
              "    [theme=dark] .colab-df-convert {\n",
              "      background-color: #3B4455;\n",
              "      fill: #D2E3FC;\n",
              "    }\n",
              "\n",
              "    [theme=dark] .colab-df-convert:hover {\n",
              "      background-color: #434B5C;\n",
              "      box-shadow: 0px 1px 3px 1px rgba(0, 0, 0, 0.15);\n",
              "      filter: drop-shadow(0px 1px 2px rgba(0, 0, 0, 0.3));\n",
              "      fill: #FFFFFF;\n",
              "    }\n",
              "  </style>\n",
              "\n",
              "      <script>\n",
              "        const buttonEl =\n",
              "          document.querySelector('#df-d695bdf3-b77b-495e-b870-808a877fd1b7 button.colab-df-convert');\n",
              "        buttonEl.style.display =\n",
              "          google.colab.kernel.accessAllowed ? 'block' : 'none';\n",
              "\n",
              "        async function convertToInteractive(key) {\n",
              "          const element = document.querySelector('#df-d695bdf3-b77b-495e-b870-808a877fd1b7');\n",
              "          const dataTable =\n",
              "            await google.colab.kernel.invokeFunction('convertToInteractive',\n",
              "                                                     [key], {});\n",
              "          if (!dataTable) return;\n",
              "\n",
              "          const docLinkHtml = 'Like what you see? Visit the ' +\n",
              "            '<a target=\"_blank\" href=https://colab.research.google.com/notebooks/data_table.ipynb>data table notebook</a>'\n",
              "            + ' to learn more about interactive tables.';\n",
              "          element.innerHTML = '';\n",
              "          dataTable['output_type'] = 'display_data';\n",
              "          await google.colab.output.renderOutput(dataTable, element);\n",
              "          const docLink = document.createElement('div');\n",
              "          docLink.innerHTML = docLinkHtml;\n",
              "          element.appendChild(docLink);\n",
              "        }\n",
              "      </script>\n",
              "    </div>\n",
              "  </div>\n",
              "  "
            ]
          },
          "metadata": {},
          "execution_count": 280
        }
      ]
    },
    {
      "cell_type": "markdown",
      "source": [
        "Видим, что\n",
        "* в среднем возраст пассажиров 40 лет\n",
        "* Departure Delay in Minutes и Arrival Delay in Minutes точно имеют ненормальное распределение\n",
        "\n"
      ],
      "metadata": {
        "id": "Paq0XckG-tiv"
      }
    },
    {
      "cell_type": "markdown",
      "source": [
        "### Посмотрим на их распредения\n"
      ],
      "metadata": {
        "id": "viu4OwGfpFNQ"
      }
    },
    {
      "cell_type": "markdown",
      "source": [
        "Age"
      ],
      "metadata": {
        "id": "tcJezF5bpNp9"
      }
    },
    {
      "cell_type": "code",
      "source": [
        "sns.histplot(df['Age'], kde=True)\n",
        "plt.xlim(0, 100)\n",
        "plt.show()"
      ],
      "metadata": {
        "colab": {
          "base_uri": "https://localhost:8080/",
          "height": 449
        },
        "id": "uiE2u2tfpEIF",
        "outputId": "b19c0117-af1b-47e9-fd80-6e7165af8759"
      },
      "execution_count": 281,
      "outputs": [
        {
          "output_type": "display_data",
          "data": {
            "text/plain": [
              "<Figure size 640x480 with 1 Axes>"
            ],
            "image/png": "[encoded data removed]"
          },
          "metadata": {}
        }
      ]
    },
    {
      "cell_type": "markdown",
      "source": [
        "Flight Distance"
      ],
      "metadata": {
        "id": "8AUnKw0IqhtZ"
      }
    },
    {
      "cell_type": "code",
      "source": [
        "sns.histplot(df['Flight Distance'], kde=True)\n",
        "plt.xlim(0, 6000)\n",
        "plt.show()"
      ],
      "metadata": {
        "colab": {
          "base_uri": "https://localhost:8080/",
          "height": 449
        },
        "id": "d_mm_xvhqg9G",
        "outputId": "bf0965c0-22c2-415f-b955-af4d5bc17858"
      },
      "execution_count": 282,
      "outputs": [
        {
          "output_type": "display_data",
          "data": {
            "text/plain": [
              "<Figure size 640x480 with 1 Axes>"
            ],
            "image/png": "[encoded data removed]"
          },
          "metadata": {}
        }
      ]
    },
    {
      "cell_type": "markdown",
      "source": [
        "После 5800 миль значения уходят практически в ноль, поэтому выбросы после него можно удалить."
      ],
      "metadata": {
        "id": "FkQwQxperhLo"
      }
    },
    {
      "cell_type": "markdown",
      "source": [
        "Departure Delay in Minutes"
      ],
      "metadata": {
        "id": "6ZHhEsrwsZ3M"
      }
    },
    {
      "cell_type": "code",
      "source": [
        "sns.histplot(df['Departure Delay in Minutes'], kde=True)\n",
        "plt.xlim(0, 100)\n",
        "plt.show()"
      ],
      "metadata": {
        "colab": {
          "base_uri": "https://localhost:8080/",
          "height": 449
        },
        "id": "RgipA7sHsaum",
        "outputId": "ef8ec81a-e580-4d04-f272-2163b4d3bdd7"
      },
      "execution_count": 283,
      "outputs": [
        {
          "output_type": "display_data",
          "data": {
            "text/plain": [
              "<Figure size 640x480 with 1 Axes>"
            ],
            "image/png": "[encoded data removed]"
          },
          "metadata": {}
        }
      ]
    },
    {
      "cell_type": "code",
      "source": [
        "df['Departure Delay in Minutes'].value_counts()"
      ],
      "metadata": {
        "id": "zK4L3Kzft3Wb",
        "colab": {
          "base_uri": "https://localhost:8080/"
        },
        "outputId": "2700fc64-028a-4b66-f837-b6408cfa8d6b"
      },
      "execution_count": 284,
      "outputs": [
        {
          "output_type": "execute_result",
          "data": {
            "text/plain": [
              "0.0       73291\n",
              "1.0        3674\n",
              "2.0        2844\n",
              "3.0        2521\n",
              "4.0        2303\n",
              "          ...  \n",
              "2093.0        1\n",
              "610.0         1\n",
              "426.0         1\n",
              "390.0         1\n",
              "1014.0        1\n",
              "Name: Departure Delay in Minutes, Length: 522, dtype: int64"
            ]
          },
          "metadata": {},
          "execution_count": 284
        }
      ]
    },
    {
      "cell_type": "markdown",
      "source": [
        "Посмтрим на распределение без 0 (73291 значений без задержки)\n",
        "\n"
      ],
      "metadata": {
        "id": "19_TxN3UuWT7"
      }
    },
    {
      "cell_type": "code",
      "source": [
        "sns.histplot(df['Departure Delay in Minutes'], kde=True)\n",
        "plt.xlim(1, 400)\n",
        "plt.ylim(0, 1000)\n",
        "plt.show()"
      ],
      "metadata": {
        "id": "a-aTjqywudkz",
        "colab": {
          "base_uri": "https://localhost:8080/",
          "height": 455
        },
        "outputId": "fb9a8584-0090-4451-d365-2dab083195a1"
      },
      "execution_count": 285,
      "outputs": [
        {
          "output_type": "display_data",
          "data": {
            "text/plain": [
              "<Figure size 640x480 with 1 Axes>"
            ],
            "image/png": "[encoded data removed]"
          },
          "metadata": {}
        }
      ]
    },
    {
      "cell_type": "markdown",
      "source": [
        "Аналогично с Arrival Delay in Minutes"
      ],
      "metadata": {
        "id": "uF_xrx2itG31"
      }
    },
    {
      "cell_type": "code",
      "source": [
        "sns.histplot(df['Arrival Delay in Minutes'], kde=True)\n",
        "plt.xlim(0, 100)\n",
        "plt.show()"
      ],
      "metadata": {
        "id": "rjQowYSKtKiP",
        "colab": {
          "base_uri": "https://localhost:8080/",
          "height": 449
        },
        "outputId": "47a526b4-db40-442b-83ca-79cbc72b9411"
      },
      "execution_count": 286,
      "outputs": [
        {
          "output_type": "display_data",
          "data": {
            "text/plain": [
              "<Figure size 640x480 with 1 Axes>"
            ],
            "image/png": "[encoded data removed]"
          },
          "metadata": {}
        }
      ]
    },
    {
      "cell_type": "code",
      "source": [
        "df['Arrival Delay in Minutes'].value_counts()"
      ],
      "metadata": {
        "id": "MMorvBW2uuij",
        "colab": {
          "base_uri": "https://localhost:8080/"
        },
        "outputId": "cfd09a40-c652-4636-aff2-f78c4a46258b"
      },
      "execution_count": 287,
      "outputs": [
        {
          "output_type": "execute_result",
          "data": {
            "text/plain": [
              "0.0       72683\n",
              "1.0        2738\n",
              "2.0        2582\n",
              "3.0        2439\n",
              "4.0        2370\n",
              "          ...  \n",
              "370.0         1\n",
              "282.0         1\n",
              "448.0         1\n",
              "7442.0        1\n",
              "1463.0        1\n",
              "Name: Arrival Delay in Minutes, Length: 534, dtype: int64"
            ]
          },
          "metadata": {},
          "execution_count": 287
        }
      ]
    },
    {
      "cell_type": "code",
      "source": [
        "sns.histplot(df['Arrival Delay in Minutes'], kde=True)\n",
        "plt.xlim(1, 200)\n",
        "plt.ylim(0, 2000)\n",
        "plt.show()"
      ],
      "metadata": {
        "id": "rxOkzMFCveZJ",
        "colab": {
          "base_uri": "https://localhost:8080/",
          "height": 455
        },
        "outputId": "ce03de48-b0c9-4c56-d9d0-24a667806dd2"
      },
      "execution_count": 288,
      "outputs": [
        {
          "output_type": "display_data",
          "data": {
            "text/plain": [
              "<Figure size 640x480 with 1 Axes>"
            ],
            "image/png": "[encoded data removed]"
          },
          "metadata": {}
        }
      ]
    },
    {
      "cell_type": "markdown",
      "source": [
        "## Посмотрим на оценки"
      ],
      "metadata": {
        "id": "XNMTCEnjQz0J"
      }
    },
    {
      "cell_type": "code",
      "source": [
        "df[['Inflight wifi service',\n",
        "    'Departure/Arrival time convenient',\n",
        "    'Ease of Online booking',\n",
        "    'Gate location',\n",
        "    'Food and drink',\n",
        "    'Online boarding',\n",
        "    'Seat comfort',\n",
        "    'Inflight entertainment',\n",
        "    'On-board service',\n",
        "    'Leg room service',\n",
        "    'Baggage handling',\n",
        "    'Checkin service',\n",
        "    'Inflight service',\n",
        "    'Cleanliness']].describe()"
      ],
      "metadata": {
        "id": "4dOK2btbQ6Or",
        "colab": {
          "base_uri": "https://localhost:8080/",
          "height": 399
        },
        "outputId": "528125fb-58fc-44f3-ba83-83e5c3ed7ae6"
      },
      "execution_count": 289,
      "outputs": [
        {
          "output_type": "execute_result",
          "data": {
            "text/plain": [
              "       Inflight wifi service  Departure/Arrival time convenient  \\\n",
              "count          129835.000000                      129831.000000   \n",
              "mean                2.732183                           3.061857   \n",
              "std                 1.359786                           1.559323   \n",
              "min                 0.000000                           0.000000   \n",
              "25%                 2.000000                           2.000000   \n",
              "50%                 3.000000                           3.000000   \n",
              "75%                 4.000000                           4.000000   \n",
              "max                45.000000                          45.000000   \n",
              "\n",
              "       Ease of Online booking  Gate location  Food and drink  Online boarding  \\\n",
              "count           129837.000000  129842.000000   129830.000000    129834.000000   \n",
              "mean                 2.760523       2.981424        3.208349         3.256674   \n",
              "std                  1.430800       1.312628        1.357649         1.381889   \n",
              "min                  0.000000       0.000000        0.000000         0.000000   \n",
              "25%                  2.000000       2.000000        2.000000         2.000000   \n",
              "50%                  3.000000       3.000000        3.000000         3.000000   \n",
              "75%                  4.000000       4.000000        4.000000         4.000000   \n",
              "max                 45.000000      36.000000       45.000000        40.000000   \n",
              "\n",
              "        Seat comfort  Inflight entertainment  On-board service  \\\n",
              "count  129832.000000           129833.000000     129836.000000   \n",
              "mean        3.445691                3.361395          3.387181   \n",
              "std         1.349732                1.366866          1.335540   \n",
              "min         0.000000                0.000000          0.000000   \n",
              "25%         2.000000                2.000000          2.000000   \n",
              "50%         4.000000                4.000000          4.000000   \n",
              "75%         5.000000                4.000000          4.000000   \n",
              "max        45.000000               45.000000         45.000000   \n",
              "\n",
              "       Leg room service  Baggage handling  Checkin service  Inflight service  \\\n",
              "count     129834.000000     129832.000000    129838.000000      129817.00000   \n",
              "mean           3.356101          3.636107         3.310056           3.64718   \n",
              "std            1.361633          1.221818         1.298626           1.21837   \n",
              "min            0.000000          0.000000         0.000000           0.00000   \n",
              "25%            2.000000          3.000000         3.000000           3.00000   \n",
              "50%            4.000000          4.000000         3.000000           4.00000   \n",
              "75%            4.000000          5.000000         4.000000           5.00000   \n",
              "max           40.000000         40.000000        45.000000          40.00000   \n",
              "\n",
              "         Cleanliness  \n",
              "count  129843.000000  \n",
              "mean        3.289865  \n",
              "std         1.347625  \n",
              "min         0.000000  \n",
              "25%         2.000000  \n",
              "50%         3.000000  \n",
              "75%         4.000000  \n",
              "max        45.000000  "
            ],
            "text/html": [
              "\n",
              "  <div id=\"df-362406d6-4af6-4c43-bdf2-26a10dc7d0bb\">\n",
              "    <div class=\"colab-df-container\">\n",
              "      <div>\n",
              "<style scoped>\n",
              "    .dataframe tbody tr th:only-of-type {\n",
              "        vertical-align: middle;\n",
              "    }\n",
              "\n",
              "    .dataframe tbody tr th {\n",
              "        vertical-align: top;\n",
              "    }\n",
              "\n",
              "    .dataframe thead th {\n",
              "        text-align: right;\n",
              "    }\n",
              "</style>\n",
              "<table border=\"1\" class=\"dataframe\">\n",
              "  <thead>\n",
              "    <tr style=\"text-align: right;\">\n",
              "      <th></th>\n",
              "      <th>Inflight wifi service</th>\n",
              "      <th>Departure/Arrival time convenient</th>\n",
              "      <th>Ease of Online booking</th>\n",
              "      <th>Gate location</th>\n",
              "      <th>Food and drink</th>\n",
              "      <th>Online boarding</th>\n",
              "      <th>Seat comfort</th>\n",
              "      <th>Inflight entertainment</th>\n",
              "      <th>On-board service</th>\n",
              "      <th>Leg room service</th>\n",
              "      <th>Baggage handling</th>\n",
              "      <th>Checkin service</th>\n",
              "      <th>Inflight service</th>\n",
              "      <th>Cleanliness</th>\n",
              "    </tr>\n",
              "  </thead>\n",
              "  <tbody>\n",
              "    <tr>\n",
              "      <th>count</th>\n",
              "      <td>129835.000000</td>\n",
              "      <td>129831.000000</td>\n",
              "      <td>129837.000000</td>\n",
              "      <td>129842.000000</td>\n",
              "      <td>129830.000000</td>\n",
              "      <td>129834.000000</td>\n",
              "      <td>129832.000000</td>\n",
              "      <td>129833.000000</td>\n",
              "      <td>129836.000000</td>\n",
              "      <td>129834.000000</td>\n",
              "      <td>129832.000000</td>\n",
              "      <td>129838.000000</td>\n",
              "      <td>129817.00000</td>\n",
              "      <td>129843.000000</td>\n",
              "    </tr>\n",
              "    <tr>\n",
              "      <th>mean</th>\n",
              "      <td>2.732183</td>\n",
              "      <td>3.061857</td>\n",
              "      <td>2.760523</td>\n",
              "      <td>2.981424</td>\n",
              "      <td>3.208349</td>\n",
              "      <td>3.256674</td>\n",
              "      <td>3.445691</td>\n",
              "      <td>3.361395</td>\n",
              "      <td>3.387181</td>\n",
              "      <td>3.356101</td>\n",
              "      <td>3.636107</td>\n",
              "      <td>3.310056</td>\n",
              "      <td>3.64718</td>\n",
              "      <td>3.289865</td>\n",
              "    </tr>\n",
              "    <tr>\n",
              "      <th>std</th>\n",
              "      <td>1.359786</td>\n",
              "      <td>1.559323</td>\n",
              "      <td>1.430800</td>\n",
              "      <td>1.312628</td>\n",
              "      <td>1.357649</td>\n",
              "      <td>1.381889</td>\n",
              "      <td>1.349732</td>\n",
              "      <td>1.366866</td>\n",
              "      <td>1.335540</td>\n",
              "      <td>1.361633</td>\n",
              "      <td>1.221818</td>\n",
              "      <td>1.298626</td>\n",
              "      <td>1.21837</td>\n",
              "      <td>1.347625</td>\n",
              "    </tr>\n",
              "    <tr>\n",
              "      <th>min</th>\n",
              "      <td>0.000000</td>\n",
              "      <td>0.000000</td>\n",
              "      <td>0.000000</td>\n",
              "      <td>0.000000</td>\n",
              "      <td>0.000000</td>\n",
              "      <td>0.000000</td>\n",
              "      <td>0.000000</td>\n",
              "      <td>0.000000</td>\n",
              "      <td>0.000000</td>\n",
              "      <td>0.000000</td>\n",
              "      <td>0.000000</td>\n",
              "      <td>0.000000</td>\n",
              "      <td>0.00000</td>\n",
              "      <td>0.000000</td>\n",
              "    </tr>\n",
              "    <tr>\n",
              "      <th>25%</th>\n",
              "      <td>2.000000</td>\n",
              "      <td>2.000000</td>\n",
              "      <td>2.000000</td>\n",
              "      <td>2.000000</td>\n",
              "      <td>2.000000</td>\n",
              "      <td>2.000000</td>\n",
              "      <td>2.000000</td>\n",
              "      <td>2.000000</td>\n",
              "      <td>2.000000</td>\n",
              "      <td>2.000000</td>\n",
              "      <td>3.000000</td>\n",
              "      <td>3.000000</td>\n",
              "      <td>3.00000</td>\n",
              "      <td>2.000000</td>\n",
              "    </tr>\n",
              "    <tr>\n",
              "      <th>50%</th>\n",
              "      <td>3.000000</td>\n",
              "      <td>3.000000</td>\n",
              "      <td>3.000000</td>\n",
              "      <td>3.000000</td>\n",
              "      <td>3.000000</td>\n",
              "      <td>3.000000</td>\n",
              "      <td>4.000000</td>\n",
              "      <td>4.000000</td>\n",
              "      <td>4.000000</td>\n",
              "      <td>4.000000</td>\n",
              "      <td>4.000000</td>\n",
              "      <td>3.000000</td>\n",
              "      <td>4.00000</td>\n",
              "      <td>3.000000</td>\n",
              "    </tr>\n",
              "    <tr>\n",
              "      <th>75%</th>\n",
              "      <td>4.000000</td>\n",
              "      <td>4.000000</td>\n",
              "      <td>4.000000</td>\n",
              "      <td>4.000000</td>\n",
              "      <td>4.000000</td>\n",
              "      <td>4.000000</td>\n",
              "      <td>5.000000</td>\n",
              "      <td>4.000000</td>\n",
              "      <td>4.000000</td>\n",
              "      <td>4.000000</td>\n",
              "      <td>5.000000</td>\n",
              "      <td>4.000000</td>\n",
              "      <td>5.00000</td>\n",
              "      <td>4.000000</td>\n",
              "    </tr>\n",
              "    <tr>\n",
              "      <th>max</th>\n",
              "      <td>45.000000</td>\n",
              "      <td>45.000000</td>\n",
              "      <td>45.000000</td>\n",
              "      <td>36.000000</td>\n",
              "      <td>45.000000</td>\n",
              "      <td>40.000000</td>\n",
              "      <td>45.000000</td>\n",
              "      <td>45.000000</td>\n",
              "      <td>45.000000</td>\n",
              "      <td>40.000000</td>\n",
              "      <td>40.000000</td>\n",
              "      <td>45.000000</td>\n",
              "      <td>40.00000</td>\n",
              "      <td>45.000000</td>\n",
              "    </tr>\n",
              "  </tbody>\n",
              "</table>\n",
              "</div>\n",
              "      <button class=\"colab-df-convert\" onclick=\"convertToInteractive('df-362406d6-4af6-4c43-bdf2-26a10dc7d0bb')\"\n",
              "              title=\"Convert this dataframe to an interactive table.\"\n",
              "              style=\"display:none;\">\n",
              "        \n",
              "  <svg xmlns=\"http://www.w3.org/2000/svg\" height=\"24px\"viewBox=\"0 0 24 24\"\n",
              "       width=\"24px\">\n",
              "    <path d=\"M0 0h24v24H0V0z\" fill=\"none\"/>\n",
              "    <path d=\"M18.56 5.44l.94 2.06.94-2.06 2.06-.94-2.06-.94-.94-2.06-.94 2.06-2.06.94zm-11 1L8.5 8.5l.94-2.06 2.06-.94-2.06-.94L8.5 2.5l-.94 2.06-2.06.94zm10 10l.94 2.06.94-2.06 2.06-.94-2.06-.94-.94-2.06-.94 2.06-2.06.94z\"/><path d=\"M17.41 7.96l-1.37-1.37c-.4-.4-.92-.59-1.43-.59-.52 0-1.04.2-1.43.59L10.3 9.45l-7.72 7.72c-.78.78-.78 2.05 0 2.83L4 21.41c.39.39.9.59 1.41.59.51 0 1.02-.2 1.41-.59l7.78-7.78 2.81-2.81c.8-.78.8-2.07 0-2.86zM5.41 20L4 18.59l7.72-7.72 1.47 1.35L5.41 20z\"/>\n",
              "  </svg>\n",
              "      </button>\n",
              "      \n",
              "  <style>\n",
              "    .colab-df-container {\n",
              "      display:flex;\n",
              "      flex-wrap:wrap;\n",
              "      gap: 12px;\n",
              "    }\n",
              "\n",
              "    .colab-df-convert {\n",
              "      background-color: #E8F0FE;\n",
              "      border: none;\n",
              "      border-radius: 50%;\n",
              "      cursor: pointer;\n",
              "      display: none;\n",
              "      fill: #1967D2;\n",
              "      height: 32px;\n",
              "      padding: 0 0 0 0;\n",
              "      width: 32px;\n",
              "    }\n",
              "\n",
              "    .colab-df-convert:hover {\n",
              "      background-color: #E2EBFA;\n",
              "      box-shadow: 0px 1px 2px rgba(60, 64, 67, 0.3), 0px 1px 3px 1px rgba(60, 64, 67, 0.15);\n",
              "      fill: #174EA6;\n",
              "    }\n",
              "\n",
              "    [theme=dark] .colab-df-convert {\n",
              "      background-color: #3B4455;\n",
              "      fill: #D2E3FC;\n",
              "    }\n",
              "\n",
              "    [theme=dark] .colab-df-convert:hover {\n",
              "      background-color: #434B5C;\n",
              "      box-shadow: 0px 1px 3px 1px rgba(0, 0, 0, 0.15);\n",
              "      filter: drop-shadow(0px 1px 2px rgba(0, 0, 0, 0.3));\n",
              "      fill: #FFFFFF;\n",
              "    }\n",
              "  </style>\n",
              "\n",
              "      <script>\n",
              "        const buttonEl =\n",
              "          document.querySelector('#df-362406d6-4af6-4c43-bdf2-26a10dc7d0bb button.colab-df-convert');\n",
              "        buttonEl.style.display =\n",
              "          google.colab.kernel.accessAllowed ? 'block' : 'none';\n",
              "\n",
              "        async function convertToInteractive(key) {\n",
              "          const element = document.querySelector('#df-362406d6-4af6-4c43-bdf2-26a10dc7d0bb');\n",
              "          const dataTable =\n",
              "            await google.colab.kernel.invokeFunction('convertToInteractive',\n",
              "                                                     [key], {});\n",
              "          if (!dataTable) return;\n",
              "\n",
              "          const docLinkHtml = 'Like what you see? Visit the ' +\n",
              "            '<a target=\"_blank\" href=https://colab.research.google.com/notebooks/data_table.ipynb>data table notebook</a>'\n",
              "            + ' to learn more about interactive tables.';\n",
              "          element.innerHTML = '';\n",
              "          dataTable['output_type'] = 'display_data';\n",
              "          await google.colab.output.renderOutput(dataTable, element);\n",
              "          const docLink = document.createElement('div');\n",
              "          docLink.innerHTML = docLinkHtml;\n",
              "          element.appendChild(docLink);\n",
              "        }\n",
              "      </script>\n",
              "    </div>\n",
              "  </div>\n",
              "  "
            ]
          },
          "metadata": {},
          "execution_count": 289
        }
      ]
    },
    {
      "cell_type": "markdown",
      "source": [
        "По данным датасета оценки должны быть в диапозоне от 1 до 5.\n",
        "Ни в одной категории нет отрицательных оценок, но в каждой есть максимальные значения-выбросы выходящие за дипазон."
      ],
      "metadata": {
        "id": "iMiD4wEyUGJp"
      }
    },
    {
      "cell_type": "markdown",
      "source": [
        "# Посмотрим на распределение оценок"
      ],
      "metadata": {
        "id": "sjfqc_Gs-tiw"
      }
    },
    {
      "cell_type": "code",
      "source": [
        "sns.histplot(df['Inflight wifi service'], kde=True)\n",
        "plt.show()"
      ],
      "metadata": {
        "id": "ZBCeLE_1-tix",
        "colab": {
          "base_uri": "https://localhost:8080/",
          "height": 449
        },
        "outputId": "123761e7-ff62-4e22-cdb5-46563f6fe100"
      },
      "execution_count": 290,
      "outputs": [
        {
          "output_type": "display_data",
          "data": {
            "text/plain": [
              "<Figure size 640x480 with 1 Axes>"
            ],
            "image/png": "[encoded data removed]"
          },
          "metadata": {}
        }
      ]
    },
    {
      "cell_type": "markdown",
      "source": [
        "В основном распределение от 1 до 5, некоторые выбросы не видно из-за большого масштаба по х"
      ],
      "metadata": {
        "id": "4OEWlBdMYVhi"
      }
    },
    {
      "cell_type": "markdown",
      "source": [
        "Давайте немного уменьшим масштаб, чтобы убедиться, что они есть"
      ],
      "metadata": {
        "id": "vTERFh_HZbb9"
      }
    },
    {
      "cell_type": "code",
      "source": [
        "sns.histplot(df['Inflight wifi service'], kde=True)\n",
        "plt.xlim(0, 47)\n",
        "plt.ylim(0, 4)\n",
        "plt.show()"
      ],
      "metadata": {
        "id": "e3QvmNpTXGGq",
        "colab": {
          "base_uri": "https://localhost:8080/",
          "height": 455
        },
        "outputId": "f0e5761b-c903-4dee-f87d-a495efd3a26d"
      },
      "execution_count": 291,
      "outputs": [
        {
          "output_type": "display_data",
          "data": {
            "text/plain": [
              "<Figure size 640x480 with 1 Axes>"
            ],
            "image/png": "[encoded data removed]"
          },
          "metadata": {}
        }
      ]
    },
    {
      "cell_type": "markdown",
      "source": [
        "Аналогичные проблемы и с другими категориями, необходимо будет очистить их от подобных выбросов. Давайте посмотрим на распределение еще какой-нибудь оценочной категории, посмотрим оба на одном графике для интереса и далее приступим к очистке."
      ],
      "metadata": {
        "id": "_Aqv9jmqZ1T6"
      }
    },
    {
      "cell_type": "code",
      "source": [
        "sns.histplot(df['Seat comfort'], kde=True)\n",
        "plt.show()"
      ],
      "metadata": {
        "id": "U2g9635E-tiy",
        "colab": {
          "base_uri": "https://localhost:8080/",
          "height": 449
        },
        "outputId": "9510d298-d021-4753-c968-7e1611eb155f"
      },
      "execution_count": 292,
      "outputs": [
        {
          "output_type": "display_data",
          "data": {
            "text/plain": [
              "<Figure size 640x480 with 1 Axes>"
            ],
            "image/png": "[encoded data removed]"
          },
          "metadata": {}
        }
      ]
    },
    {
      "cell_type": "code",
      "source": [
        "sns.histplot(df['Seat comfort'], kde=True)\n",
        "plt.xlim(0, 6)\n",
        "plt.show()"
      ],
      "metadata": {
        "id": "Tu8ssSZuaOoV",
        "colab": {
          "base_uri": "https://localhost:8080/",
          "height": 449
        },
        "outputId": "513615af-c5f8-4049-bf1f-e462bd3d5628"
      },
      "execution_count": 293,
      "outputs": [
        {
          "output_type": "display_data",
          "data": {
            "text/plain": [
              "<Figure size 640x480 with 1 Axes>"
            ],
            "image/png": "[encoded data removed]"
          },
          "metadata": {}
        }
      ]
    },
    {
      "cell_type": "markdown",
      "source": [
        "### Посмотрим эти две категории на одном графике"
      ],
      "metadata": {
        "id": "VgXln4zwa-0L"
      }
    },
    {
      "cell_type": "code",
      "source": [
        "sns.histplot(df[['Inflight wifi service','Seat comfort']], kde=True)\n",
        "plt.show()"
      ],
      "metadata": {
        "id": "gkBL3LsX-tiy",
        "colab": {
          "base_uri": "https://localhost:8080/",
          "height": 430
        },
        "outputId": "0a00c142-eb99-43da-f975-b9b2bcbeec29"
      },
      "execution_count": 294,
      "outputs": [
        {
          "output_type": "display_data",
          "data": {
            "text/plain": [
              "<Figure size 640x480 with 1 Axes>"
            ],
            "image/png": "[encoded data removed]"
          },
          "metadata": {}
        }
      ]
    },
    {
      "cell_type": "markdown",
      "source": [
        "* Можем заметить, что у удобства сиденья больше высоких оценок."
      ],
      "metadata": {
        "id": "I758YTnp-tiz"
      }
    },
    {
      "cell_type": "markdown",
      "source": [
        "## Заменим выбросы в каждой категории на nan"
      ],
      "metadata": {
        "id": "qU99NRlbc7jv"
      }
    },
    {
      "cell_type": "code",
      "source": [
        "for col in ['Inflight wifi service',\n",
        "    'Departure/Arrival time convenient',\n",
        "    'Ease of Online booking',\n",
        "    'Gate location',\n",
        "    'Food and drink',\n",
        "    'Online boarding',\n",
        "    'Seat comfort',\n",
        "    'Inflight entertainment',\n",
        "    'On-board service',\n",
        "    'Leg room service',\n",
        "    'Baggage handling',\n",
        "    'Checkin service',\n",
        "    'Inflight service',\n",
        "    'Cleanliness']:\n",
        "    # mean = df[col].mean()\n",
        "    df[col] = np.where(df[col] > 5, np.nan, df[col])\n",
        "    print(df[col].value_counts(dropna=False))\n",
        "    # df[col].fillna(mean, inplace=True)\n",
        "    # df[col] = np.where(df[col].astype(int) != df[col], mean, df[col])"
      ],
      "metadata": {
        "id": "rl9l3KYbdwzK",
        "colab": {
          "base_uri": "https://localhost:8080/"
        },
        "outputId": "2f4e0864-6cca-4be6-81c2-561946c73376"
      },
      "execution_count": 295,
      "outputs": [
        {
          "output_type": "stream",
          "name": "stdout",
          "text": [
            "2.0    32306\n",
            "3.0    32156\n",
            "4.0    24758\n",
            "1.0    22318\n",
            "5.0    14345\n",
            "0.0     3918\n",
            "NaN       79\n",
            "Name: Inflight wifi service, dtype: int64\n",
            "4.0    31862\n",
            "5.0    27974\n",
            "3.0    22362\n",
            "2.0    21516\n",
            "1.0    19392\n",
            "0.0     6686\n",
            "NaN       88\n",
            "Name: Departure/Arrival time convenient, dtype: int64\n",
            "3.0    30382\n",
            "2.0    30036\n",
            "4.0    24424\n",
            "1.0    21868\n",
            "5.0    17414\n",
            "0.0     5683\n",
            "NaN       73\n",
            "Name: Ease of Online booking, dtype: int64\n",
            "3.0    35695\n",
            "4.0    30445\n",
            "2.0    24278\n",
            "1.0    21981\n",
            "5.0    17399\n",
            "NaN       81\n",
            "0.0        1\n",
            "Name: Gate location, dtype: int64\n",
            "4.0    30546\n",
            "5.0    27947\n",
            "3.0    27769\n",
            "2.0    27363\n",
            "1.0    16035\n",
            "0.0      138\n",
            "NaN       82\n",
            "Name: Food and drink, dtype: int64\n",
            "4.0    38439\n",
            "3.0    27105\n",
            "5.0    26001\n",
            "2.0    21926\n",
            "1.0    13245\n",
            "0.0     3084\n",
            "NaN       80\n",
            "Name: Online boarding, dtype: int64\n",
            "4.0    39727\n",
            "5.0    33139\n",
            "3.0    23308\n",
            "2.0    18513\n",
            "1.0    15096\n",
            "NaN       91\n",
            "0.0        6\n",
            "Name: Seat comfort, dtype: int64\n",
            "4.0    36770\n",
            "5.0    31524\n",
            "3.0    23872\n",
            "2.0    21948\n",
            "1.0    15670\n",
            "NaN       73\n",
            "0.0       23\n",
            "Name: Inflight entertainment, dtype: int64\n",
            "4.0    38671\n",
            "5.0    29472\n",
            "3.0    28528\n",
            "2.0    18345\n",
            "1.0    14783\n",
            "NaN       72\n",
            "0.0        9\n",
            "Name: On-board service, dtype: int64\n",
            "4.0    35863\n",
            "5.0    30878\n",
            "3.0    25038\n",
            "2.0    24524\n",
            "1.0    12887\n",
            "0.0      603\n",
            "NaN       87\n",
            "Name: Leg room service, dtype: int64\n",
            "4.0    46729\n",
            "5.0    33857\n",
            "3.0    25836\n",
            "2.0    14352\n",
            "1.0     9023\n",
            "NaN       77\n",
            "0.0        6\n",
            "Name: Baggage handling, dtype: int64\n",
            "4.0    36310\n",
            "3.0    35430\n",
            "5.0    25867\n",
            "1.0    16094\n",
            "2.0    16093\n",
            "NaN       80\n",
            "0.0        6\n",
            "Name: Checkin service, dtype: int64\n",
            "4.0    47283\n",
            "5.0    34044\n",
            "3.0    25294\n",
            "2.0    14291\n",
            "1.0     8856\n",
            "NaN      106\n",
            "0.0        6\n",
            "Name: Inflight service, dtype: int64\n",
            "4.0    33956\n",
            "3.0    30624\n",
            "5.0    28396\n",
            "2.0    20096\n",
            "1.0    16723\n",
            "NaN       65\n",
            "0.0       20\n",
            "Name: Cleanliness, dtype: int64\n"
          ]
        }
      ]
    },
    {
      "cell_type": "code",
      "source": [
        "sum_of_nan_ratings = df[['Inflight wifi service',\n",
        "    'Departure/Arrival time convenient',\n",
        "    'Ease of Online booking',\n",
        "    'Gate location',\n",
        "    'Food and drink',\n",
        "    'Online boarding',\n",
        "    'Seat comfort',\n",
        "    'Inflight entertainment',\n",
        "    'On-board service',\n",
        "    'Leg room service',\n",
        "    'Baggage handling',\n",
        "    'Checkin service',\n",
        "    'Inflight service',\n",
        "    'Cleanliness']].isnull().sum()"
      ],
      "metadata": {
        "id": "FdFmOwJk9fpT"
      },
      "execution_count": 296,
      "outputs": []
    },
    {
      "cell_type": "markdown",
      "source": [
        "Всего у нас пропущенных значений, даже при условии, что все они не пересекаются друг с другом будет:"
      ],
      "metadata": {
        "id": "JBgUk_Tl-oE5"
      }
    },
    {
      "cell_type": "code",
      "source": [
        "sum(sum_of_nan_ratings)"
      ],
      "metadata": {
        "id": "tqYqC-K2-Kvx",
        "colab": {
          "base_uri": "https://localhost:8080/"
        },
        "outputId": "5f4aed0b-f008-498e-9152-d4eae4e5c478"
      },
      "execution_count": 297,
      "outputs": [
        {
          "output_type": "execute_result",
          "data": {
            "text/plain": [
              "1134"
            ]
          },
          "metadata": {},
          "execution_count": 297
        }
      ]
    },
    {
      "cell_type": "code",
      "source": [
        "print(f'{round(sum(sum_of_nan_ratings)/df.shape[0] * 100, 2)}%')"
      ],
      "metadata": {
        "id": "2y2Ra4Fh-6yb",
        "colab": {
          "base_uri": "https://localhost:8080/"
        },
        "outputId": "4ba09be2-6ed2-4b55-9c7c-6eeddc7e572e"
      },
      "execution_count": 298,
      "outputs": [
        {
          "output_type": "stream",
          "name": "stdout",
          "text": [
            "0.87%\n"
          ]
        }
      ]
    },
    {
      "cell_type": "markdown",
      "source": [
        "Неопределенных значений теперь в каждой категории меньше 1%, поэтому их можно будет удалить"
      ],
      "metadata": {
        "id": "mg7k2b-M8u11"
      }
    },
    {
      "cell_type": "markdown",
      "source": [
        "## Сначала разберемся с оставшимися категориями"
      ],
      "metadata": {
        "id": "vuwoR4b_VlMi"
      }
    },
    {
      "cell_type": "markdown",
      "source": [
        "Заменим на средние значения выбросы в 'Age', 'Flight Distance', 'Departure Delay in Minutes' и 'Arrival Delay in Minutes'"
      ],
      "metadata": {
        "id": "GYDecUgUWJ1e"
      }
    },
    {
      "cell_type": "code",
      "source": [
        "mean = df['Age'].mean()\n",
        "df['Age'] = np.where(df['Age'] > 100, mean, df['Age'])\n",
        "df['Age'].fillna(mean, inplace=True)\n",
        "\n",
        "df['Age'].max()"
      ],
      "metadata": {
        "id": "JF_R0ljdXUJe",
        "colab": {
          "base_uri": "https://localhost:8080/"
        },
        "outputId": "7bf748d4-9d96-4292-e07c-b862aeed1ee3"
      },
      "execution_count": 299,
      "outputs": [
        {
          "output_type": "execute_result",
          "data": {
            "text/plain": [
              "100.0"
            ]
          },
          "metadata": {},
          "execution_count": 299
        }
      ]
    },
    {
      "cell_type": "code",
      "source": [
        "df['Age'].info()"
      ],
      "metadata": {
        "id": "jhZtPoMOYBqF",
        "colab": {
          "base_uri": "https://localhost:8080/"
        },
        "outputId": "a25788a7-1acf-4853-ed14-945877595f7a"
      },
      "execution_count": 300,
      "outputs": [
        {
          "output_type": "stream",
          "name": "stdout",
          "text": [
            "<class 'pandas.core.series.Series'>\n",
            "RangeIndex: 129880 entries, 0 to 129879\n",
            "Series name: Age\n",
            "Non-Null Count   Dtype  \n",
            "--------------   -----  \n",
            "129880 non-null  float64\n",
            "dtypes: float64(1)\n",
            "memory usage: 1014.8 KB\n"
          ]
        }
      ]
    },
    {
      "cell_type": "code",
      "source": [
        "mean = df['Flight Distance'].mean()\n",
        "df['Flight Distance'] = np.where(df['Flight Distance'] > 9537, mean, df['Flight Distance'])\n",
        "df['Flight Distance'].fillna(mean, inplace=True)\n",
        "\n",
        "df['Flight Distance'].max()"
      ],
      "metadata": {
        "id": "QDQ7HUOkYBxF",
        "colab": {
          "base_uri": "https://localhost:8080/"
        },
        "outputId": "6278391f-3fd7-4383-c316-d289eb63770f"
      },
      "execution_count": 301,
      "outputs": [
        {
          "output_type": "execute_result",
          "data": {
            "text/plain": [
              "9522.0"
            ]
          },
          "metadata": {},
          "execution_count": 301
        }
      ]
    },
    {
      "cell_type": "code",
      "source": [
        "df['Flight Distance'].info()"
      ],
      "metadata": {
        "id": "dox53TfoYB25",
        "colab": {
          "base_uri": "https://localhost:8080/"
        },
        "outputId": "c91dcfa2-db8b-4182-c6b7-65a6ae75dd91"
      },
      "execution_count": 302,
      "outputs": [
        {
          "output_type": "stream",
          "name": "stdout",
          "text": [
            "<class 'pandas.core.series.Series'>\n",
            "RangeIndex: 129880 entries, 0 to 129879\n",
            "Series name: Flight Distance\n",
            "Non-Null Count   Dtype  \n",
            "--------------   -----  \n",
            "129880 non-null  float64\n",
            "dtypes: float64(1)\n",
            "memory usage: 1014.8 KB\n"
          ]
        }
      ]
    },
    {
      "cell_type": "code",
      "source": [
        "mean = df['Departure Delay in Minutes'].mean()\n",
        "df['Departure Delay in Minutes'] = np.where(df['Departure Delay in Minutes'] > 1440, mean, df['Departure Delay in Minutes'])\n",
        "df['Departure Delay in Minutes'].fillna(mean, inplace=True)\n",
        "\n",
        "df['Departure Delay in Minutes'].max()"
      ],
      "metadata": {
        "id": "GQK7aUlLXxoc",
        "colab": {
          "base_uri": "https://localhost:8080/"
        },
        "outputId": "84ed846f-f34d-4243-8485-b65c097164d9"
      },
      "execution_count": 303,
      "outputs": [
        {
          "output_type": "execute_result",
          "data": {
            "text/plain": [
              "1425.0"
            ]
          },
          "metadata": {},
          "execution_count": 303
        }
      ]
    },
    {
      "cell_type": "code",
      "source": [
        "df['Departure Delay in Minutes'].info()"
      ],
      "metadata": {
        "id": "GhCJyLdkYb75",
        "colab": {
          "base_uri": "https://localhost:8080/"
        },
        "outputId": "66e58b0f-d259-4c36-d66c-d9d235f3f502"
      },
      "execution_count": 304,
      "outputs": [
        {
          "output_type": "stream",
          "name": "stdout",
          "text": [
            "<class 'pandas.core.series.Series'>\n",
            "RangeIndex: 129880 entries, 0 to 129879\n",
            "Series name: Departure Delay in Minutes\n",
            "Non-Null Count   Dtype  \n",
            "--------------   -----  \n",
            "129880 non-null  float64\n",
            "dtypes: float64(1)\n",
            "memory usage: 1014.8 KB\n"
          ]
        }
      ]
    },
    {
      "cell_type": "code",
      "source": [
        "mean = df['Arrival Delay in Minutes'].mean()\n",
        "df['Arrival Delay in Minutes'] = np.where(df['Arrival Delay in Minutes'] > 1440, mean, df['Arrival Delay in Minutes'])\n",
        "df['Arrival Delay in Minutes'].fillna(mean, inplace=True)\n",
        "\n",
        "df['Arrival Delay in Minutes'].max()"
      ],
      "metadata": {
        "id": "cKt-EIbaYfv5",
        "colab": {
          "base_uri": "https://localhost:8080/"
        },
        "outputId": "98b2a46d-e739-423b-ff72-4204c0739ade"
      },
      "execution_count": 305,
      "outputs": [
        {
          "output_type": "execute_result",
          "data": {
            "text/plain": [
              "1364.0"
            ]
          },
          "metadata": {},
          "execution_count": 305
        }
      ]
    },
    {
      "cell_type": "code",
      "source": [
        "df['Arrival Delay in Minutes'].info()"
      ],
      "metadata": {
        "id": "vuyfPuTQYgAI",
        "colab": {
          "base_uri": "https://localhost:8080/"
        },
        "outputId": "f999b807-3758-47b3-ce49-2d64d6365552"
      },
      "execution_count": 306,
      "outputs": [
        {
          "output_type": "stream",
          "name": "stdout",
          "text": [
            "<class 'pandas.core.series.Series'>\n",
            "RangeIndex: 129880 entries, 0 to 129879\n",
            "Series name: Arrival Delay in Minutes\n",
            "Non-Null Count   Dtype  \n",
            "--------------   -----  \n",
            "129880 non-null  float64\n",
            "dtypes: float64(1)\n",
            "memory usage: 1014.8 KB\n"
          ]
        }
      ]
    },
    {
      "cell_type": "code",
      "source": [],
      "metadata": {
        "id": "5ZfzQDYlA-5l"
      },
      "execution_count": 306,
      "outputs": []
    },
    {
      "cell_type": "markdown",
      "source": [],
      "metadata": {
        "id": "R2Fd0fwxWIzJ"
      }
    },
    {
      "cell_type": "code",
      "source": [
        "df.head()"
      ],
      "metadata": {
        "id": "RbsOTPfjBDOV",
        "colab": {
          "base_uri": "https://localhost:8080/",
          "height": 418
        },
        "outputId": "74601ac8-9d9a-4314-c868-d60c9fd7d661"
      },
      "execution_count": 307,
      "outputs": [
        {
          "output_type": "execute_result",
          "data": {
            "text/plain": [
              "   id  Gender   Age      Customer Type   Type of Travel     Class  \\\n",
              "0   1    Male  48.0  disloyal Customer  Business travel  Business   \n",
              "1   2  Female  35.0     Loyal Customer  Business travel  Business   \n",
              "2   3    Male  41.0     Loyal Customer  Business travel  Business   \n",
              "3   4    Male  50.0     Loyal Customer  Business travel  Business   \n",
              "4   5  Female  49.0     Loyal Customer  Business travel  Business   \n",
              "\n",
              "   Flight Distance  Departure Delay in Minutes  Arrival Delay in Minutes  \\\n",
              "0            821.0                         2.0                       5.0   \n",
              "1            821.0                        26.0                      39.0   \n",
              "2            853.0                         0.0                       0.0   \n",
              "3           1905.0                         0.0                       0.0   \n",
              "4           3470.0                         0.0                       1.0   \n",
              "\n",
              "   Inflight wifi service  ...  Online boarding  Seat comfort  \\\n",
              "0                    3.0  ...              3.0           5.0   \n",
              "1                    2.0  ...              5.0           4.0   \n",
              "2                    4.0  ...              5.0           5.0   \n",
              "3                    2.0  ...              4.0           5.0   \n",
              "4                    3.0  ...              5.0           4.0   \n",
              "\n",
              "   Inflight entertainment  On-board service  Leg room service  \\\n",
              "0                     5.0               3.0               2.0   \n",
              "1                     5.0               5.0               5.0   \n",
              "2                     3.0               3.0               3.0   \n",
              "3                     5.0               5.0               5.0   \n",
              "4                     3.0               3.0               4.0   \n",
              "\n",
              "   Baggage handling  Checkin service  Inflight service  Cleanliness  \\\n",
              "0               5.0              4.0               5.0          5.0   \n",
              "1               5.0              3.0               5.0          5.0   \n",
              "2               3.0              4.0               3.0          5.0   \n",
              "3               5.0              3.0               5.0          4.0   \n",
              "4               3.0              3.0               3.0          5.0   \n",
              "\n",
              "              satisfaction  \n",
              "0  neutral or dissatisfied  \n",
              "1                satisfied  \n",
              "2                satisfied  \n",
              "3                satisfied  \n",
              "4                satisfied  \n",
              "\n",
              "[5 rows x 24 columns]"
            ],
            "text/html": [
              "\n",
              "  <div id=\"df-4ca14ef3-887b-43e4-8cce-fabc50a906a0\">\n",
              "    <div class=\"colab-df-container\">\n",
              "      <div>\n",
              "<style scoped>\n",
              "    .dataframe tbody tr th:only-of-type {\n",
              "        vertical-align: middle;\n",
              "    }\n",
              "\n",
              "    .dataframe tbody tr th {\n",
              "        vertical-align: top;\n",
              "    }\n",
              "\n",
              "    .dataframe thead th {\n",
              "        text-align: right;\n",
              "    }\n",
              "</style>\n",
              "<table border=\"1\" class=\"dataframe\">\n",
              "  <thead>\n",
              "    <tr style=\"text-align: right;\">\n",
              "      <th></th>\n",
              "      <th>id</th>\n",
              "      <th>Gender</th>\n",
              "      <th>Age</th>\n",
              "      <th>Customer Type</th>\n",
              "      <th>Type of Travel</th>\n",
              "      <th>Class</th>\n",
              "      <th>Flight Distance</th>\n",
              "      <th>Departure Delay in Minutes</th>\n",
              "      <th>Arrival Delay in Minutes</th>\n",
              "      <th>Inflight wifi service</th>\n",
              "      <th>...</th>\n",
              "      <th>Online boarding</th>\n",
              "      <th>Seat comfort</th>\n",
              "      <th>Inflight entertainment</th>\n",
              "      <th>On-board service</th>\n",
              "      <th>Leg room service</th>\n",
              "      <th>Baggage handling</th>\n",
              "      <th>Checkin service</th>\n",
              "      <th>Inflight service</th>\n",
              "      <th>Cleanliness</th>\n",
              "      <th>satisfaction</th>\n",
              "    </tr>\n",
              "  </thead>\n",
              "  <tbody>\n",
              "    <tr>\n",
              "      <th>0</th>\n",
              "      <td>1</td>\n",
              "      <td>Male</td>\n",
              "      <td>48.0</td>\n",
              "      <td>disloyal Customer</td>\n",
              "      <td>Business travel</td>\n",
              "      <td>Business</td>\n",
              "      <td>821.0</td>\n",
              "      <td>2.0</td>\n",
              "      <td>5.0</td>\n",
              "      <td>3.0</td>\n",
              "      <td>...</td>\n",
              "      <td>3.0</td>\n",
              "      <td>5.0</td>\n",
              "      <td>5.0</td>\n",
              "      <td>3.0</td>\n",
              "      <td>2.0</td>\n",
              "      <td>5.0</td>\n",
              "      <td>4.0</td>\n",
              "      <td>5.0</td>\n",
              "      <td>5.0</td>\n",
              "      <td>neutral or dissatisfied</td>\n",
              "    </tr>\n",
              "    <tr>\n",
              "      <th>1</th>\n",
              "      <td>2</td>\n",
              "      <td>Female</td>\n",
              "      <td>35.0</td>\n",
              "      <td>Loyal Customer</td>\n",
              "      <td>Business travel</td>\n",
              "      <td>Business</td>\n",
              "      <td>821.0</td>\n",
              "      <td>26.0</td>\n",
              "      <td>39.0</td>\n",
              "      <td>2.0</td>\n",
              "      <td>...</td>\n",
              "      <td>5.0</td>\n",
              "      <td>4.0</td>\n",
              "      <td>5.0</td>\n",
              "      <td>5.0</td>\n",
              "      <td>5.0</td>\n",
              "      <td>5.0</td>\n",
              "      <td>3.0</td>\n",
              "      <td>5.0</td>\n",
              "      <td>5.0</td>\n",
              "      <td>satisfied</td>\n",
              "    </tr>\n",
              "    <tr>\n",
              "      <th>2</th>\n",
              "      <td>3</td>\n",
              "      <td>Male</td>\n",
              "      <td>41.0</td>\n",
              "      <td>Loyal Customer</td>\n",
              "      <td>Business travel</td>\n",
              "      <td>Business</td>\n",
              "      <td>853.0</td>\n",
              "      <td>0.0</td>\n",
              "      <td>0.0</td>\n",
              "      <td>4.0</td>\n",
              "      <td>...</td>\n",
              "      <td>5.0</td>\n",
              "      <td>5.0</td>\n",
              "      <td>3.0</td>\n",
              "      <td>3.0</td>\n",
              "      <td>3.0</td>\n",
              "      <td>3.0</td>\n",
              "      <td>4.0</td>\n",
              "      <td>3.0</td>\n",
              "      <td>5.0</td>\n",
              "      <td>satisfied</td>\n",
              "    </tr>\n",
              "    <tr>\n",
              "      <th>3</th>\n",
              "      <td>4</td>\n",
              "      <td>Male</td>\n",
              "      <td>50.0</td>\n",
              "      <td>Loyal Customer</td>\n",
              "      <td>Business travel</td>\n",
              "      <td>Business</td>\n",
              "      <td>1905.0</td>\n",
              "      <td>0.0</td>\n",
              "      <td>0.0</td>\n",
              "      <td>2.0</td>\n",
              "      <td>...</td>\n",
              "      <td>4.0</td>\n",
              "      <td>5.0</td>\n",
              "      <td>5.0</td>\n",
              "      <td>5.0</td>\n",
              "      <td>5.0</td>\n",
              "      <td>5.0</td>\n",
              "      <td>3.0</td>\n",
              "      <td>5.0</td>\n",
              "      <td>4.0</td>\n",
              "      <td>satisfied</td>\n",
              "    </tr>\n",
              "    <tr>\n",
              "      <th>4</th>\n",
              "      <td>5</td>\n",
              "      <td>Female</td>\n",
              "      <td>49.0</td>\n",
              "      <td>Loyal Customer</td>\n",
              "      <td>Business travel</td>\n",
              "      <td>Business</td>\n",
              "      <td>3470.0</td>\n",
              "      <td>0.0</td>\n",
              "      <td>1.0</td>\n",
              "      <td>3.0</td>\n",
              "      <td>...</td>\n",
              "      <td>5.0</td>\n",
              "      <td>4.0</td>\n",
              "      <td>3.0</td>\n",
              "      <td>3.0</td>\n",
              "      <td>4.0</td>\n",
              "      <td>3.0</td>\n",
              "      <td>3.0</td>\n",
              "      <td>3.0</td>\n",
              "      <td>5.0</td>\n",
              "      <td>satisfied</td>\n",
              "    </tr>\n",
              "  </tbody>\n",
              "</table>\n",
              "<p>5 rows × 24 columns</p>\n",
              "</div>\n",
              "      <button class=\"colab-df-convert\" onclick=\"convertToInteractive('df-4ca14ef3-887b-43e4-8cce-fabc50a906a0')\"\n",
              "              title=\"Convert this dataframe to an interactive table.\"\n",
              "              style=\"display:none;\">\n",
              "        \n",
              "  <svg xmlns=\"http://www.w3.org/2000/svg\" height=\"24px\"viewBox=\"0 0 24 24\"\n",
              "       width=\"24px\">\n",
              "    <path d=\"M0 0h24v24H0V0z\" fill=\"none\"/>\n",
              "    <path d=\"M18.56 5.44l.94 2.06.94-2.06 2.06-.94-2.06-.94-.94-2.06-.94 2.06-2.06.94zm-11 1L8.5 8.5l.94-2.06 2.06-.94-2.06-.94L8.5 2.5l-.94 2.06-2.06.94zm10 10l.94 2.06.94-2.06 2.06-.94-2.06-.94-.94-2.06-.94 2.06-2.06.94z\"/><path d=\"M17.41 7.96l-1.37-1.37c-.4-.4-.92-.59-1.43-.59-.52 0-1.04.2-1.43.59L10.3 9.45l-7.72 7.72c-.78.78-.78 2.05 0 2.83L4 21.41c.39.39.9.59 1.41.59.51 0 1.02-.2 1.41-.59l7.78-7.78 2.81-2.81c.8-.78.8-2.07 0-2.86zM5.41 20L4 18.59l7.72-7.72 1.47 1.35L5.41 20z\"/>\n",
              "  </svg>\n",
              "      </button>\n",
              "      \n",
              "  <style>\n",
              "    .colab-df-container {\n",
              "      display:flex;\n",
              "      flex-wrap:wrap;\n",
              "      gap: 12px;\n",
              "    }\n",
              "\n",
              "    .colab-df-convert {\n",
              "      background-color: #E8F0FE;\n",
              "      border: none;\n",
              "      border-radius: 50%;\n",
              "      cursor: pointer;\n",
              "      display: none;\n",
              "      fill: #1967D2;\n",
              "      height: 32px;\n",
              "      padding: 0 0 0 0;\n",
              "      width: 32px;\n",
              "    }\n",
              "\n",
              "    .colab-df-convert:hover {\n",
              "      background-color: #E2EBFA;\n",
              "      box-shadow: 0px 1px 2px rgba(60, 64, 67, 0.3), 0px 1px 3px 1px rgba(60, 64, 67, 0.15);\n",
              "      fill: #174EA6;\n",
              "    }\n",
              "\n",
              "    [theme=dark] .colab-df-convert {\n",
              "      background-color: #3B4455;\n",
              "      fill: #D2E3FC;\n",
              "    }\n",
              "\n",
              "    [theme=dark] .colab-df-convert:hover {\n",
              "      background-color: #434B5C;\n",
              "      box-shadow: 0px 1px 3px 1px rgba(0, 0, 0, 0.15);\n",
              "      filter: drop-shadow(0px 1px 2px rgba(0, 0, 0, 0.3));\n",
              "      fill: #FFFFFF;\n",
              "    }\n",
              "  </style>\n",
              "\n",
              "      <script>\n",
              "        const buttonEl =\n",
              "          document.querySelector('#df-4ca14ef3-887b-43e4-8cce-fabc50a906a0 button.colab-df-convert');\n",
              "        buttonEl.style.display =\n",
              "          google.colab.kernel.accessAllowed ? 'block' : 'none';\n",
              "\n",
              "        async function convertToInteractive(key) {\n",
              "          const element = document.querySelector('#df-4ca14ef3-887b-43e4-8cce-fabc50a906a0');\n",
              "          const dataTable =\n",
              "            await google.colab.kernel.invokeFunction('convertToInteractive',\n",
              "                                                     [key], {});\n",
              "          if (!dataTable) return;\n",
              "\n",
              "          const docLinkHtml = 'Like what you see? Visit the ' +\n",
              "            '<a target=\"_blank\" href=https://colab.research.google.com/notebooks/data_table.ipynb>data table notebook</a>'\n",
              "            + ' to learn more about interactive tables.';\n",
              "          element.innerHTML = '';\n",
              "          dataTable['output_type'] = 'display_data';\n",
              "          await google.colab.output.renderOutput(dataTable, element);\n",
              "          const docLink = document.createElement('div');\n",
              "          docLink.innerHTML = docLinkHtml;\n",
              "          element.appendChild(docLink);\n",
              "        }\n",
              "      </script>\n",
              "    </div>\n",
              "  </div>\n",
              "  "
            ]
          },
          "metadata": {},
          "execution_count": 307
        }
      ]
    },
    {
      "cell_type": "code",
      "source": [
        "for col in ['Inflight wifi service',\n",
        "    'Departure/Arrival time convenient',\n",
        "    'Ease of Online booking',\n",
        "    'Gate location',\n",
        "    'Food and drink',\n",
        "    'Online boarding',\n",
        "    'Seat comfort',\n",
        "    'Inflight entertainment',\n",
        "    'On-board service',\n",
        "    'Leg room service',\n",
        "    'Baggage handling',\n",
        "    'Checkin service',\n",
        "    'Inflight service',\n",
        "    'Cleanliness']:\n",
        "    # mean = df[col].mean()\n",
        "    df[col] = np.where(df[col] > 5, np.nan, df[col])\n",
        "    print(df[col].value_counts(dropna=False))\n",
        "    # df[col].fillna(mean, inplace=True)\n",
        "    # df[col] = np.where(df[col].astype(int) != df[col], mean, df[col])"
      ],
      "metadata": {
        "id": "GPCIhB_d85gu",
        "colab": {
          "base_uri": "https://localhost:8080/"
        },
        "outputId": "84caf01a-61f8-4425-a133-f61a6296c424"
      },
      "execution_count": 308,
      "outputs": [
        {
          "output_type": "stream",
          "name": "stdout",
          "text": [
            "2.0    32306\n",
            "3.0    32156\n",
            "4.0    24758\n",
            "1.0    22318\n",
            "5.0    14345\n",
            "0.0     3918\n",
            "NaN       79\n",
            "Name: Inflight wifi service, dtype: int64\n",
            "4.0    31862\n",
            "5.0    27974\n",
            "3.0    22362\n",
            "2.0    21516\n",
            "1.0    19392\n",
            "0.0     6686\n",
            "NaN       88\n",
            "Name: Departure/Arrival time convenient, dtype: int64\n",
            "3.0    30382\n",
            "2.0    30036\n",
            "4.0    24424\n",
            "1.0    21868\n",
            "5.0    17414\n",
            "0.0     5683\n",
            "NaN       73\n",
            "Name: Ease of Online booking, dtype: int64\n",
            "3.0    35695\n",
            "4.0    30445\n",
            "2.0    24278\n",
            "1.0    21981\n",
            "5.0    17399\n",
            "NaN       81\n",
            "0.0        1\n",
            "Name: Gate location, dtype: int64\n",
            "4.0    30546\n",
            "5.0    27947\n",
            "3.0    27769\n",
            "2.0    27363\n",
            "1.0    16035\n",
            "0.0      138\n",
            "NaN       82\n",
            "Name: Food and drink, dtype: int64\n",
            "4.0    38439\n",
            "3.0    27105\n",
            "5.0    26001\n",
            "2.0    21926\n",
            "1.0    13245\n",
            "0.0     3084\n",
            "NaN       80\n",
            "Name: Online boarding, dtype: int64\n",
            "4.0    39727\n",
            "5.0    33139\n",
            "3.0    23308\n",
            "2.0    18513\n",
            "1.0    15096\n",
            "NaN       91\n",
            "0.0        6\n",
            "Name: Seat comfort, dtype: int64\n",
            "4.0    36770\n",
            "5.0    31524\n",
            "3.0    23872\n",
            "2.0    21948\n",
            "1.0    15670\n",
            "NaN       73\n",
            "0.0       23\n",
            "Name: Inflight entertainment, dtype: int64\n",
            "4.0    38671\n",
            "5.0    29472\n",
            "3.0    28528\n",
            "2.0    18345\n",
            "1.0    14783\n",
            "NaN       72\n",
            "0.0        9\n",
            "Name: On-board service, dtype: int64\n",
            "4.0    35863\n",
            "5.0    30878\n",
            "3.0    25038\n",
            "2.0    24524\n",
            "1.0    12887\n",
            "0.0      603\n",
            "NaN       87\n",
            "Name: Leg room service, dtype: int64\n",
            "4.0    46729\n",
            "5.0    33857\n",
            "3.0    25836\n",
            "2.0    14352\n",
            "1.0     9023\n",
            "NaN       77\n",
            "0.0        6\n",
            "Name: Baggage handling, dtype: int64\n",
            "4.0    36310\n",
            "3.0    35430\n",
            "5.0    25867\n",
            "1.0    16094\n",
            "2.0    16093\n",
            "NaN       80\n",
            "0.0        6\n",
            "Name: Checkin service, dtype: int64\n",
            "4.0    47283\n",
            "5.0    34044\n",
            "3.0    25294\n",
            "2.0    14291\n",
            "1.0     8856\n",
            "NaN      106\n",
            "0.0        6\n",
            "Name: Inflight service, dtype: int64\n",
            "4.0    33956\n",
            "3.0    30624\n",
            "5.0    28396\n",
            "2.0    20096\n",
            "1.0    16723\n",
            "NaN       65\n",
            "0.0       20\n",
            "Name: Cleanliness, dtype: int64\n"
          ]
        }
      ]
    },
    {
      "cell_type": "code",
      "source": [
        "df['Inflight wifi service'].value_counts(dropna=False)"
      ],
      "metadata": {
        "id": "hCPV3xM3dvrp",
        "colab": {
          "base_uri": "https://localhost:8080/"
        },
        "outputId": "d82695cf-40a6-418c-9744-62331ffe0966"
      },
      "execution_count": 309,
      "outputs": [
        {
          "output_type": "execute_result",
          "data": {
            "text/plain": [
              "2.0    32306\n",
              "3.0    32156\n",
              "4.0    24758\n",
              "1.0    22318\n",
              "5.0    14345\n",
              "0.0     3918\n",
              "NaN       79\n",
              "Name: Inflight wifi service, dtype: int64"
            ]
          },
          "metadata": {},
          "execution_count": 309
        }
      ]
    },
    {
      "cell_type": "code",
      "source": [
        "df['Inflight service'].value_counts(dropna=False)"
      ],
      "metadata": {
        "id": "DF_orvpm8X8L",
        "colab": {
          "base_uri": "https://localhost:8080/"
        },
        "outputId": "fdd735f1-97b7-4582-eeea-ef38f0a077a9"
      },
      "execution_count": 310,
      "outputs": [
        {
          "output_type": "execute_result",
          "data": {
            "text/plain": [
              "4.0    47283\n",
              "5.0    34044\n",
              "3.0    25294\n",
              "2.0    14291\n",
              "1.0     8856\n",
              "NaN      106\n",
              "0.0        6\n",
              "Name: Inflight service, dtype: int64"
            ]
          },
          "metadata": {},
          "execution_count": 310
        }
      ]
    },
    {
      "cell_type": "code",
      "source": [
        "df['Inflight wifi service'].info()"
      ],
      "metadata": {
        "id": "68SWICdx7pM7",
        "colab": {
          "base_uri": "https://localhost:8080/"
        },
        "outputId": "d8c85c8e-5b0b-49bd-b4ba-3136d93a32ab"
      },
      "execution_count": 311,
      "outputs": [
        {
          "output_type": "stream",
          "name": "stdout",
          "text": [
            "<class 'pandas.core.series.Series'>\n",
            "RangeIndex: 129880 entries, 0 to 129879\n",
            "Series name: Inflight wifi service\n",
            "Non-Null Count   Dtype  \n",
            "--------------   -----  \n",
            "129801 non-null  float64\n",
            "dtypes: float64(1)\n",
            "memory usage: 1014.8 KB\n"
          ]
        }
      ]
    },
    {
      "cell_type": "code",
      "source": [
        "df['Inflight wifi service'].value_counts()"
      ],
      "metadata": {
        "id": "Xk6JdO0wgXa5",
        "colab": {
          "base_uri": "https://localhost:8080/"
        },
        "outputId": "a0481bdc-cff7-49fc-c261-f4bb947588a1"
      },
      "execution_count": 312,
      "outputs": [
        {
          "output_type": "execute_result",
          "data": {
            "text/plain": [
              "2.0    32306\n",
              "3.0    32156\n",
              "4.0    24758\n",
              "1.0    22318\n",
              "5.0    14345\n",
              "0.0     3918\n",
              "Name: Inflight wifi service, dtype: int64"
            ]
          },
          "metadata": {},
          "execution_count": 312
        }
      ]
    },
    {
      "cell_type": "code",
      "source": [
        "#  df = df.loc[round(df['Inflight wifi service'], 2) != 2.73]"
      ],
      "metadata": {
        "id": "UlKVXe09ygGq"
      },
      "execution_count": 313,
      "outputs": []
    },
    {
      "cell_type": "code",
      "source": [],
      "metadata": {
        "id": "pw7cWM3P2Wtx"
      },
      "execution_count": 313,
      "outputs": []
    },
    {
      "cell_type": "markdown",
      "source": [
        "## Посмотрим на корреляцию признаков, постараемся выделить наиболее зависимые"
      ],
      "metadata": {
        "id": "lQ5i3oMpdYP0"
      }
    },
    {
      "cell_type": "code",
      "source": [
        "corr = df.corr()\n",
        "sns.heatmap(corr, cmap=\"crest\")"
      ],
      "metadata": {
        "id": "PUTjPydedfVT",
        "colab": {
          "base_uri": "https://localhost:8080/",
          "height": 731
        },
        "outputId": "efd1a753-cac7-4a12-f6be-1f5762221a5b"
      },
      "execution_count": 314,
      "outputs": [
        {
          "output_type": "stream",
          "name": "stderr",
          "text": [
            "<ipython-input-314-0afae5eea124>:1: FutureWarning: The default value of numeric_only in DataFrame.corr is deprecated. In a future version, it will default to False. Select only valid columns or specify the value of numeric_only to silence this warning.\n",
            "  corr = df.corr()\n"
          ]
        },
        {
          "output_type": "execute_result",
          "data": {
            "text/plain": [
              "<Axes: >"
            ]
          },
          "metadata": {},
          "execution_count": 314
        },
        {
          "output_type": "display_data",
          "data": {
            "text/plain": [
              "<Figure size 640x480 with 2 Axes>"
            ],
            "image/png": "[encoded data removed]"
          },
          "metadata": {}
        }
      ]
    },
    {
      "cell_type": "markdown",
      "source": [
        "Из хитмапа можно выделить следующие признаки, которые могут коррелировать:\n",
        "* Inflight with service -- Ease of inline booking, online boarding\n",
        "* Departure/arrival time convenient -- Ease of inline booking, Gate location\n",
        "* Ease of inline booking -- online boarding\n",
        "* Food and drink -- Set comfort, Inflight entertainment, cleanliness\n",
        "* **Cleanliness -- Food and drink, seat comfort, inlflight entertainment**"
      ],
      "metadata": {
        "id": "gGhSEvjmd27W"
      }
    },
    {
      "cell_type": "markdown",
      "source": [
        "Есть ли связь между дальностью перелета и классом обслуживания?\n",
        "\n",
        "Построим матрицу корреляций для ответа на этот вопрос."
      ],
      "metadata": {
        "id": "-skUZGcfIWbN"
      }
    },
    {
      "cell_type": "markdown",
      "source": [
        "Коэффициент корреляции $\\rho$ - это мера взаимосвязи между двумя величинами (корреляция Пирсона - мера линейной зависимости).\n",
        "\n",
        "$-1 \\leq \\rho \\leq 1$\n",
        "\n",
        "Чем больше **по модулю** коэффициент корреляции $\\rho$ - тем больше взаимосвязь между величинами."
      ],
      "metadata": {
        "id": "CT3dr7OsJnqF"
      }
    },
    {
      "cell_type": "markdown",
      "source": [
        "# Теперь разберемся с категориальными признаками"
      ],
      "metadata": {
        "id": "f1mcILOpZt1F"
      }
    },
    {
      "cell_type": "code",
      "source": [
        "df['Gender'].value_counts(dropna=False, normalize=True)"
      ],
      "metadata": {
        "id": "Q-n7ArnscxfZ",
        "colab": {
          "base_uri": "https://localhost:8080/"
        },
        "outputId": "177e2753-e29a-463f-a290-a0d202196f16"
      },
      "execution_count": 315,
      "outputs": [
        {
          "output_type": "execute_result",
          "data": {
            "text/plain": [
              "Female    0.506052\n",
              "Male      0.491400\n",
              "NaN       0.002549\n",
              "Name: Gender, dtype: float64"
            ]
          },
          "metadata": {},
          "execution_count": 315
        }
      ]
    },
    {
      "cell_type": "code",
      "source": [
        "df['Gender'].fillna(\"unknown\", inplace=True)\n",
        "\n",
        "df['Gender'].value_counts(dropna=False)"
      ],
      "metadata": {
        "id": "XEH56ITAc0bm",
        "colab": {
          "base_uri": "https://localhost:8080/"
        },
        "outputId": "512a1197-1ea8-4923-9c13-182d88ba24c8"
      },
      "execution_count": 316,
      "outputs": [
        {
          "output_type": "execute_result",
          "data": {
            "text/plain": [
              "Female     65726\n",
              "Male       63823\n",
              "unknown      331\n",
              "Name: Gender, dtype: int64"
            ]
          },
          "metadata": {},
          "execution_count": 316
        }
      ]
    },
    {
      "cell_type": "code",
      "source": [
        "df['Customer Type'].fillna(\"unknown\", inplace=True)\n",
        "\n",
        "df['Customer Type'].value_counts(dropna=False)"
      ],
      "metadata": {
        "id": "-PIpt8nFc_i9",
        "colab": {
          "base_uri": "https://localhost:8080/"
        },
        "outputId": "3ebfe66e-fedb-4f2e-e7ce-fed518181114"
      },
      "execution_count": 317,
      "outputs": [
        {
          "output_type": "execute_result",
          "data": {
            "text/plain": [
              "Loyal Customer       106040\n",
              "disloyal Customer     23763\n",
              "unknown                  77\n",
              "Name: Customer Type, dtype: int64"
            ]
          },
          "metadata": {},
          "execution_count": 317
        }
      ]
    },
    {
      "cell_type": "code",
      "source": [
        "df['Type of Travel'].fillna(\"unknown\", inplace=True)\n",
        "\n",
        "df['Type of Travel'].value_counts(dropna=False)"
      ],
      "metadata": {
        "id": "Ps-ddxL4dC_L",
        "colab": {
          "base_uri": "https://localhost:8080/"
        },
        "outputId": "ed622e47-921d-4ad9-c12d-ffc1f6da6e12"
      },
      "execution_count": 318,
      "outputs": [
        {
          "output_type": "execute_result",
          "data": {
            "text/plain": [
              "Business travel    89625\n",
              "Personal Travel    40154\n",
              "unknown              101\n",
              "Name: Type of Travel, dtype: int64"
            ]
          },
          "metadata": {},
          "execution_count": 318
        }
      ]
    },
    {
      "cell_type": "code",
      "source": [
        "df['Class'].fillna(\"unknown\", inplace=True)\n",
        "\n",
        "df['Class'].value_counts(dropna=False)"
      ],
      "metadata": {
        "id": "rSPbJ_WbdFFL",
        "colab": {
          "base_uri": "https://localhost:8080/"
        },
        "outputId": "c35e7c80-1c9e-4013-c4be-865e178c79fd"
      },
      "execution_count": 319,
      "outputs": [
        {
          "output_type": "execute_result",
          "data": {
            "text/plain": [
              "Business    62103\n",
              "Eco         58264\n",
              "Eco Plus     9397\n",
              "unknown       116\n",
              "Name: Class, dtype: int64"
            ]
          },
          "metadata": {},
          "execution_count": 319
        }
      ]
    },
    {
      "cell_type": "markdown",
      "source": [
        "### Построим гистограмму по полу"
      ],
      "metadata": {
        "id": "FSwB1Uw3dMAF"
      }
    },
    {
      "cell_type": "code",
      "source": [
        "plt.figure(figsize=(6,4))\n",
        "\n",
        "sns.countplot(x='Gender', data = df, palette='bright')"
      ],
      "metadata": {
        "id": "O2x4xdRYdPXr",
        "colab": {
          "base_uri": "https://localhost:8080/",
          "height": 405
        },
        "outputId": "a6cf6ee4-cefa-4c00-c4bf-706d478c4617"
      },
      "execution_count": 320,
      "outputs": [
        {
          "output_type": "execute_result",
          "data": {
            "text/plain": [
              "<Axes: xlabel='Gender', ylabel='count'>"
            ]
          },
          "metadata": {},
          "execution_count": 320
        },
        {
          "output_type": "display_data",
          "data": {
            "text/plain": [
              "<Figure size 600x400 with 1 Axes>"
            ],
            "image/png": "[encoded data removed]"
          },
          "metadata": {}
        }
      ]
    },
    {
      "cell_type": "markdown",
      "source": [
        "Визуализируем связь удавлетворенностью перелета в зависимости от возраста. На гистограмме изображены для каждой категории:\n",
        "\n",
        "* возраст\n",
        "* доверительный интервал для среднего с вероятностью 95%"
      ],
      "metadata": {
        "id": "IAOKIE8Bg-n5"
      }
    },
    {
      "cell_type": "code",
      "source": [
        "plt.figure(figsize=(6,4))\n",
        "\n",
        "sns.barplot(x='satisfaction', y='Age', data = df, palette='summer')\n",
        "plt.title('Satisfaction - Age')\n",
        "plt.show()"
      ],
      "metadata": {
        "id": "6v3uw5xUdT6J",
        "colab": {
          "base_uri": "https://localhost:8080/",
          "height": 410
        },
        "outputId": "a05a1f62-2528-4f85-c661-e1c09bdd554b"
      },
      "execution_count": 321,
      "outputs": [
        {
          "output_type": "display_data",
          "data": {
            "text/plain": [
              "<Figure size 600x400 with 1 Axes>"
            ],
            "image/png": "[encoded data removed]"
          },
          "metadata": {}
        }
      ]
    },
    {
      "cell_type": "code",
      "source": [
        "plt.figure(figsize=(6,4))\n",
        "\n",
        "sns.barplot(x='satisfaction', y='Flight Distance', data = df, palette='summer')\n",
        "plt.title('Satisfaction - Flight Distance')\n",
        "plt.show()"
      ],
      "metadata": {
        "id": "QGq7QDQGrN4Y",
        "colab": {
          "base_uri": "https://localhost:8080/",
          "height": 410
        },
        "outputId": "c303f289-5f9b-46b7-ec01-93fa1deffe14"
      },
      "execution_count": 322,
      "outputs": [
        {
          "output_type": "display_data",
          "data": {
            "text/plain": [
              "<Figure size 600x400 with 1 Axes>"
            ],
            "image/png": "[encoded data removed]"
          },
          "metadata": {}
        }
      ]
    },
    {
      "cell_type": "code",
      "source": [
        "plt.figure(figsize=(6,4))\n",
        "\n",
        "sns.barplot(x='satisfaction', y='Departure Delay in Minutes', data = df, palette='summer')\n",
        "plt.title('Satisfaction - Departure Delay in Minutes')\n",
        "plt.show()"
      ],
      "metadata": {
        "id": "KXfQHo2IrcLH",
        "colab": {
          "base_uri": "https://localhost:8080/",
          "height": 410
        },
        "outputId": "e43639ce-3830-4370-9c41-3ac3c24683c8"
      },
      "execution_count": 323,
      "outputs": [
        {
          "output_type": "display_data",
          "data": {
            "text/plain": [
              "<Figure size 600x400 with 1 Axes>"
            ],
            "image/png": "[encoded data removed]"
          },
          "metadata": {}
        }
      ]
    },
    {
      "cell_type": "code",
      "source": [
        "plt.figure(figsize=(6,4))\n",
        "\n",
        "sns.barplot(x='satisfaction', y='Arrival Delay in Minutes', data = df, palette='summer')\n",
        "plt.title('Satisfaction - Arrival Delay in Minutes')\n",
        "plt.show()"
      ],
      "metadata": {
        "id": "hW0HjeBxr4pa",
        "colab": {
          "base_uri": "https://localhost:8080/",
          "height": 410
        },
        "outputId": "c376a119-4502-4756-b8f1-6da2bca9e4f2"
      },
      "execution_count": 324,
      "outputs": [
        {
          "output_type": "display_data",
          "data": {
            "text/plain": [
              "<Figure size 600x400 with 1 Axes>"
            ],
            "image/png": "[encoded data removed]"
          },
          "metadata": {}
        }
      ]
    },
    {
      "cell_type": "code",
      "source": [
        "p = sns.countplot(x='Gender', data = df, hue='satisfaction', palette='bright')\n",
        "\n",
        "_ = plt.setp(p.get_xticklabels(), rotation=90)"
      ],
      "metadata": {
        "id": "yWu_GGeOslHl",
        "colab": {
          "base_uri": "https://localhost:8080/",
          "height": 498
        },
        "outputId": "1ba4da4b-0c5b-435e-a4b9-8891f9c945e4"
      },
      "execution_count": 325,
      "outputs": [
        {
          "output_type": "display_data",
          "data": {
            "text/plain": [
              "<Figure size 640x480 with 1 Axes>"
            ],
            "image/png": "[encoded data removed]"
          },
          "metadata": {}
        }
      ]
    },
    {
      "cell_type": "code",
      "source": [
        "p = sns.countplot(x='Customer Type', data = df, hue='satisfaction', palette='bright')\n",
        "\n",
        "_ = plt.setp(p.get_xticklabels(), rotation=90)"
      ],
      "metadata": {
        "id": "1Fw39WsFujnr",
        "colab": {
          "base_uri": "https://localhost:8080/",
          "height": 560
        },
        "outputId": "4525b8c9-0960-476e-a2e9-7abbdcee2cf8"
      },
      "execution_count": 326,
      "outputs": [
        {
          "output_type": "display_data",
          "data": {
            "text/plain": [
              "<Figure size 640x480 with 1 Axes>"
            ],
            "image/png": "[encoded data removed]"
          },
          "metadata": {}
        }
      ]
    },
    {
      "cell_type": "code",
      "source": [
        "p = sns.countplot(x='Type of Travel', data = df, hue='satisfaction', palette='bright')\n",
        "\n",
        "_ = plt.setp(p.get_xticklabels(), rotation=90)"
      ],
      "metadata": {
        "id": "Qc8zt2viuvWS",
        "colab": {
          "base_uri": "https://localhost:8080/",
          "height": 541
        },
        "outputId": "5ecab539-1239-4295-86ce-4296d4e53aec"
      },
      "execution_count": 327,
      "outputs": [
        {
          "output_type": "display_data",
          "data": {
            "text/plain": [
              "<Figure size 640x480 with 1 Axes>"
            ],
            "image/png": "[encoded data removed]"
          },
          "metadata": {}
        }
      ]
    },
    {
      "cell_type": "code",
      "source": [
        "p = sns.countplot(x='Class', data = df, hue='satisfaction', palette='bright')\n",
        "\n",
        "_ = plt.setp(p.get_xticklabels(), rotation=90)"
      ],
      "metadata": {
        "id": "LTD-oRN_uy-_",
        "colab": {
          "base_uri": "https://localhost:8080/",
          "height": 498
        },
        "outputId": "7e6bb832-3571-4d7a-dc1b-a6c8ea0aa5f7"
      },
      "execution_count": 328,
      "outputs": [
        {
          "output_type": "display_data",
          "data": {
            "text/plain": [
              "<Figure size 640x480 with 1 Axes>"
            ],
            "image/png": "[encoded data removed]"
          },
          "metadata": {}
        }
      ]
    },
    {
      "cell_type": "code",
      "source": [
        "df = df.dropna()"
      ],
      "metadata": {
        "id": "v2aWiwa3175Y"
      },
      "execution_count": 329,
      "outputs": []
    },
    {
      "cell_type": "code",
      "source": [
        "df.shape"
      ],
      "metadata": {
        "id": "UWasBdvg19BV",
        "colab": {
          "base_uri": "https://localhost:8080/"
        },
        "outputId": "7a31fbd7-ea77-49ca-ab93-d0eef1fba0b7"
      },
      "execution_count": 330,
      "outputs": [
        {
          "output_type": "execute_result",
          "data": {
            "text/plain": [
              "(128750, 24)"
            ]
          },
          "metadata": {},
          "execution_count": 330
        }
      ]
    },
    {
      "cell_type": "code",
      "source": [
        "df.info()"
      ],
      "metadata": {
        "id": "aqPkSapV2HfX",
        "colab": {
          "base_uri": "https://localhost:8080/"
        },
        "outputId": "92fd3535-2d5c-4518-82e7-42aa03b2cbf6"
      },
      "execution_count": 331,
      "outputs": [
        {
          "output_type": "stream",
          "name": "stdout",
          "text": [
            "<class 'pandas.core.frame.DataFrame'>\n",
            "Int64Index: 128750 entries, 0 to 129879\n",
            "Data columns (total 24 columns):\n",
            " #   Column                             Non-Null Count   Dtype  \n",
            "---  ------                             --------------   -----  \n",
            " 0   id                                 128750 non-null  int64  \n",
            " 1   Gender                             128750 non-null  object \n",
            " 2   Age                                128750 non-null  float64\n",
            " 3   Customer Type                      128750 non-null  object \n",
            " 4   Type of Travel                     128750 non-null  object \n",
            " 5   Class                              128750 non-null  object \n",
            " 6   Flight Distance                    128750 non-null  float64\n",
            " 7   Departure Delay in Minutes         128750 non-null  float64\n",
            " 8   Arrival Delay in Minutes           128750 non-null  float64\n",
            " 9   Inflight wifi service              128750 non-null  float64\n",
            " 10  Departure/Arrival time convenient  128750 non-null  float64\n",
            " 11  Ease of Online booking             128750 non-null  float64\n",
            " 12  Gate location                      128750 non-null  float64\n",
            " 13  Food and drink                     128750 non-null  float64\n",
            " 14  Online boarding                    128750 non-null  float64\n",
            " 15  Seat comfort                       128750 non-null  float64\n",
            " 16  Inflight entertainment             128750 non-null  float64\n",
            " 17  On-board service                   128750 non-null  float64\n",
            " 18  Leg room service                   128750 non-null  float64\n",
            " 19  Baggage handling                   128750 non-null  float64\n",
            " 20  Checkin service                    128750 non-null  float64\n",
            " 21  Inflight service                   128750 non-null  float64\n",
            " 22  Cleanliness                        128750 non-null  float64\n",
            " 23  satisfaction                       128750 non-null  object \n",
            "dtypes: float64(18), int64(1), object(5)\n",
            "memory usage: 24.6+ MB\n"
          ]
        }
      ]
    },
    {
      "cell_type": "markdown",
      "source": [
        "# Машинное обучение"
      ],
      "metadata": {
        "id": "yNN-DK4MzJ0u"
      }
    },
    {
      "cell_type": "markdown",
      "source": [
        "## К сожалению, придется убрать неизвестные оценки в целевой переменной, так как они не информативны для модели"
      ],
      "metadata": {
        "id": "8_nugvze0R7S"
      }
    },
    {
      "cell_type": "code",
      "source": [
        "df = df.loc[df['satisfaction'] != '-']\n",
        "df.shape"
      ],
      "metadata": {
        "id": "mqRX2GT-068w",
        "colab": {
          "base_uri": "https://localhost:8080/"
        },
        "outputId": "12680a77-5833-4616-9a39-b2a8a32f7030"
      },
      "execution_count": 332,
      "outputs": [
        {
          "output_type": "execute_result",
          "data": {
            "text/plain": [
              "(103022, 24)"
            ]
          },
          "metadata": {},
          "execution_count": 332
        }
      ]
    },
    {
      "cell_type": "markdown",
      "source": [
        "### Заменим на цифры таргетированный признак"
      ],
      "metadata": {
        "id": "38mcDppwbQWA"
      }
    },
    {
      "cell_type": "code",
      "source": [
        "df['satisfaction'] = df['satisfaction'].map({'neutral or dissatisfied' : 1, 'satisfied' : 0})"
      ],
      "metadata": {
        "id": "7230PcUEY06F",
        "colab": {
          "base_uri": "https://localhost:8080/"
        },
        "outputId": "ef8a2603-439d-4ca7-83dc-5a69af18b14f"
      },
      "execution_count": 333,
      "outputs": [
        {
          "output_type": "stream",
          "name": "stderr",
          "text": [
            "<ipython-input-333-3065af6c8add>:1: SettingWithCopyWarning: \n",
            "A value is trying to be set on a copy of a slice from a DataFrame.\n",
            "Try using .loc[row_indexer,col_indexer] = value instead\n",
            "\n",
            "See the caveats in the documentation: https://pandas.pydata.org/pandas-docs/stable/user_guide/indexing.html#returning-a-view-versus-a-copy\n",
            "  df['satisfaction'] = df['satisfaction'].map({'neutral or dissatisfied' : 1, 'satisfied' : 0})\n"
          ]
        }
      ]
    },
    {
      "cell_type": "markdown",
      "source": [
        "## Попробуем сначала обучить модель без категориальных данных"
      ],
      "metadata": {
        "id": "qizdls0q0MGk"
      }
    },
    {
      "cell_type": "code",
      "source": [
        "X = df.drop(['satisfaction', 'id'], axis=1)\n",
        "\n",
        "y = df['satisfaction'] # целевая переменная (target)"
      ],
      "metadata": {
        "id": "ffn_ev9mzTCU"
      },
      "execution_count": 334,
      "outputs": []
    },
    {
      "cell_type": "code",
      "source": [
        "X.drop(['Gender', 'Customer Type', 'Type of Travel', 'Class'], axis=1, inplace=True)"
      ],
      "metadata": {
        "id": "sT79bJaT0tVd"
      },
      "execution_count": 335,
      "outputs": []
    },
    {
      "cell_type": "code",
      "source": [
        "from sklearn.model_selection import train_test_split\n",
        "\n",
        "X_train, X_test, y_train, y_test = train_test_split(X, y, test_size=0.25, random_state=42)\n",
        "\n",
        "X_train.shape, X_test.shape"
      ],
      "metadata": {
        "id": "VXWv53EhzTEW",
        "colab": {
          "base_uri": "https://localhost:8080/"
        },
        "outputId": "fe2da73a-87a6-45d0-f2dc-d7a1ab010bc7"
      },
      "execution_count": 336,
      "outputs": [
        {
          "output_type": "execute_result",
          "data": {
            "text/plain": [
              "((77266, 18), (25756, 18))"
            ]
          },
          "metadata": {},
          "execution_count": 336
        }
      ]
    },
    {
      "cell_type": "code",
      "source": [
        "from sklearn.linear_model import LogisticRegression\n",
        "\n",
        "model = LogisticRegression()\n",
        "\n",
        "model.fit(X_train, y_train)\n",
        "\n",
        "pred = model.predict(X_test)"
      ],
      "metadata": {
        "id": "RLweSdbo2zJ0",
        "colab": {
          "base_uri": "https://localhost:8080/"
        },
        "outputId": "c055360a-ab0c-4591-e83b-66399cbd4d02"
      },
      "execution_count": 337,
      "outputs": [
        {
          "output_type": "stream",
          "name": "stderr",
          "text": [
            "/usr/local/lib/python3.10/dist-packages/sklearn/linear_model/_logistic.py:458: ConvergenceWarning: lbfgs failed to converge (status=1):\n",
            "STOP: TOTAL NO. of ITERATIONS REACHED LIMIT.\n",
            "\n",
            "Increase the number of iterations (max_iter) or scale the data as shown in:\n",
            "    https://scikit-learn.org/stable/modules/preprocessing.html\n",
            "Please also refer to the documentation for alternative solver options:\n",
            "    https://scikit-learn.org/stable/modules/linear_model.html#logistic-regression\n",
            "  n_iter_i = _check_optimize_result(\n"
          ]
        }
      ]
    },
    {
      "cell_type": "code",
      "source": [
        "y_test.value_counts()"
      ],
      "metadata": {
        "colab": {
          "base_uri": "https://localhost:8080/"
        },
        "id": "57EJeLvbVtQB",
        "outputId": "90756028-c789-4e7b-9446-e815c54c1ef5"
      },
      "execution_count": 338,
      "outputs": [
        {
          "output_type": "execute_result",
          "data": {
            "text/plain": [
              "1    14700\n",
              "0    11056\n",
              "Name: satisfaction, dtype: int64"
            ]
          },
          "metadata": {},
          "execution_count": 338
        }
      ]
    },
    {
      "cell_type": "code",
      "source": [
        "from sklearn.metrics import confusion_matrix\n",
        "\n",
        "confusion_matrix(y_test, pred)"
      ],
      "metadata": {
        "colab": {
          "base_uri": "https://localhost:8080/"
        },
        "id": "GHFz59tl2zL2",
        "outputId": "7aa4ac24-1ecf-4f03-a076-2005181d0929"
      },
      "execution_count": 339,
      "outputs": [
        {
          "output_type": "execute_result",
          "data": {
            "text/plain": [
              "array([[ 8203,  2853],\n",
              "       [ 3577, 11123]])"
            ]
          },
          "metadata": {},
          "execution_count": 339
        }
      ]
    },
    {
      "cell_type": "markdown",
      "source": [
        "## Оценка качества модели"
      ],
      "metadata": {
        "id": "q5Ry6R-dbpMf"
      }
    },
    {
      "cell_type": "code",
      "source": [
        "from sklearn.metrics import accuracy_score\n",
        "\n",
        "accuracy_score(y_test, pred)"
      ],
      "metadata": {
        "id": "1yaoIpH82zN1",
        "colab": {
          "base_uri": "https://localhost:8080/"
        },
        "outputId": "f6163e4c-133b-4fd5-8b59-8bc45bd494c5"
      },
      "execution_count": 340,
      "outputs": [
        {
          "output_type": "execute_result",
          "data": {
            "text/plain": [
              "0.7503494331417923"
            ]
          },
          "metadata": {},
          "execution_count": 340
        }
      ]
    },
    {
      "cell_type": "code",
      "source": [
        "from sklearn.metrics import recall_score\n",
        "\n",
        "recall_score(y_test, pred)"
      ],
      "metadata": {
        "id": "lO2NhadL2zPo",
        "colab": {
          "base_uri": "https://localhost:8080/"
        },
        "outputId": "767dca0a-f49f-44ba-f6fb-a15c149ab787"
      },
      "execution_count": 341,
      "outputs": [
        {
          "output_type": "execute_result",
          "data": {
            "text/plain": [
              "0.7566666666666667"
            ]
          },
          "metadata": {},
          "execution_count": 341
        }
      ]
    },
    {
      "cell_type": "markdown",
      "source": [
        "### Парная к полноте метрика - точность (precision). Она показывает долю правильных ответов модели среди тех объектов, которые модель отнесла к положительному классу."
      ],
      "metadata": {
        "id": "hxSU1TmbcYkb"
      }
    },
    {
      "cell_type": "code",
      "source": [
        "from sklearn.metrics import precision_score\n",
        "\n",
        "precision_score(y_test, pred)"
      ],
      "metadata": {
        "id": "PyVehkDB2zRl",
        "colab": {
          "base_uri": "https://localhost:8080/"
        },
        "outputId": "d906e27b-8e4c-425d-e1c9-781825d2f14f"
      },
      "execution_count": 342,
      "outputs": [
        {
          "output_type": "execute_result",
          "data": {
            "text/plain": [
              "0.7958643388666286"
            ]
          },
          "metadata": {},
          "execution_count": 342
        }
      ]
    },
    {
      "cell_type": "code",
      "source": [
        "probs = model.predict_proba(X_test)\n",
        "\n",
        "probs[:5]"
      ],
      "metadata": {
        "id": "QyD0X_bP2zTq",
        "colab": {
          "base_uri": "https://localhost:8080/"
        },
        "outputId": "f9ac9b0e-a83a-4dbb-aaf2-5c3cd8ed14b7"
      },
      "execution_count": 343,
      "outputs": [
        {
          "output_type": "execute_result",
          "data": {
            "text/plain": [
              "array([[0.4404659 , 0.5595341 ],\n",
              "       [0.25099448, 0.74900552],\n",
              "       [0.29256776, 0.70743224],\n",
              "       [0.50757262, 0.49242738],\n",
              "       [0.24016075, 0.75983925]])"
            ]
          },
          "metadata": {},
          "execution_count": 343
        }
      ]
    },
    {
      "cell_type": "code",
      "source": [
        "probs[:,0][:5] # только вероятности неудовлетворенных оценок"
      ],
      "metadata": {
        "id": "8nbrEvPl2zVr",
        "colab": {
          "base_uri": "https://localhost:8080/"
        },
        "outputId": "a1b917b0-ee05-4da4-a6bd-9bbbdce92ecd"
      },
      "execution_count": 344,
      "outputs": [
        {
          "output_type": "execute_result",
          "data": {
            "text/plain": [
              "array([0.4404659 , 0.25099448, 0.29256776, 0.50757262, 0.24016075])"
            ]
          },
          "metadata": {},
          "execution_count": 344
        }
      ]
    },
    {
      "cell_type": "code",
      "source": [
        "classes = probs[:,0] > 0.5\n",
        "\n",
        "classes[:5]"
      ],
      "metadata": {
        "id": "VGmmssX62zXn",
        "colab": {
          "base_uri": "https://localhost:8080/"
        },
        "outputId": "d974c4c5-eb1e-4c6d-e8c8-aba68ef24a3c"
      },
      "execution_count": 345,
      "outputs": [
        {
          "output_type": "execute_result",
          "data": {
            "text/plain": [
              "array([False, False, False,  True, False])"
            ]
          },
          "metadata": {},
          "execution_count": 345
        }
      ]
    },
    {
      "cell_type": "code",
      "source": [
        "confusion_matrix(y_test, classes), recall_score(y_test, classes)"
      ],
      "metadata": {
        "id": "PtIv5vl52zZz",
        "colab": {
          "base_uri": "https://localhost:8080/"
        },
        "outputId": "156e04dc-301f-4f84-9bef-85274a40d730"
      },
      "execution_count": 346,
      "outputs": [
        {
          "output_type": "execute_result",
          "data": {
            "text/plain": [
              "(array([[ 2853,  8203],\n",
              "        [11123,  3577]]),\n",
              " 0.24333333333333335)"
            ]
          },
          "metadata": {},
          "execution_count": 346
        }
      ]
    },
    {
      "cell_type": "code",
      "source": [
        "classes = probs[:,0] > 0.8\n",
        "\n",
        "confusion_matrix(y_test, classes), recall_score(y_test, classes)"
      ],
      "metadata": {
        "colab": {
          "base_uri": "https://localhost:8080/"
        },
        "id": "XEa1NINwdDbQ",
        "outputId": "b4b0d8fa-9d73-4ec7-9e4b-5b82319ff394"
      },
      "execution_count": 347,
      "outputs": [
        {
          "output_type": "execute_result",
          "data": {
            "text/plain": [
              "(array([[ 8072,  2984],\n",
              "        [14126,   574]]),\n",
              " 0.039047619047619046)"
            ]
          },
          "metadata": {},
          "execution_count": 347
        }
      ]
    },
    {
      "cell_type": "code",
      "source": [
        "classes = probs[:,0] > 0.01\n",
        "\n",
        "confusion_matrix(y_test, classes), recall_score(y_test, classes)"
      ],
      "metadata": {
        "colab": {
          "base_uri": "https://localhost:8080/"
        },
        "id": "Dp0T5SkJdFoh",
        "outputId": "dcaafa1a-1573-461c-af29-a53cc10e7bf1"
      },
      "execution_count": 348,
      "outputs": [
        {
          "output_type": "execute_result",
          "data": {
            "text/plain": [
              "(array([[    9, 11047],\n",
              "        [   20, 14680]]),\n",
              " 0.998639455782313)"
            ]
          },
          "metadata": {},
          "execution_count": 348
        }
      ]
    },
    {
      "cell_type": "markdown",
      "source": [
        "#Масштабирование признаков"
      ],
      "metadata": {
        "id": "sNy50H3AiUDd"
      }
    },
    {
      "cell_type": "code",
      "source": [
        "\n",
        "model.coef_"
      ],
      "metadata": {
        "colab": {
          "base_uri": "https://localhost:8080/"
        },
        "id": "n94cIvTCiZ8q",
        "outputId": "09c25db9-3823-43fe-9de8-50e50f69b49f"
      },
      "execution_count": 349,
      "outputs": [
        {
          "output_type": "execute_result",
          "data": {
            "text/plain": [
              "array([[ 2.20656760e-02, -3.62290671e-04, -5.55154217e-04,\n",
              "         6.39010141e-03, -2.93581538e-01,  3.86395362e-01,\n",
              "        -3.25133089e-02,  3.12991877e-01,  2.65397711e-01,\n",
              "        -5.88622167e-01, -6.48282068e-02, -2.66279492e-01,\n",
              "        -1.55821748e-01, -1.29065637e-01,  1.43887752e-01,\n",
              "         3.34649163e-02,  1.66293083e-01,  3.56937746e-02]])"
            ]
          },
          "metadata": {},
          "execution_count": 349
        }
      ]
    },
    {
      "cell_type": "code",
      "source": [
        "from sklearn.preprocessing import MinMaxScaler\n",
        "\n",
        "ss = MinMaxScaler()\n",
        "ss.fit(X_train) # вычислить min, max по каждому столбцу\n",
        "\n",
        "X_train = pd.DataFrame(ss.transform(X_train), columns=X_train.columns)\n",
        "X_test = pd.DataFrame(ss.transform(X_test), columns=X_test.columns)\n",
        "\n",
        "X_train.head()"
      ],
      "metadata": {
        "colab": {
          "base_uri": "https://localhost:8080/",
          "height": 285
        },
        "id": "WftBrNWmdICa",
        "outputId": "7668b416-4fa6-45cd-ead2-36958bf1a293"
      },
      "execution_count": 350,
      "outputs": [
        {
          "output_type": "execute_result",
          "data": {
            "text/plain": [
              "    Age  Flight Distance  Departure Delay in Minutes  \\\n",
              "0  0.56         0.082126                    0.000000   \n",
              "1  0.55         0.027515                    0.000000   \n",
              "2  0.08         0.080130                    0.000000   \n",
              "3  0.57         0.372086                    0.004211   \n",
              "4  0.09         0.040223                    0.045614   \n",
              "\n",
              "   Arrival Delay in Minutes  Inflight wifi service  \\\n",
              "0                  0.000000                    0.8   \n",
              "1                  0.000000                    0.4   \n",
              "2                  0.003906                    0.8   \n",
              "3                  0.001563                    0.6   \n",
              "4                  0.078125                    0.4   \n",
              "\n",
              "   Departure/Arrival time convenient  Ease of Online booking  Gate location  \\\n",
              "0                                0.2                     0.2            0.2   \n",
              "1                                1.0                     0.0            0.8   \n",
              "2                                0.4                     0.8            0.6   \n",
              "3                                0.6                     0.6            0.6   \n",
              "4                                0.6                     0.4            0.6   \n",
              "\n",
              "   Food and drink  Online boarding  Seat comfort  Inflight entertainment  \\\n",
              "0             1.0              1.0           1.0                     0.8   \n",
              "1             0.6              0.0           0.6                     0.6   \n",
              "2             0.4              0.8           0.4                     0.4   \n",
              "3             0.4              1.0           0.8                     0.8   \n",
              "4             0.8              0.4           0.8                     0.8   \n",
              "\n",
              "   On-board service  Leg room service  Baggage handling  Checkin service  \\\n",
              "0               0.8               0.8               0.8              1.0   \n",
              "1               0.4               0.2               0.8              0.2   \n",
              "2               0.8               1.0               0.8              0.4   \n",
              "3               0.8               0.8               0.8              0.6   \n",
              "4               0.4               0.4               0.6              0.4   \n",
              "\n",
              "   Inflight service  Cleanliness  \n",
              "0               0.8          0.6  \n",
              "1               0.8          0.6  \n",
              "2               0.8          0.4  \n",
              "3               0.8          0.6  \n",
              "4               0.4          0.8  "
            ],
            "text/html": [
              "\n",
              "  <div id=\"df-20f75081-e64c-4b69-b510-c12c4436483d\">\n",
              "    <div class=\"colab-df-container\">\n",
              "      <div>\n",
              "<style scoped>\n",
              "    .dataframe tbody tr th:only-of-type {\n",
              "        vertical-align: middle;\n",
              "    }\n",
              "\n",
              "    .dataframe tbody tr th {\n",
              "        vertical-align: top;\n",
              "    }\n",
              "\n",
              "    .dataframe thead th {\n",
              "        text-align: right;\n",
              "    }\n",
              "</style>\n",
              "<table border=\"1\" class=\"dataframe\">\n",
              "  <thead>\n",
              "    <tr style=\"text-align: right;\">\n",
              "      <th></th>\n",
              "      <th>Age</th>\n",
              "      <th>Flight Distance</th>\n",
              "      <th>Departure Delay in Minutes</th>\n",
              "      <th>Arrival Delay in Minutes</th>\n",
              "      <th>Inflight wifi service</th>\n",
              "      <th>Departure/Arrival time convenient</th>\n",
              "      <th>Ease of Online booking</th>\n",
              "      <th>Gate location</th>\n",
              "      <th>Food and drink</th>\n",
              "      <th>Online boarding</th>\n",
              "      <th>Seat comfort</th>\n",
              "      <th>Inflight entertainment</th>\n",
              "      <th>On-board service</th>\n",
              "      <th>Leg room service</th>\n",
              "      <th>Baggage handling</th>\n",
              "      <th>Checkin service</th>\n",
              "      <th>Inflight service</th>\n",
              "      <th>Cleanliness</th>\n",
              "    </tr>\n",
              "  </thead>\n",
              "  <tbody>\n",
              "    <tr>\n",
              "      <th>0</th>\n",
              "      <td>0.56</td>\n",
              "      <td>0.082126</td>\n",
              "      <td>0.000000</td>\n",
              "      <td>0.000000</td>\n",
              "      <td>0.8</td>\n",
              "      <td>0.2</td>\n",
              "      <td>0.2</td>\n",
              "      <td>0.2</td>\n",
              "      <td>1.0</td>\n",
              "      <td>1.0</td>\n",
              "      <td>1.0</td>\n",
              "      <td>0.8</td>\n",
              "      <td>0.8</td>\n",
              "      <td>0.8</td>\n",
              "      <td>0.8</td>\n",
              "      <td>1.0</td>\n",
              "      <td>0.8</td>\n",
              "      <td>0.6</td>\n",
              "    </tr>\n",
              "    <tr>\n",
              "      <th>1</th>\n",
              "      <td>0.55</td>\n",
              "      <td>0.027515</td>\n",
              "      <td>0.000000</td>\n",
              "      <td>0.000000</td>\n",
              "      <td>0.4</td>\n",
              "      <td>1.0</td>\n",
              "      <td>0.0</td>\n",
              "      <td>0.8</td>\n",
              "      <td>0.6</td>\n",
              "      <td>0.0</td>\n",
              "      <td>0.6</td>\n",
              "      <td>0.6</td>\n",
              "      <td>0.4</td>\n",
              "      <td>0.2</td>\n",
              "      <td>0.8</td>\n",
              "      <td>0.2</td>\n",
              "      <td>0.8</td>\n",
              "      <td>0.6</td>\n",
              "    </tr>\n",
              "    <tr>\n",
              "      <th>2</th>\n",
              "      <td>0.08</td>\n",
              "      <td>0.080130</td>\n",
              "      <td>0.000000</td>\n",
              "      <td>0.003906</td>\n",
              "      <td>0.8</td>\n",
              "      <td>0.4</td>\n",
              "      <td>0.8</td>\n",
              "      <td>0.6</td>\n",
              "      <td>0.4</td>\n",
              "      <td>0.8</td>\n",
              "      <td>0.4</td>\n",
              "      <td>0.4</td>\n",
              "      <td>0.8</td>\n",
              "      <td>1.0</td>\n",
              "      <td>0.8</td>\n",
              "      <td>0.4</td>\n",
              "      <td>0.8</td>\n",
              "      <td>0.4</td>\n",
              "    </tr>\n",
              "    <tr>\n",
              "      <th>3</th>\n",
              "      <td>0.57</td>\n",
              "      <td>0.372086</td>\n",
              "      <td>0.004211</td>\n",
              "      <td>0.001563</td>\n",
              "      <td>0.6</td>\n",
              "      <td>0.6</td>\n",
              "      <td>0.6</td>\n",
              "      <td>0.6</td>\n",
              "      <td>0.4</td>\n",
              "      <td>1.0</td>\n",
              "      <td>0.8</td>\n",
              "      <td>0.8</td>\n",
              "      <td>0.8</td>\n",
              "      <td>0.8</td>\n",
              "      <td>0.8</td>\n",
              "      <td>0.6</td>\n",
              "      <td>0.8</td>\n",
              "      <td>0.6</td>\n",
              "    </tr>\n",
              "    <tr>\n",
              "      <th>4</th>\n",
              "      <td>0.09</td>\n",
              "      <td>0.040223</td>\n",
              "      <td>0.045614</td>\n",
              "      <td>0.078125</td>\n",
              "      <td>0.4</td>\n",
              "      <td>0.6</td>\n",
              "      <td>0.4</td>\n",
              "      <td>0.6</td>\n",
              "      <td>0.8</td>\n",
              "      <td>0.4</td>\n",
              "      <td>0.8</td>\n",
              "      <td>0.8</td>\n",
              "      <td>0.4</td>\n",
              "      <td>0.4</td>\n",
              "      <td>0.6</td>\n",
              "      <td>0.4</td>\n",
              "      <td>0.4</td>\n",
              "      <td>0.8</td>\n",
              "    </tr>\n",
              "  </tbody>\n",
              "</table>\n",
              "</div>\n",
              "      <button class=\"colab-df-convert\" onclick=\"convertToInteractive('df-20f75081-e64c-4b69-b510-c12c4436483d')\"\n",
              "              title=\"Convert this dataframe to an interactive table.\"\n",
              "              style=\"display:none;\">\n",
              "        \n",
              "  <svg xmlns=\"http://www.w3.org/2000/svg\" height=\"24px\"viewBox=\"0 0 24 24\"\n",
              "       width=\"24px\">\n",
              "    <path d=\"M0 0h24v24H0V0z\" fill=\"none\"/>\n",
              "    <path d=\"M18.56 5.44l.94 2.06.94-2.06 2.06-.94-2.06-.94-.94-2.06-.94 2.06-2.06.94zm-11 1L8.5 8.5l.94-2.06 2.06-.94-2.06-.94L8.5 2.5l-.94 2.06-2.06.94zm10 10l.94 2.06.94-2.06 2.06-.94-2.06-.94-.94-2.06-.94 2.06-2.06.94z\"/><path d=\"M17.41 7.96l-1.37-1.37c-.4-.4-.92-.59-1.43-.59-.52 0-1.04.2-1.43.59L10.3 9.45l-7.72 7.72c-.78.78-.78 2.05 0 2.83L4 21.41c.39.39.9.59 1.41.59.51 0 1.02-.2 1.41-.59l7.78-7.78 2.81-2.81c.8-.78.8-2.07 0-2.86zM5.41 20L4 18.59l7.72-7.72 1.47 1.35L5.41 20z\"/>\n",
              "  </svg>\n",
              "      </button>\n",
              "      \n",
              "  <style>\n",
              "    .colab-df-container {\n",
              "      display:flex;\n",
              "      flex-wrap:wrap;\n",
              "      gap: 12px;\n",
              "    }\n",
              "\n",
              "    .colab-df-convert {\n",
              "      background-color: #E8F0FE;\n",
              "      border: none;\n",
              "      border-radius: 50%;\n",
              "      cursor: pointer;\n",
              "      display: none;\n",
              "      fill: #1967D2;\n",
              "      height: 32px;\n",
              "      padding: 0 0 0 0;\n",
              "      width: 32px;\n",
              "    }\n",
              "\n",
              "    .colab-df-convert:hover {\n",
              "      background-color: #E2EBFA;\n",
              "      box-shadow: 0px 1px 2px rgba(60, 64, 67, 0.3), 0px 1px 3px 1px rgba(60, 64, 67, 0.15);\n",
              "      fill: #174EA6;\n",
              "    }\n",
              "\n",
              "    [theme=dark] .colab-df-convert {\n",
              "      background-color: #3B4455;\n",
              "      fill: #D2E3FC;\n",
              "    }\n",
              "\n",
              "    [theme=dark] .colab-df-convert:hover {\n",
              "      background-color: #434B5C;\n",
              "      box-shadow: 0px 1px 3px 1px rgba(0, 0, 0, 0.15);\n",
              "      filter: drop-shadow(0px 1px 2px rgba(0, 0, 0, 0.3));\n",
              "      fill: #FFFFFF;\n",
              "    }\n",
              "  </style>\n",
              "\n",
              "      <script>\n",
              "        const buttonEl =\n",
              "          document.querySelector('#df-20f75081-e64c-4b69-b510-c12c4436483d button.colab-df-convert');\n",
              "        buttonEl.style.display =\n",
              "          google.colab.kernel.accessAllowed ? 'block' : 'none';\n",
              "\n",
              "        async function convertToInteractive(key) {\n",
              "          const element = document.querySelector('#df-20f75081-e64c-4b69-b510-c12c4436483d');\n",
              "          const dataTable =\n",
              "            await google.colab.kernel.invokeFunction('convertToInteractive',\n",
              "                                                     [key], {});\n",
              "          if (!dataTable) return;\n",
              "\n",
              "          const docLinkHtml = 'Like what you see? Visit the ' +\n",
              "            '<a target=\"_blank\" href=https://colab.research.google.com/notebooks/data_table.ipynb>data table notebook</a>'\n",
              "            + ' to learn more about interactive tables.';\n",
              "          element.innerHTML = '';\n",
              "          dataTable['output_type'] = 'display_data';\n",
              "          await google.colab.output.renderOutput(dataTable, element);\n",
              "          const docLink = document.createElement('div');\n",
              "          docLink.innerHTML = docLinkHtml;\n",
              "          element.appendChild(docLink);\n",
              "        }\n",
              "      </script>\n",
              "    </div>\n",
              "  </div>\n",
              "  "
            ]
          },
          "metadata": {},
          "execution_count": 350
        }
      ]
    },
    {
      "cell_type": "code",
      "source": [
        "model = LogisticRegression()\n",
        "\n",
        "model.fit(X_train, y_train)\n",
        "\n",
        "pred = model.predict(X_test)"
      ],
      "metadata": {
        "id": "CsohUQiTdp3A"
      },
      "execution_count": 351,
      "outputs": []
    },
    {
      "cell_type": "code",
      "source": [
        "importances = pd.DataFrame({'weights': model.coef_[0], 'features': X_train.columns}).sort_values(by='weights')\n",
        "importances.head()"
      ],
      "metadata": {
        "colab": {
          "base_uri": "https://localhost:8080/",
          "height": 206
        },
        "id": "FGbv-_-Bdvgl",
        "outputId": "6b903351-7321-4a9a-8f70-979291e531f4"
      },
      "execution_count": 352,
      "outputs": [
        {
          "output_type": "execute_result",
          "data": {
            "text/plain": [
              "     weights               features\n",
              "1  -5.129192        Flight Distance\n",
              "9  -3.770842        Online boarding\n",
              "4  -1.871072  Inflight wifi service\n",
              "13 -1.641826       Leg room service\n",
              "12 -1.310435       On-board service"
            ],
            "text/html": [
              "\n",
              "  <div id=\"df-210aeda6-4861-4093-beb2-0fc8b2293d1a\">\n",
              "    <div class=\"colab-df-container\">\n",
              "      <div>\n",
              "<style scoped>\n",
              "    .dataframe tbody tr th:only-of-type {\n",
              "        vertical-align: middle;\n",
              "    }\n",
              "\n",
              "    .dataframe tbody tr th {\n",
              "        vertical-align: top;\n",
              "    }\n",
              "\n",
              "    .dataframe thead th {\n",
              "        text-align: right;\n",
              "    }\n",
              "</style>\n",
              "<table border=\"1\" class=\"dataframe\">\n",
              "  <thead>\n",
              "    <tr style=\"text-align: right;\">\n",
              "      <th></th>\n",
              "      <th>weights</th>\n",
              "      <th>features</th>\n",
              "    </tr>\n",
              "  </thead>\n",
              "  <tbody>\n",
              "    <tr>\n",
              "      <th>1</th>\n",
              "      <td>-5.129192</td>\n",
              "      <td>Flight Distance</td>\n",
              "    </tr>\n",
              "    <tr>\n",
              "      <th>9</th>\n",
              "      <td>-3.770842</td>\n",
              "      <td>Online boarding</td>\n",
              "    </tr>\n",
              "    <tr>\n",
              "      <th>4</th>\n",
              "      <td>-1.871072</td>\n",
              "      <td>Inflight wifi service</td>\n",
              "    </tr>\n",
              "    <tr>\n",
              "      <th>13</th>\n",
              "      <td>-1.641826</td>\n",
              "      <td>Leg room service</td>\n",
              "    </tr>\n",
              "    <tr>\n",
              "      <th>12</th>\n",
              "      <td>-1.310435</td>\n",
              "      <td>On-board service</td>\n",
              "    </tr>\n",
              "  </tbody>\n",
              "</table>\n",
              "</div>\n",
              "      <button class=\"colab-df-convert\" onclick=\"convertToInteractive('df-210aeda6-4861-4093-beb2-0fc8b2293d1a')\"\n",
              "              title=\"Convert this dataframe to an interactive table.\"\n",
              "              style=\"display:none;\">\n",
              "        \n",
              "  <svg xmlns=\"http://www.w3.org/2000/svg\" height=\"24px\"viewBox=\"0 0 24 24\"\n",
              "       width=\"24px\">\n",
              "    <path d=\"M0 0h24v24H0V0z\" fill=\"none\"/>\n",
              "    <path d=\"M18.56 5.44l.94 2.06.94-2.06 2.06-.94-2.06-.94-.94-2.06-.94 2.06-2.06.94zm-11 1L8.5 8.5l.94-2.06 2.06-.94-2.06-.94L8.5 2.5l-.94 2.06-2.06.94zm10 10l.94 2.06.94-2.06 2.06-.94-2.06-.94-.94-2.06-.94 2.06-2.06.94z\"/><path d=\"M17.41 7.96l-1.37-1.37c-.4-.4-.92-.59-1.43-.59-.52 0-1.04.2-1.43.59L10.3 9.45l-7.72 7.72c-.78.78-.78 2.05 0 2.83L4 21.41c.39.39.9.59 1.41.59.51 0 1.02-.2 1.41-.59l7.78-7.78 2.81-2.81c.8-.78.8-2.07 0-2.86zM5.41 20L4 18.59l7.72-7.72 1.47 1.35L5.41 20z\"/>\n",
              "  </svg>\n",
              "      </button>\n",
              "      \n",
              "  <style>\n",
              "    .colab-df-container {\n",
              "      display:flex;\n",
              "      flex-wrap:wrap;\n",
              "      gap: 12px;\n",
              "    }\n",
              "\n",
              "    .colab-df-convert {\n",
              "      background-color: #E8F0FE;\n",
              "      border: none;\n",
              "      border-radius: 50%;\n",
              "      cursor: pointer;\n",
              "      display: none;\n",
              "      fill: #1967D2;\n",
              "      height: 32px;\n",
              "      padding: 0 0 0 0;\n",
              "      width: 32px;\n",
              "    }\n",
              "\n",
              "    .colab-df-convert:hover {\n",
              "      background-color: #E2EBFA;\n",
              "      box-shadow: 0px 1px 2px rgba(60, 64, 67, 0.3), 0px 1px 3px 1px rgba(60, 64, 67, 0.15);\n",
              "      fill: #174EA6;\n",
              "    }\n",
              "\n",
              "    [theme=dark] .colab-df-convert {\n",
              "      background-color: #3B4455;\n",
              "      fill: #D2E3FC;\n",
              "    }\n",
              "\n",
              "    [theme=dark] .colab-df-convert:hover {\n",
              "      background-color: #434B5C;\n",
              "      box-shadow: 0px 1px 3px 1px rgba(0, 0, 0, 0.15);\n",
              "      filter: drop-shadow(0px 1px 2px rgba(0, 0, 0, 0.3));\n",
              "      fill: #FFFFFF;\n",
              "    }\n",
              "  </style>\n",
              "\n",
              "      <script>\n",
              "        const buttonEl =\n",
              "          document.querySelector('#df-210aeda6-4861-4093-beb2-0fc8b2293d1a button.colab-df-convert');\n",
              "        buttonEl.style.display =\n",
              "          google.colab.kernel.accessAllowed ? 'block' : 'none';\n",
              "\n",
              "        async function convertToInteractive(key) {\n",
              "          const element = document.querySelector('#df-210aeda6-4861-4093-beb2-0fc8b2293d1a');\n",
              "          const dataTable =\n",
              "            await google.colab.kernel.invokeFunction('convertToInteractive',\n",
              "                                                     [key], {});\n",
              "          if (!dataTable) return;\n",
              "\n",
              "          const docLinkHtml = 'Like what you see? Visit the ' +\n",
              "            '<a target=\"_blank\" href=https://colab.research.google.com/notebooks/data_table.ipynb>data table notebook</a>'\n",
              "            + ' to learn more about interactive tables.';\n",
              "          element.innerHTML = '';\n",
              "          dataTable['output_type'] = 'display_data';\n",
              "          await google.colab.output.renderOutput(dataTable, element);\n",
              "          const docLink = document.createElement('div');\n",
              "          docLink.innerHTML = docLinkHtml;\n",
              "          element.appendChild(docLink);\n",
              "        }\n",
              "      </script>\n",
              "    </div>\n",
              "  </div>\n",
              "  "
            ]
          },
          "metadata": {},
          "execution_count": 352
        }
      ]
    },
    {
      "cell_type": "markdown",
      "source": [
        "# Кодирование категориальных признаков"
      ],
      "metadata": {
        "id": "iZLpVQWkkBDK"
      }
    },
    {
      "cell_type": "code",
      "source": [
        "X = df.drop(['satisfaction', 'id'], axis=1)\n",
        "\n",
        "y = df['satisfaction'] # целевая переменная (target)"
      ],
      "metadata": {
        "id": "favJDmjvlZop"
      },
      "execution_count": 353,
      "outputs": []
    },
    {
      "cell_type": "code",
      "source": [
        "X.dtypes"
      ],
      "metadata": {
        "colab": {
          "base_uri": "https://localhost:8080/"
        },
        "id": "g_UkUlC9leU0",
        "outputId": "347e1910-1201-4fe5-d697-ebf2df4b591a"
      },
      "execution_count": 354,
      "outputs": [
        {
          "output_type": "execute_result",
          "data": {
            "text/plain": [
              "Gender                                object\n",
              "Age                                  float64\n",
              "Customer Type                         object\n",
              "Type of Travel                        object\n",
              "Class                                 object\n",
              "Flight Distance                      float64\n",
              "Departure Delay in Minutes           float64\n",
              "Arrival Delay in Minutes             float64\n",
              "Inflight wifi service                float64\n",
              "Departure/Arrival time convenient    float64\n",
              "Ease of Online booking               float64\n",
              "Gate location                        float64\n",
              "Food and drink                       float64\n",
              "Online boarding                      float64\n",
              "Seat comfort                         float64\n",
              "Inflight entertainment               float64\n",
              "On-board service                     float64\n",
              "Leg room service                     float64\n",
              "Baggage handling                     float64\n",
              "Checkin service                      float64\n",
              "Inflight service                     float64\n",
              "Cleanliness                          float64\n",
              "dtype: object"
            ]
          },
          "metadata": {},
          "execution_count": 354
        }
      ]
    },
    {
      "cell_type": "code",
      "source": [
        "X_train, X_test, y_train, y_test = train_test_split(X, y, test_size=0.25, random_state=42)"
      ],
      "metadata": {
        "id": "XwTuwWmmliKl"
      },
      "execution_count": 355,
      "outputs": []
    },
    {
      "cell_type": "code",
      "source": [
        "from sklearn.preprocessing import OneHotEncoder\n",
        "from sklearn.compose import ColumnTransformer\n",
        "\n",
        "categorical = ['Gender', 'Customer Type', 'Type of Travel', 'Class']\n",
        "numeric_features = [col for col in X_train.columns if col not in categorical]\n",
        "\n",
        "column_transformer = ColumnTransformer([\n",
        "    ('ohe', OneHotEncoder(drop='first', handle_unknown=\"ignore\"), categorical),\n",
        "    ('scaling', MinMaxScaler(), numeric_features)\n",
        "])\n",
        "\n",
        "X_train_transformed = column_transformer.fit_transform(X_train)\n",
        "X_test_transformed = column_transformer.transform(X_test)"
      ],
      "metadata": {
        "id": "WdlDRxtGdycW"
      },
      "execution_count": 356,
      "outputs": []
    },
    {
      "cell_type": "code",
      "source": [
        "X_train_transformed"
      ],
      "metadata": {
        "colab": {
          "base_uri": "https://localhost:8080/"
        },
        "id": "kF-Iwn-DldmX",
        "outputId": "df1533cc-e440-4822-946a-e12b24bfe9fe"
      },
      "execution_count": 357,
      "outputs": [
        {
          "output_type": "execute_result",
          "data": {
            "text/plain": [
              "array([[0. , 0. , 0. , ..., 1. , 0.8, 0.6],\n",
              "       [1. , 0. , 0. , ..., 0.2, 0.8, 0.6],\n",
              "       [0. , 0. , 0. , ..., 0.4, 0.8, 0.4],\n",
              "       ...,\n",
              "       [1. , 0. , 1. , ..., 1. , 1. , 0.6],\n",
              "       [1. , 0. , 0. , ..., 1. , 1. , 0.8],\n",
              "       [0. , 0. , 0. , ..., 0.2, 0.8, 0.6]])"
            ]
          },
          "metadata": {},
          "execution_count": 357
        }
      ]
    },
    {
      "cell_type": "code",
      "source": [
        "lst = list(column_transformer.transformers_[0][1].get_feature_names_out())\n",
        "lst.extend(numeric_features)\n",
        "\n",
        "X_train_transformed = pd.DataFrame(X_train_transformed, columns=lst)\n",
        "X_test_transformed = pd.DataFrame(X_test_transformed, columns=lst)\n",
        "\n",
        "X_train_transformed.head()"
      ],
      "metadata": {
        "colab": {
          "base_uri": "https://localhost:8080/",
          "height": 334
        },
        "id": "kCUq3da6k0OU",
        "outputId": "78356435-4978-4822-8349-9e58cf2f202f"
      },
      "execution_count": 358,
      "outputs": [
        {
          "output_type": "execute_result",
          "data": {
            "text/plain": [
              "   Gender_Male  Gender_unknown  Customer Type_disloyal Customer  \\\n",
              "0          0.0             0.0                              0.0   \n",
              "1          1.0             0.0                              0.0   \n",
              "2          0.0             0.0                              0.0   \n",
              "3          0.0             0.0                              0.0   \n",
              "4          1.0             0.0                              0.0   \n",
              "\n",
              "   Customer Type_unknown  Type of Travel_Personal Travel  \\\n",
              "0                    0.0                             0.0   \n",
              "1                    0.0                             1.0   \n",
              "2                    0.0                             1.0   \n",
              "3                    0.0                             0.0   \n",
              "4                    0.0                             1.0   \n",
              "\n",
              "   Type of Travel_unknown  Class_Eco  Class_Eco Plus  Class_unknown   Age  \\\n",
              "0                     0.0        1.0             0.0            0.0  0.56   \n",
              "1                     0.0        1.0             0.0            0.0  0.55   \n",
              "2                     0.0        1.0             0.0            0.0  0.08   \n",
              "3                     0.0        0.0             0.0            0.0  0.57   \n",
              "4                     0.0        1.0             0.0            0.0  0.09   \n",
              "\n",
              "   ...  Food and drink  Online boarding  Seat comfort  Inflight entertainment  \\\n",
              "0  ...             1.0              1.0           1.0                     0.8   \n",
              "1  ...             0.6              0.0           0.6                     0.6   \n",
              "2  ...             0.4              0.8           0.4                     0.4   \n",
              "3  ...             0.4              1.0           0.8                     0.8   \n",
              "4  ...             0.8              0.4           0.8                     0.8   \n",
              "\n",
              "   On-board service  Leg room service  Baggage handling  Checkin service  \\\n",
              "0               0.8               0.8               0.8              1.0   \n",
              "1               0.4               0.2               0.8              0.2   \n",
              "2               0.8               1.0               0.8              0.4   \n",
              "3               0.8               0.8               0.8              0.6   \n",
              "4               0.4               0.4               0.6              0.4   \n",
              "\n",
              "   Inflight service  Cleanliness  \n",
              "0               0.8          0.6  \n",
              "1               0.8          0.6  \n",
              "2               0.8          0.4  \n",
              "3               0.8          0.6  \n",
              "4               0.4          0.8  \n",
              "\n",
              "[5 rows x 27 columns]"
            ],
            "text/html": [
              "\n",
              "  <div id=\"df-a0f0ac9d-d7ab-4e55-8b8c-f97fec92a4f2\">\n",
              "    <div class=\"colab-df-container\">\n",
              "      <div>\n",
              "<style scoped>\n",
              "    .dataframe tbody tr th:only-of-type {\n",
              "        vertical-align: middle;\n",
              "    }\n",
              "\n",
              "    .dataframe tbody tr th {\n",
              "        vertical-align: top;\n",
              "    }\n",
              "\n",
              "    .dataframe thead th {\n",
              "        text-align: right;\n",
              "    }\n",
              "</style>\n",
              "<table border=\"1\" class=\"dataframe\">\n",
              "  <thead>\n",
              "    <tr style=\"text-align: right;\">\n",
              "      <th></th>\n",
              "      <th>Gender_Male</th>\n",
              "      <th>Gender_unknown</th>\n",
              "      <th>Customer Type_disloyal Customer</th>\n",
              "      <th>Customer Type_unknown</th>\n",
              "      <th>Type of Travel_Personal Travel</th>\n",
              "      <th>Type of Travel_unknown</th>\n",
              "      <th>Class_Eco</th>\n",
              "      <th>Class_Eco Plus</th>\n",
              "      <th>Class_unknown</th>\n",
              "      <th>Age</th>\n",
              "      <th>...</th>\n",
              "      <th>Food and drink</th>\n",
              "      <th>Online boarding</th>\n",
              "      <th>Seat comfort</th>\n",
              "      <th>Inflight entertainment</th>\n",
              "      <th>On-board service</th>\n",
              "      <th>Leg room service</th>\n",
              "      <th>Baggage handling</th>\n",
              "      <th>Checkin service</th>\n",
              "      <th>Inflight service</th>\n",
              "      <th>Cleanliness</th>\n",
              "    </tr>\n",
              "  </thead>\n",
              "  <tbody>\n",
              "    <tr>\n",
              "      <th>0</th>\n",
              "      <td>0.0</td>\n",
              "      <td>0.0</td>\n",
              "      <td>0.0</td>\n",
              "      <td>0.0</td>\n",
              "      <td>0.0</td>\n",
              "      <td>0.0</td>\n",
              "      <td>1.0</td>\n",
              "      <td>0.0</td>\n",
              "      <td>0.0</td>\n",
              "      <td>0.56</td>\n",
              "      <td>...</td>\n",
              "      <td>1.0</td>\n",
              "      <td>1.0</td>\n",
              "      <td>1.0</td>\n",
              "      <td>0.8</td>\n",
              "      <td>0.8</td>\n",
              "      <td>0.8</td>\n",
              "      <td>0.8</td>\n",
              "      <td>1.0</td>\n",
              "      <td>0.8</td>\n",
              "      <td>0.6</td>\n",
              "    </tr>\n",
              "    <tr>\n",
              "      <th>1</th>\n",
              "      <td>1.0</td>\n",
              "      <td>0.0</td>\n",
              "      <td>0.0</td>\n",
              "      <td>0.0</td>\n",
              "      <td>1.0</td>\n",
              "      <td>0.0</td>\n",
              "      <td>1.0</td>\n",
              "      <td>0.0</td>\n",
              "      <td>0.0</td>\n",
              "      <td>0.55</td>\n",
              "      <td>...</td>\n",
              "      <td>0.6</td>\n",
              "      <td>0.0</td>\n",
              "      <td>0.6</td>\n",
              "      <td>0.6</td>\n",
              "      <td>0.4</td>\n",
              "      <td>0.2</td>\n",
              "      <td>0.8</td>\n",
              "      <td>0.2</td>\n",
              "      <td>0.8</td>\n",
              "      <td>0.6</td>\n",
              "    </tr>\n",
              "    <tr>\n",
              "      <th>2</th>\n",
              "      <td>0.0</td>\n",
              "      <td>0.0</td>\n",
              "      <td>0.0</td>\n",
              "      <td>0.0</td>\n",
              "      <td>1.0</td>\n",
              "      <td>0.0</td>\n",
              "      <td>1.0</td>\n",
              "      <td>0.0</td>\n",
              "      <td>0.0</td>\n",
              "      <td>0.08</td>\n",
              "      <td>...</td>\n",
              "      <td>0.4</td>\n",
              "      <td>0.8</td>\n",
              "      <td>0.4</td>\n",
              "      <td>0.4</td>\n",
              "      <td>0.8</td>\n",
              "      <td>1.0</td>\n",
              "      <td>0.8</td>\n",
              "      <td>0.4</td>\n",
              "      <td>0.8</td>\n",
              "      <td>0.4</td>\n",
              "    </tr>\n",
              "    <tr>\n",
              "      <th>3</th>\n",
              "      <td>0.0</td>\n",
              "      <td>0.0</td>\n",
              "      <td>0.0</td>\n",
              "      <td>0.0</td>\n",
              "      <td>0.0</td>\n",
              "      <td>0.0</td>\n",
              "      <td>0.0</td>\n",
              "      <td>0.0</td>\n",
              "      <td>0.0</td>\n",
              "      <td>0.57</td>\n",
              "      <td>...</td>\n",
              "      <td>0.4</td>\n",
              "      <td>1.0</td>\n",
              "      <td>0.8</td>\n",
              "      <td>0.8</td>\n",
              "      <td>0.8</td>\n",
              "      <td>0.8</td>\n",
              "      <td>0.8</td>\n",
              "      <td>0.6</td>\n",
              "      <td>0.8</td>\n",
              "      <td>0.6</td>\n",
              "    </tr>\n",
              "    <tr>\n",
              "      <th>4</th>\n",
              "      <td>1.0</td>\n",
              "      <td>0.0</td>\n",
              "      <td>0.0</td>\n",
              "      <td>0.0</td>\n",
              "      <td>1.0</td>\n",
              "      <td>0.0</td>\n",
              "      <td>1.0</td>\n",
              "      <td>0.0</td>\n",
              "      <td>0.0</td>\n",
              "      <td>0.09</td>\n",
              "      <td>...</td>\n",
              "      <td>0.8</td>\n",
              "      <td>0.4</td>\n",
              "      <td>0.8</td>\n",
              "      <td>0.8</td>\n",
              "      <td>0.4</td>\n",
              "      <td>0.4</td>\n",
              "      <td>0.6</td>\n",
              "      <td>0.4</td>\n",
              "      <td>0.4</td>\n",
              "      <td>0.8</td>\n",
              "    </tr>\n",
              "  </tbody>\n",
              "</table>\n",
              "<p>5 rows × 27 columns</p>\n",
              "</div>\n",
              "      <button class=\"colab-df-convert\" onclick=\"convertToInteractive('df-a0f0ac9d-d7ab-4e55-8b8c-f97fec92a4f2')\"\n",
              "              title=\"Convert this dataframe to an interactive table.\"\n",
              "              style=\"display:none;\">\n",
              "        \n",
              "  <svg xmlns=\"http://www.w3.org/2000/svg\" height=\"24px\"viewBox=\"0 0 24 24\"\n",
              "       width=\"24px\">\n",
              "    <path d=\"M0 0h24v24H0V0z\" fill=\"none\"/>\n",
              "    <path d=\"M18.56 5.44l.94 2.06.94-2.06 2.06-.94-2.06-.94-.94-2.06-.94 2.06-2.06.94zm-11 1L8.5 8.5l.94-2.06 2.06-.94-2.06-.94L8.5 2.5l-.94 2.06-2.06.94zm10 10l.94 2.06.94-2.06 2.06-.94-2.06-.94-.94-2.06-.94 2.06-2.06.94z\"/><path d=\"M17.41 7.96l-1.37-1.37c-.4-.4-.92-.59-1.43-.59-.52 0-1.04.2-1.43.59L10.3 9.45l-7.72 7.72c-.78.78-.78 2.05 0 2.83L4 21.41c.39.39.9.59 1.41.59.51 0 1.02-.2 1.41-.59l7.78-7.78 2.81-2.81c.8-.78.8-2.07 0-2.86zM5.41 20L4 18.59l7.72-7.72 1.47 1.35L5.41 20z\"/>\n",
              "  </svg>\n",
              "      </button>\n",
              "      \n",
              "  <style>\n",
              "    .colab-df-container {\n",
              "      display:flex;\n",
              "      flex-wrap:wrap;\n",
              "      gap: 12px;\n",
              "    }\n",
              "\n",
              "    .colab-df-convert {\n",
              "      background-color: #E8F0FE;\n",
              "      border: none;\n",
              "      border-radius: 50%;\n",
              "      cursor: pointer;\n",
              "      display: none;\n",
              "      fill: #1967D2;\n",
              "      height: 32px;\n",
              "      padding: 0 0 0 0;\n",
              "      width: 32px;\n",
              "    }\n",
              "\n",
              "    .colab-df-convert:hover {\n",
              "      background-color: #E2EBFA;\n",
              "      box-shadow: 0px 1px 2px rgba(60, 64, 67, 0.3), 0px 1px 3px 1px rgba(60, 64, 67, 0.15);\n",
              "      fill: #174EA6;\n",
              "    }\n",
              "\n",
              "    [theme=dark] .colab-df-convert {\n",
              "      background-color: #3B4455;\n",
              "      fill: #D2E3FC;\n",
              "    }\n",
              "\n",
              "    [theme=dark] .colab-df-convert:hover {\n",
              "      background-color: #434B5C;\n",
              "      box-shadow: 0px 1px 3px 1px rgba(0, 0, 0, 0.15);\n",
              "      filter: drop-shadow(0px 1px 2px rgba(0, 0, 0, 0.3));\n",
              "      fill: #FFFFFF;\n",
              "    }\n",
              "  </style>\n",
              "\n",
              "      <script>\n",
              "        const buttonEl =\n",
              "          document.querySelector('#df-a0f0ac9d-d7ab-4e55-8b8c-f97fec92a4f2 button.colab-df-convert');\n",
              "        buttonEl.style.display =\n",
              "          google.colab.kernel.accessAllowed ? 'block' : 'none';\n",
              "\n",
              "        async function convertToInteractive(key) {\n",
              "          const element = document.querySelector('#df-a0f0ac9d-d7ab-4e55-8b8c-f97fec92a4f2');\n",
              "          const dataTable =\n",
              "            await google.colab.kernel.invokeFunction('convertToInteractive',\n",
              "                                                     [key], {});\n",
              "          if (!dataTable) return;\n",
              "\n",
              "          const docLinkHtml = 'Like what you see? Visit the ' +\n",
              "            '<a target=\"_blank\" href=https://colab.research.google.com/notebooks/data_table.ipynb>data table notebook</a>'\n",
              "            + ' to learn more about interactive tables.';\n",
              "          element.innerHTML = '';\n",
              "          dataTable['output_type'] = 'display_data';\n",
              "          await google.colab.output.renderOutput(dataTable, element);\n",
              "          const docLink = document.createElement('div');\n",
              "          docLink.innerHTML = docLinkHtml;\n",
              "          element.appendChild(docLink);\n",
              "        }\n",
              "      </script>\n",
              "    </div>\n",
              "  </div>\n",
              "  "
            ]
          },
          "metadata": {},
          "execution_count": 358
        }
      ]
    },
    {
      "cell_type": "code",
      "source": [
        "model = LogisticRegression(solver='lbfgs', max_iter=200)\n",
        "\n",
        "model.fit(X_train_transformed, y_train)\n",
        "\n",
        "pred = model.predict_proba(X_test_transformed)[:,1]"
      ],
      "metadata": {
        "id": "EGJo6UOFk0Qy"
      },
      "execution_count": 359,
      "outputs": []
    },
    {
      "cell_type": "code",
      "source": [
        "classes = pred > 0.5\n",
        "\n",
        "confusion_matrix(y_test, classes), recall_score(y_test, classes)"
      ],
      "metadata": {
        "colab": {
          "base_uri": "https://localhost:8080/"
        },
        "id": "IJrYLDCYly7k",
        "outputId": "f98df4ee-1997-48b8-f69d-d4a2ae9d0d53"
      },
      "execution_count": 360,
      "outputs": [
        {
          "output_type": "execute_result",
          "data": {
            "text/plain": [
              "(array([[ 9285,  1771],\n",
              "        [ 1407, 13293]]),\n",
              " 0.9042857142857142)"
            ]
          },
          "metadata": {},
          "execution_count": 360
        }
      ]
    },
    {
      "cell_type": "code",
      "source": [
        "classes = pred > 0.03\n",
        "\n",
        "confusion_matrix(y_test, classes), recall_score(y_test, classes)"
      ],
      "metadata": {
        "colab": {
          "base_uri": "https://localhost:8080/"
        },
        "id": "WZb5AgiYmMKD",
        "outputId": "3d37500c-fdfd-43ad-8e06-cca8a3653d4c"
      },
      "execution_count": 380,
      "outputs": [
        {
          "output_type": "execute_result",
          "data": {
            "text/plain": [
              "(array([[ 1796,  9260],\n",
              "        [    0, 14700]]),\n",
              " 1.0)"
            ]
          },
          "metadata": {},
          "execution_count": 380
        }
      ]
    },
    {
      "cell_type": "code",
      "source": [
        "importances = pd.DataFrame({'weights': model.coef_[0], 'features': X_train_transformed.columns}).sort_values(by='weights')\n",
        "importances"
      ],
      "metadata": {
        "colab": {
          "base_uri": "https://localhost:8080/",
          "height": 896
        },
        "id": "eLMFRgC2mSoc",
        "outputId": "c1cefdad-98f7-470c-a6f2-019d365c8e2b"
      },
      "execution_count": 381,
      "outputs": [
        {
          "output_type": "execute_result",
          "data": {
            "text/plain": [
              "     weights                           features\n",
              "18 -3.002971                    Online boarding\n",
              "13 -1.988831              Inflight wifi service\n",
              "24 -1.622418                    Checkin service\n",
              "21 -1.524068                   On-board service\n",
              "22 -1.271475                   Leg room service\n",
              "26 -1.096004                        Cleanliness\n",
              "23 -0.645619                   Baggage handling\n",
              "25 -0.631508                   Inflight service\n",
              "19 -0.347659                       Seat comfort\n",
              "20 -0.291503             Inflight entertainment\n",
              "16 -0.092690                      Gate location\n",
              "0  -0.052966                        Gender_Male\n",
              "1  -0.017496                     Gender_unknown\n",
              "17  0.127530                     Food and drink\n",
              "10  0.148762                    Flight Distance\n",
              "8   0.182647                      Class_unknown\n",
              "14  0.596564  Departure/Arrival time convenient\n",
              "15  0.649406             Ease of Online booking\n",
              "6   0.732270                          Class_Eco\n",
              "9   0.800023                                Age\n",
              "7   0.862016                     Class_Eco Plus\n",
              "5   1.062801             Type of Travel_unknown\n",
              "3   1.357915              Customer Type_unknown\n",
              "11  1.928037         Departure Delay in Minutes\n",
              "2   2.027702    Customer Type_disloyal Customer\n",
              "4   2.724931     Type of Travel_Personal Travel\n",
              "12  3.718785           Arrival Delay in Minutes"
            ],
            "text/html": [
              "\n",
              "  <div id=\"df-f846e91c-c585-4fd6-9f61-5c3d7918a797\">\n",
              "    <div class=\"colab-df-container\">\n",
              "      <div>\n",
              "<style scoped>\n",
              "    .dataframe tbody tr th:only-of-type {\n",
              "        vertical-align: middle;\n",
              "    }\n",
              "\n",
              "    .dataframe tbody tr th {\n",
              "        vertical-align: top;\n",
              "    }\n",
              "\n",
              "    .dataframe thead th {\n",
              "        text-align: right;\n",
              "    }\n",
              "</style>\n",
              "<table border=\"1\" class=\"dataframe\">\n",
              "  <thead>\n",
              "    <tr style=\"text-align: right;\">\n",
              "      <th></th>\n",
              "      <th>weights</th>\n",
              "      <th>features</th>\n",
              "    </tr>\n",
              "  </thead>\n",
              "  <tbody>\n",
              "    <tr>\n",
              "      <th>18</th>\n",
              "      <td>-3.002971</td>\n",
              "      <td>Online boarding</td>\n",
              "    </tr>\n",
              "    <tr>\n",
              "      <th>13</th>\n",
              "      <td>-1.988831</td>\n",
              "      <td>Inflight wifi service</td>\n",
              "    </tr>\n",
              "    <tr>\n",
              "      <th>24</th>\n",
              "      <td>-1.622418</td>\n",
              "      <td>Checkin service</td>\n",
              "    </tr>\n",
              "    <tr>\n",
              "      <th>21</th>\n",
              "      <td>-1.524068</td>\n",
              "      <td>On-board service</td>\n",
              "    </tr>\n",
              "    <tr>\n",
              "      <th>22</th>\n",
              "      <td>-1.271475</td>\n",
              "      <td>Leg room service</td>\n",
              "    </tr>\n",
              "    <tr>\n",
              "      <th>26</th>\n",
              "      <td>-1.096004</td>\n",
              "      <td>Cleanliness</td>\n",
              "    </tr>\n",
              "    <tr>\n",
              "      <th>23</th>\n",
              "      <td>-0.645619</td>\n",
              "      <td>Baggage handling</td>\n",
              "    </tr>\n",
              "    <tr>\n",
              "      <th>25</th>\n",
              "      <td>-0.631508</td>\n",
              "      <td>Inflight service</td>\n",
              "    </tr>\n",
              "    <tr>\n",
              "      <th>19</th>\n",
              "      <td>-0.347659</td>\n",
              "      <td>Seat comfort</td>\n",
              "    </tr>\n",
              "    <tr>\n",
              "      <th>20</th>\n",
              "      <td>-0.291503</td>\n",
              "      <td>Inflight entertainment</td>\n",
              "    </tr>\n",
              "    <tr>\n",
              "      <th>16</th>\n",
              "      <td>-0.092690</td>\n",
              "      <td>Gate location</td>\n",
              "    </tr>\n",
              "    <tr>\n",
              "      <th>0</th>\n",
              "      <td>-0.052966</td>\n",
              "      <td>Gender_Male</td>\n",
              "    </tr>\n",
              "    <tr>\n",
              "      <th>1</th>\n",
              "      <td>-0.017496</td>\n",
              "      <td>Gender_unknown</td>\n",
              "    </tr>\n",
              "    <tr>\n",
              "      <th>17</th>\n",
              "      <td>0.127530</td>\n",
              "      <td>Food and drink</td>\n",
              "    </tr>\n",
              "    <tr>\n",
              "      <th>10</th>\n",
              "      <td>0.148762</td>\n",
              "      <td>Flight Distance</td>\n",
              "    </tr>\n",
              "    <tr>\n",
              "      <th>8</th>\n",
              "      <td>0.182647</td>\n",
              "      <td>Class_unknown</td>\n",
              "    </tr>\n",
              "    <tr>\n",
              "      <th>14</th>\n",
              "      <td>0.596564</td>\n",
              "      <td>Departure/Arrival time convenient</td>\n",
              "    </tr>\n",
              "    <tr>\n",
              "      <th>15</th>\n",
              "      <td>0.649406</td>\n",
              "      <td>Ease of Online booking</td>\n",
              "    </tr>\n",
              "    <tr>\n",
              "      <th>6</th>\n",
              "      <td>0.732270</td>\n",
              "      <td>Class_Eco</td>\n",
              "    </tr>\n",
              "    <tr>\n",
              "      <th>9</th>\n",
              "      <td>0.800023</td>\n",
              "      <td>Age</td>\n",
              "    </tr>\n",
              "    <tr>\n",
              "      <th>7</th>\n",
              "      <td>0.862016</td>\n",
              "      <td>Class_Eco Plus</td>\n",
              "    </tr>\n",
              "    <tr>\n",
              "      <th>5</th>\n",
              "      <td>1.062801</td>\n",
              "      <td>Type of Travel_unknown</td>\n",
              "    </tr>\n",
              "    <tr>\n",
              "      <th>3</th>\n",
              "      <td>1.357915</td>\n",
              "      <td>Customer Type_unknown</td>\n",
              "    </tr>\n",
              "    <tr>\n",
              "      <th>11</th>\n",
              "      <td>1.928037</td>\n",
              "      <td>Departure Delay in Minutes</td>\n",
              "    </tr>\n",
              "    <tr>\n",
              "      <th>2</th>\n",
              "      <td>2.027702</td>\n",
              "      <td>Customer Type_disloyal Customer</td>\n",
              "    </tr>\n",
              "    <tr>\n",
              "      <th>4</th>\n",
              "      <td>2.724931</td>\n",
              "      <td>Type of Travel_Personal Travel</td>\n",
              "    </tr>\n",
              "    <tr>\n",
              "      <th>12</th>\n",
              "      <td>3.718785</td>\n",
              "      <td>Arrival Delay in Minutes</td>\n",
              "    </tr>\n",
              "  </tbody>\n",
              "</table>\n",
              "</div>\n",
              "      <button class=\"colab-df-convert\" onclick=\"convertToInteractive('df-f846e91c-c585-4fd6-9f61-5c3d7918a797')\"\n",
              "              title=\"Convert this dataframe to an interactive table.\"\n",
              "              style=\"display:none;\">\n",
              "        \n",
              "  <svg xmlns=\"http://www.w3.org/2000/svg\" height=\"24px\"viewBox=\"0 0 24 24\"\n",
              "       width=\"24px\">\n",
              "    <path d=\"M0 0h24v24H0V0z\" fill=\"none\"/>\n",
              "    <path d=\"M18.56 5.44l.94 2.06.94-2.06 2.06-.94-2.06-.94-.94-2.06-.94 2.06-2.06.94zm-11 1L8.5 8.5l.94-2.06 2.06-.94-2.06-.94L8.5 2.5l-.94 2.06-2.06.94zm10 10l.94 2.06.94-2.06 2.06-.94-2.06-.94-.94-2.06-.94 2.06-2.06.94z\"/><path d=\"M17.41 7.96l-1.37-1.37c-.4-.4-.92-.59-1.43-.59-.52 0-1.04.2-1.43.59L10.3 9.45l-7.72 7.72c-.78.78-.78 2.05 0 2.83L4 21.41c.39.39.9.59 1.41.59.51 0 1.02-.2 1.41-.59l7.78-7.78 2.81-2.81c.8-.78.8-2.07 0-2.86zM5.41 20L4 18.59l7.72-7.72 1.47 1.35L5.41 20z\"/>\n",
              "  </svg>\n",
              "      </button>\n",
              "      \n",
              "  <style>\n",
              "    .colab-df-container {\n",
              "      display:flex;\n",
              "      flex-wrap:wrap;\n",
              "      gap: 12px;\n",
              "    }\n",
              "\n",
              "    .colab-df-convert {\n",
              "      background-color: #E8F0FE;\n",
              "      border: none;\n",
              "      border-radius: 50%;\n",
              "      cursor: pointer;\n",
              "      display: none;\n",
              "      fill: #1967D2;\n",
              "      height: 32px;\n",
              "      padding: 0 0 0 0;\n",
              "      width: 32px;\n",
              "    }\n",
              "\n",
              "    .colab-df-convert:hover {\n",
              "      background-color: #E2EBFA;\n",
              "      box-shadow: 0px 1px 2px rgba(60, 64, 67, 0.3), 0px 1px 3px 1px rgba(60, 64, 67, 0.15);\n",
              "      fill: #174EA6;\n",
              "    }\n",
              "\n",
              "    [theme=dark] .colab-df-convert {\n",
              "      background-color: #3B4455;\n",
              "      fill: #D2E3FC;\n",
              "    }\n",
              "\n",
              "    [theme=dark] .colab-df-convert:hover {\n",
              "      background-color: #434B5C;\n",
              "      box-shadow: 0px 1px 3px 1px rgba(0, 0, 0, 0.15);\n",
              "      filter: drop-shadow(0px 1px 2px rgba(0, 0, 0, 0.3));\n",
              "      fill: #FFFFFF;\n",
              "    }\n",
              "  </style>\n",
              "\n",
              "      <script>\n",
              "        const buttonEl =\n",
              "          document.querySelector('#df-f846e91c-c585-4fd6-9f61-5c3d7918a797 button.colab-df-convert');\n",
              "        buttonEl.style.display =\n",
              "          google.colab.kernel.accessAllowed ? 'block' : 'none';\n",
              "\n",
              "        async function convertToInteractive(key) {\n",
              "          const element = document.querySelector('#df-f846e91c-c585-4fd6-9f61-5c3d7918a797');\n",
              "          const dataTable =\n",
              "            await google.colab.kernel.invokeFunction('convertToInteractive',\n",
              "                                                     [key], {});\n",
              "          if (!dataTable) return;\n",
              "\n",
              "          const docLinkHtml = 'Like what you see? Visit the ' +\n",
              "            '<a target=\"_blank\" href=https://colab.research.google.com/notebooks/data_table.ipynb>data table notebook</a>'\n",
              "            + ' to learn more about interactive tables.';\n",
              "          element.innerHTML = '';\n",
              "          dataTable['output_type'] = 'display_data';\n",
              "          await google.colab.output.renderOutput(dataTable, element);\n",
              "          const docLink = document.createElement('div');\n",
              "          docLink.innerHTML = docLinkHtml;\n",
              "          element.appendChild(docLink);\n",
              "        }\n",
              "      </script>\n",
              "    </div>\n",
              "  </div>\n",
              "  "
            ]
          },
          "metadata": {},
          "execution_count": 381
        }
      ]
    },
    {
      "cell_type": "code",
      "source": [
        "import pickle\n",
        "\n",
        "with open('model.pickle', 'wb') as f:\n",
        "    pickle.dump(model, f)\n",
        "\n",
        "#а так модель можно загрузить из файла:\n",
        "with open('model.pickle', 'rb') as f:\n",
        "    model = pickle.load(f)"
      ],
      "metadata": {
        "id": "B_xgufhmngrY"
      },
      "execution_count": 382,
      "outputs": []
    },
    {
      "cell_type": "code",
      "source": [],
      "metadata": {
        "id": "JSCC-VVhqF84"
      },
      "execution_count": null,
      "outputs": []
    }
  ]
}